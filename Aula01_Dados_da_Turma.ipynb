{
  "nbformat": 4,
  "nbformat_minor": 0,
  "metadata": {
    "colab": {
      "name": "Aula01-Dados-da-Turma.ipynb",
      "provenance": [],
      "authorship_tag": "ABX9TyNVizf6785jRUfnMB/tyryE",
      "include_colab_link": true
    },
    "kernelspec": {
      "name": "python3",
      "display_name": "Python 3"
    }
  },
  "cells": [
    {
      "cell_type": "markdown",
      "metadata": {
        "id": "view-in-github",
        "colab_type": "text"
      },
      "source": [
        "<a href=\"https://colab.research.google.com/github/UERJ-FISICA/Fisica-Geral/blob/main/Aula01_Dados_da_Turma.ipynb\" target=\"_parent\"><img src=\"https://colab.research.google.com/assets/colab-badge.svg\" alt=\"Open In Colab\"/></a>"
      ]
    },
    {
      "cell_type": "code",
      "metadata": {
        "id": "E6gpz8CRV6VN"
      },
      "source": [
        "import numpy as np\r\n",
        "import pandas as pd\r\n",
        "import matplotlib as mpl\r\n",
        "import matplotlib.pyplot as plt"
      ],
      "execution_count": 1,
      "outputs": []
    },
    {
      "cell_type": "code",
      "metadata": {
        "colab": {
          "base_uri": "https://localhost:8080/"
        },
        "id": "jRyrwB0NJCkT",
        "outputId": "db8d4084-5745-46dc-a657-ab46dcb979dd"
      },
      "source": [
        "!curl -o Dados-alunos-2020-2.xlsx https://raw.githubusercontent.com/UERJ-FISICA/Fisica-Geral/main/dados/Dados-alunos-2020-2.xlsx"
      ],
      "execution_count": 2,
      "outputs": [
        {
          "output_type": "stream",
          "text": [
            "  % Total    % Received % Xferd  Average Speed   Time    Time     Time  Current\n",
            "                                 Dload  Upload   Total   Spent    Left  Speed\n",
            "\r  0     0    0     0    0     0      0      0 --:--:-- --:--:-- --:--:--     0\r100 17253  100 17253    0     0   234k      0 --:--:-- --:--:-- --:--:--  234k\n"
          ],
          "name": "stdout"
        }
      ]
    },
    {
      "cell_type": "code",
      "metadata": {
        "colab": {
          "base_uri": "https://localhost:8080/",
          "height": 1000
        },
        "id": "hFQxLqXwWaAp",
        "outputId": "412de48d-e0c1-42b2-e170-d277aa264b84"
      },
      "source": [
        "df = pd.read_excel( \"Dados-alunos-2020-2.xlsx\", sheet_name=\"Dados da turma\", index_col=0, usecols=[0,1,2,4], names=[\"Índice\", \"Idade (anos)\", \"Peso (kg)\", \"Altura (m)\"] )\r\n",
        "df"
      ],
      "execution_count": 3,
      "outputs": [
        {
          "output_type": "execute_result",
          "data": {
            "text/html": [
              "<div>\n",
              "<style scoped>\n",
              "    .dataframe tbody tr th:only-of-type {\n",
              "        vertical-align: middle;\n",
              "    }\n",
              "\n",
              "    .dataframe tbody tr th {\n",
              "        vertical-align: top;\n",
              "    }\n",
              "\n",
              "    .dataframe thead th {\n",
              "        text-align: right;\n",
              "    }\n",
              "</style>\n",
              "<table border=\"1\" class=\"dataframe\">\n",
              "  <thead>\n",
              "    <tr style=\"text-align: right;\">\n",
              "      <th></th>\n",
              "      <th>Idade (anos)</th>\n",
              "      <th>Peso (kg)</th>\n",
              "      <th>Altura (m)</th>\n",
              "    </tr>\n",
              "    <tr>\n",
              "      <th>Índice</th>\n",
              "      <th></th>\n",
              "      <th></th>\n",
              "      <th></th>\n",
              "    </tr>\n",
              "  </thead>\n",
              "  <tbody>\n",
              "    <tr>\n",
              "      <th>Renato Fernandes Chaves de Souza</th>\n",
              "      <td>39</td>\n",
              "      <td>97</td>\n",
              "      <td>1.78</td>\n",
              "    </tr>\n",
              "    <tr>\n",
              "      <th>Exemplo</th>\n",
              "      <td>39</td>\n",
              "      <td>100</td>\n",
              "      <td>1.90</td>\n",
              "    </tr>\n",
              "    <tr>\n",
              "      <th>Tauã Vasconcelos</th>\n",
              "      <td>23</td>\n",
              "      <td>80</td>\n",
              "      <td>1.83</td>\n",
              "    </tr>\n",
              "    <tr>\n",
              "      <th>José Gonçalves</th>\n",
              "      <td>19</td>\n",
              "      <td>60</td>\n",
              "      <td>1.65</td>\n",
              "    </tr>\n",
              "    <tr>\n",
              "      <th>Emilson Ribeiro Matos</th>\n",
              "      <td>21</td>\n",
              "      <td>72</td>\n",
              "      <td>1.82</td>\n",
              "    </tr>\n",
              "    <tr>\n",
              "      <th>Ramon Bento</th>\n",
              "      <td>21</td>\n",
              "      <td>62</td>\n",
              "      <td>1.79</td>\n",
              "    </tr>\n",
              "    <tr>\n",
              "      <th>Denis Machado Barbosa Jr</th>\n",
              "      <td>19</td>\n",
              "      <td>89</td>\n",
              "      <td>1.78</td>\n",
              "    </tr>\n",
              "    <tr>\n",
              "      <th>Pedro Andrade</th>\n",
              "      <td>43</td>\n",
              "      <td>75</td>\n",
              "      <td>1.80</td>\n",
              "    </tr>\n",
              "    <tr>\n",
              "      <th>Gabriele Pereira</th>\n",
              "      <td>20</td>\n",
              "      <td>85</td>\n",
              "      <td>1.70</td>\n",
              "    </tr>\n",
              "    <tr>\n",
              "      <th>Matheus Dias do Nascimento</th>\n",
              "      <td>20</td>\n",
              "      <td>72</td>\n",
              "      <td>1.90</td>\n",
              "    </tr>\n",
              "    <tr>\n",
              "      <th>Marco Aurélio de A. S. Santos</th>\n",
              "      <td>50</td>\n",
              "      <td>82</td>\n",
              "      <td>1.82</td>\n",
              "    </tr>\n",
              "    <tr>\n",
              "      <th>Gabriel Willian</th>\n",
              "      <td>21</td>\n",
              "      <td>130</td>\n",
              "      <td>1.83</td>\n",
              "    </tr>\n",
              "    <tr>\n",
              "      <th>Samuel Duran</th>\n",
              "      <td>19</td>\n",
              "      <td>65</td>\n",
              "      <td>1.85</td>\n",
              "    </tr>\n",
              "    <tr>\n",
              "      <th>Carlos Mailson da Silva Ferreira</th>\n",
              "      <td>20</td>\n",
              "      <td>74</td>\n",
              "      <td>1.67</td>\n",
              "    </tr>\n",
              "    <tr>\n",
              "      <th>Amanda Gomes</th>\n",
              "      <td>19</td>\n",
              "      <td>65</td>\n",
              "      <td>1.66</td>\n",
              "    </tr>\n",
              "    <tr>\n",
              "      <th>thalles potengy fontes</th>\n",
              "      <td>39</td>\n",
              "      <td>110</td>\n",
              "      <td>1.80</td>\n",
              "    </tr>\n",
              "    <tr>\n",
              "      <th>Fernanda Cabral</th>\n",
              "      <td>20</td>\n",
              "      <td>60</td>\n",
              "      <td>1.65</td>\n",
              "    </tr>\n",
              "    <tr>\n",
              "      <th>Lucas Vanderson Mendes da Costa</th>\n",
              "      <td>20</td>\n",
              "      <td>70</td>\n",
              "      <td>1.65</td>\n",
              "    </tr>\n",
              "    <tr>\n",
              "      <th>Clara Ribeiro Esteves</th>\n",
              "      <td>19</td>\n",
              "      <td>65</td>\n",
              "      <td>1.73</td>\n",
              "    </tr>\n",
              "    <tr>\n",
              "      <th>Luana Santana Ribeiro</th>\n",
              "      <td>19</td>\n",
              "      <td>75</td>\n",
              "      <td>1.72</td>\n",
              "    </tr>\n",
              "    <tr>\n",
              "      <th>Felipe Póvoa</th>\n",
              "      <td>20</td>\n",
              "      <td>70</td>\n",
              "      <td>1.65</td>\n",
              "    </tr>\n",
              "    <tr>\n",
              "      <th>Pedro Henrique de Jesus</th>\n",
              "      <td>19</td>\n",
              "      <td>60</td>\n",
              "      <td>1.80</td>\n",
              "    </tr>\n",
              "    <tr>\n",
              "      <th>Renato Fernandes Chaves de Souza</th>\n",
              "      <td>39</td>\n",
              "      <td>97</td>\n",
              "      <td>1.78</td>\n",
              "    </tr>\n",
              "    <tr>\n",
              "      <th>Mylena Guimarães Furtado</th>\n",
              "      <td>18</td>\n",
              "      <td>60</td>\n",
              "      <td>1.63</td>\n",
              "    </tr>\n",
              "    <tr>\n",
              "      <th>Lucas Rodrigues</th>\n",
              "      <td>22</td>\n",
              "      <td>68</td>\n",
              "      <td>1.73</td>\n",
              "    </tr>\n",
              "    <tr>\n",
              "      <th>Natalie Pinheiro</th>\n",
              "      <td>19</td>\n",
              "      <td>68</td>\n",
              "      <td>1.59</td>\n",
              "    </tr>\n",
              "    <tr>\n",
              "      <th>José Souza</th>\n",
              "      <td>20</td>\n",
              "      <td>90</td>\n",
              "      <td>1.76</td>\n",
              "    </tr>\n",
              "    <tr>\n",
              "      <th>Bruna Nunes</th>\n",
              "      <td>21</td>\n",
              "      <td>45</td>\n",
              "      <td>1.62</td>\n",
              "    </tr>\n",
              "    <tr>\n",
              "      <th>Andre Sá de Mattos</th>\n",
              "      <td>49</td>\n",
              "      <td>80</td>\n",
              "      <td>1.65</td>\n",
              "    </tr>\n",
              "    <tr>\n",
              "      <th>Lucas Romeu</th>\n",
              "      <td>27</td>\n",
              "      <td>53</td>\n",
              "      <td>1.69</td>\n",
              "    </tr>\n",
              "    <tr>\n",
              "      <th>Bruno Vilarim Gomes</th>\n",
              "      <td>19</td>\n",
              "      <td>62</td>\n",
              "      <td>1.84</td>\n",
              "    </tr>\n",
              "    <tr>\n",
              "      <th>Rodrigo Pinto</th>\n",
              "      <td>19</td>\n",
              "      <td>65</td>\n",
              "      <td>1.88</td>\n",
              "    </tr>\n",
              "    <tr>\n",
              "      <th>Mateus Fontes</th>\n",
              "      <td>31</td>\n",
              "      <td>95</td>\n",
              "      <td>1.76</td>\n",
              "    </tr>\n",
              "    <tr>\n",
              "      <th>Thayná Amorim</th>\n",
              "      <td>24</td>\n",
              "      <td>70</td>\n",
              "      <td>1.67</td>\n",
              "    </tr>\n",
              "    <tr>\n",
              "      <th>João Pedro Gomes da Matta</th>\n",
              "      <td>21</td>\n",
              "      <td>67</td>\n",
              "      <td>1.84</td>\n",
              "    </tr>\n",
              "    <tr>\n",
              "      <th>Rafael Maciel</th>\n",
              "      <td>19</td>\n",
              "      <td>73</td>\n",
              "      <td>1.68</td>\n",
              "    </tr>\n",
              "    <tr>\n",
              "      <th>Marcia Begalli</th>\n",
              "      <td>62</td>\n",
              "      <td>58</td>\n",
              "      <td>1.70</td>\n",
              "    </tr>\n",
              "    <tr>\n",
              "      <th>José Soares Barbosa</th>\n",
              "      <td>63</td>\n",
              "      <td>84</td>\n",
              "      <td>1.70</td>\n",
              "    </tr>\n",
              "    <tr>\n",
              "      <th>Gabriel Varandas</th>\n",
              "      <td>20</td>\n",
              "      <td>82</td>\n",
              "      <td>1.74</td>\n",
              "    </tr>\n",
              "  </tbody>\n",
              "</table>\n",
              "</div>"
            ],
            "text/plain": [
              "                                  Idade (anos)  Peso (kg)  Altura (m)\n",
              "Índice                                                               \n",
              "Renato Fernandes Chaves de Souza            39         97        1.78\n",
              "Exemplo                                     39        100        1.90\n",
              "Tauã Vasconcelos                            23         80        1.83\n",
              "José Gonçalves                              19         60        1.65\n",
              "Emilson Ribeiro Matos                       21         72        1.82\n",
              "Ramon Bento                                 21         62        1.79\n",
              "Denis Machado Barbosa Jr                    19         89        1.78\n",
              "Pedro Andrade                               43         75        1.80\n",
              "Gabriele Pereira                            20         85        1.70\n",
              "Matheus Dias do Nascimento                  20         72        1.90\n",
              "Marco Aurélio de A. S. Santos               50         82        1.82\n",
              "Gabriel Willian                             21        130        1.83\n",
              "Samuel Duran                                19         65        1.85\n",
              "Carlos Mailson da Silva Ferreira            20         74        1.67\n",
              "Amanda Gomes                                19         65        1.66\n",
              "thalles potengy fontes                      39        110        1.80\n",
              "Fernanda Cabral                             20         60        1.65\n",
              "Lucas Vanderson Mendes da Costa             20         70        1.65\n",
              "Clara Ribeiro Esteves                       19         65        1.73\n",
              "Luana Santana Ribeiro                       19         75        1.72\n",
              "Felipe Póvoa                                20         70        1.65\n",
              "Pedro Henrique de Jesus                     19         60        1.80\n",
              "Renato Fernandes Chaves de Souza            39         97        1.78\n",
              "Mylena Guimarães Furtado                    18         60        1.63\n",
              "Lucas Rodrigues                             22         68        1.73\n",
              "Natalie Pinheiro                            19         68        1.59\n",
              "José Souza                                  20         90        1.76\n",
              "Bruna Nunes                                 21         45        1.62\n",
              "Andre Sá de Mattos                          49         80        1.65\n",
              "Lucas Romeu                                 27         53        1.69\n",
              "Bruno Vilarim Gomes                         19         62        1.84\n",
              "Rodrigo Pinto                               19         65        1.88\n",
              "Mateus Fontes                               31         95        1.76\n",
              "Thayná Amorim                               24         70        1.67\n",
              "João Pedro Gomes da Matta                   21         67        1.84\n",
              "Rafael Maciel                               19         73        1.68\n",
              "Marcia Begalli                              62         58        1.70\n",
              "José Soares Barbosa                         63         84        1.70\n",
              "Gabriel Varandas                            20         82        1.74"
            ]
          },
          "metadata": {
            "tags": []
          },
          "execution_count": 3
        }
      ]
    },
    {
      "cell_type": "markdown",
      "metadata": {
        "id": "tSk05Fs_Yb0o"
      },
      "source": [
        "Altura"
      ]
    },
    {
      "cell_type": "code",
      "metadata": {
        "colab": {
          "base_uri": "https://localhost:8080/"
        },
        "id": "R4oeUlBbWqXA",
        "outputId": "e95a3ded-8860-47c0-adbe-4fd4535a09f1"
      },
      "source": [
        "array_Altura = df.iloc[:, 2]\r\n",
        "array_Altura"
      ],
      "execution_count": 4,
      "outputs": [
        {
          "output_type": "execute_result",
          "data": {
            "text/plain": [
              "Índice\n",
              "Renato Fernandes Chaves de Souza    1.78\n",
              "Exemplo                             1.90\n",
              "Tauã Vasconcelos                    1.83\n",
              "José Gonçalves                      1.65\n",
              "Emilson Ribeiro Matos               1.82\n",
              "Ramon Bento                         1.79\n",
              "Denis Machado Barbosa Jr            1.78\n",
              "Pedro Andrade                       1.80\n",
              "Gabriele Pereira                    1.70\n",
              "Matheus Dias do Nascimento          1.90\n",
              "Marco Aurélio de A. S. Santos       1.82\n",
              "Gabriel Willian                     1.83\n",
              "Samuel Duran                        1.85\n",
              "Carlos Mailson da Silva Ferreira    1.67\n",
              "Amanda Gomes                        1.66\n",
              "thalles potengy fontes              1.80\n",
              "Fernanda Cabral                     1.65\n",
              "Lucas Vanderson Mendes da Costa     1.65\n",
              "Clara Ribeiro Esteves               1.73\n",
              "Luana Santana Ribeiro               1.72\n",
              "Felipe Póvoa                        1.65\n",
              "Pedro Henrique de Jesus             1.80\n",
              "Renato Fernandes Chaves de Souza    1.78\n",
              "Mylena Guimarães Furtado            1.63\n",
              "Lucas Rodrigues                     1.73\n",
              "Natalie Pinheiro                    1.59\n",
              "José Souza                          1.76\n",
              "Bruna Nunes                         1.62\n",
              "Andre Sá de Mattos                  1.65\n",
              "Lucas Romeu                         1.69\n",
              "Bruno Vilarim Gomes                 1.84\n",
              "Rodrigo Pinto                       1.88\n",
              "Mateus Fontes                       1.76\n",
              "Thayná Amorim                       1.67\n",
              "João Pedro Gomes da Matta           1.84\n",
              "Rafael Maciel                       1.68\n",
              "Marcia Begalli                      1.70\n",
              "José Soares Barbosa                 1.70\n",
              "Gabriel Varandas                    1.74\n",
              "Name: Altura (m), dtype: float64"
            ]
          },
          "metadata": {
            "tags": []
          },
          "execution_count": 4
        }
      ]
    },
    {
      "cell_type": "code",
      "metadata": {
        "colab": {
          "base_uri": "https://localhost:8080/"
        },
        "id": "80_p_aipXANX",
        "outputId": "2a674a37-8a7b-4031-9ec3-2868f9d70d2b"
      },
      "source": [
        "np.mean( array_Altura )"
      ],
      "execution_count": 5,
      "outputs": [
        {
          "output_type": "execute_result",
          "data": {
            "text/plain": [
              "1.7446153846153845"
            ]
          },
          "metadata": {
            "tags": []
          },
          "execution_count": 5
        }
      ]
    },
    {
      "cell_type": "code",
      "metadata": {
        "colab": {
          "base_uri": "https://localhost:8080/"
        },
        "id": "GK6lW7KpX2Bk",
        "outputId": "969f2961-4707-4170-e634-88b480426284"
      },
      "source": [
        "np.sort( array_Altura )"
      ],
      "execution_count": 6,
      "outputs": [
        {
          "output_type": "execute_result",
          "data": {
            "text/plain": [
              "array([1.59, 1.62, 1.63, 1.65, 1.65, 1.65, 1.65, 1.65, 1.66, 1.67, 1.67,\n",
              "       1.68, 1.69, 1.7 , 1.7 , 1.7 , 1.72, 1.73, 1.73, 1.74, 1.76, 1.76,\n",
              "       1.78, 1.78, 1.78, 1.79, 1.8 , 1.8 , 1.8 , 1.82, 1.82, 1.83, 1.83,\n",
              "       1.84, 1.84, 1.85, 1.88, 1.9 , 1.9 ])"
            ]
          },
          "metadata": {
            "tags": []
          },
          "execution_count": 6
        }
      ]
    },
    {
      "cell_type": "code",
      "metadata": {
        "colab": {
          "base_uri": "https://localhost:8080/",
          "height": 413
        },
        "id": "mSSCwICOXOuv",
        "outputId": "e29f3696-1b58-4f20-9b69-998398e34b62"
      },
      "source": [
        "fig = plt.figure( figsize=(8,6) )\r\n",
        "\r\n",
        "counts, bins, _ = plt.hist( array_Altura, bins=9, range=(1.55, 2.00) )\r\n",
        "plt.xlim( 1.55, 2.00 )\r\n",
        "plt.xlabel( \"Altura (m)\", fontsize=18 )\r\n",
        "plt.ylabel( \"Frequência\", fontsize=18 )"
      ],
      "execution_count": 7,
      "outputs": [
        {
          "output_type": "execute_result",
          "data": {
            "text/plain": [
              "Text(0, 0.5, 'Frequência')"
            ]
          },
          "metadata": {
            "tags": []
          },
          "execution_count": 7
        },
        {
          "output_type": "display_data",
          "data": {
            "image/png": "[encoded data removed]",
            "text/plain": [
              "<Figure size 576x432 with 1 Axes>"
            ]
          },
          "metadata": {
            "tags": [],
            "needs_background": "light"
          }
        }
      ]
    },
    {
      "cell_type": "markdown",
      "metadata": {
        "id": "f_kxKfb7YftY"
      },
      "source": [
        "Idade"
      ]
    },
    {
      "cell_type": "code",
      "metadata": {
        "colab": {
          "base_uri": "https://localhost:8080/"
        },
        "id": "FzO6k2jrYGLF",
        "outputId": "0fd0f01e-1eb5-4802-da71-7ddb72ac7e32"
      },
      "source": [
        "array_Idade = df.iloc[:, 0]\r\n",
        "array_Idade"
      ],
      "execution_count": 8,
      "outputs": [
        {
          "output_type": "execute_result",
          "data": {
            "text/plain": [
              "Índice\n",
              "Renato Fernandes Chaves de Souza    39\n",
              "Exemplo                             39\n",
              "Tauã Vasconcelos                    23\n",
              "José Gonçalves                      19\n",
              "Emilson Ribeiro Matos               21\n",
              "Ramon Bento                         21\n",
              "Denis Machado Barbosa Jr            19\n",
              "Pedro Andrade                       43\n",
              "Gabriele Pereira                    20\n",
              "Matheus Dias do Nascimento          20\n",
              "Marco Aurélio de A. S. Santos       50\n",
              "Gabriel Willian                     21\n",
              "Samuel Duran                        19\n",
              "Carlos Mailson da Silva Ferreira    20\n",
              "Amanda Gomes                        19\n",
              "thalles potengy fontes              39\n",
              "Fernanda Cabral                     20\n",
              "Lucas Vanderson Mendes da Costa     20\n",
              "Clara Ribeiro Esteves               19\n",
              "Luana Santana Ribeiro               19\n",
              "Felipe Póvoa                        20\n",
              "Pedro Henrique de Jesus             19\n",
              "Renato Fernandes Chaves de Souza    39\n",
              "Mylena Guimarães Furtado            18\n",
              "Lucas Rodrigues                     22\n",
              "Natalie Pinheiro                    19\n",
              "José Souza                          20\n",
              "Bruna Nunes                         21\n",
              "Andre Sá de Mattos                  49\n",
              "Lucas Romeu                         27\n",
              "Bruno Vilarim Gomes                 19\n",
              "Rodrigo Pinto                       19\n",
              "Mateus Fontes                       31\n",
              "Thayná Amorim                       24\n",
              "João Pedro Gomes da Matta           21\n",
              "Rafael Maciel                       19\n",
              "Marcia Begalli                      62\n",
              "José Soares Barbosa                 63\n",
              "Gabriel Varandas                    20\n",
              "Name: Idade (anos), dtype: int64"
            ]
          },
          "metadata": {
            "tags": []
          },
          "execution_count": 8
        }
      ]
    },
    {
      "cell_type": "code",
      "metadata": {
        "colab": {
          "base_uri": "https://localhost:8080/"
        },
        "id": "nA17WOWAYxf0",
        "outputId": "648fe754-6a1c-49d9-df7a-1dda41706cc1"
      },
      "source": [
        "np.mean( array_Idade )"
      ],
      "execution_count": 9,
      "outputs": [
        {
          "output_type": "execute_result",
          "data": {
            "text/plain": [
              "26.71794871794872"
            ]
          },
          "metadata": {
            "tags": []
          },
          "execution_count": 9
        }
      ]
    },
    {
      "cell_type": "code",
      "metadata": {
        "colab": {
          "base_uri": "https://localhost:8080/"
        },
        "id": "GkTCo1pTYxf3",
        "outputId": "3d509974-f38c-4dff-d12c-019934811e43"
      },
      "source": [
        "np.sort( array_Idade )"
      ],
      "execution_count": 10,
      "outputs": [
        {
          "output_type": "execute_result",
          "data": {
            "text/plain": [
              "array([18, 19, 19, 19, 19, 19, 19, 19, 19, 19, 19, 19, 20, 20, 20, 20, 20,\n",
              "       20, 20, 20, 21, 21, 21, 21, 21, 22, 23, 24, 27, 31, 39, 39, 39, 39,\n",
              "       43, 49, 50, 62, 63])"
            ]
          },
          "metadata": {
            "tags": []
          },
          "execution_count": 10
        }
      ]
    },
    {
      "cell_type": "code",
      "metadata": {
        "colab": {
          "base_uri": "https://localhost:8080/",
          "height": 413
        },
        "id": "n4O-MCDuYxf4",
        "outputId": "5912bc0a-7deb-4b40-8382-55fc164818b6"
      },
      "source": [
        "fig = plt.figure( figsize=(8,6) )\r\n",
        "\r\n",
        "counts, bins, _ = plt.hist( array_Idade, bins=40, range=(15, 55) )\r\n",
        "plt.xlim( 15, 55 )\r\n",
        "plt.xlabel( \"Idade (anos)\", fontsize=18 )\r\n",
        "plt.ylabel( \"Frequência\", fontsize=18 )"
      ],
      "execution_count": 11,
      "outputs": [
        {
          "output_type": "execute_result",
          "data": {
            "text/plain": [
              "Text(0, 0.5, 'Frequência')"
            ]
          },
          "metadata": {
            "tags": []
          },
          "execution_count": 11
        },
        {
          "output_type": "display_data",
          "data": {
            "image/png": "[encoded data removed]",
            "text/plain": [
              "<Figure size 576x432 with 1 Axes>"
            ]
          },
          "metadata": {
            "tags": [],
            "needs_background": "light"
          }
        }
      ]
    },
    {
      "cell_type": "markdown",
      "metadata": {
        "id": "3lXjn0sKLSks"
      },
      "source": [
        "Peso"
      ]
    },
    {
      "cell_type": "code",
      "metadata": {
        "colab": {
          "base_uri": "https://localhost:8080/"
        },
        "id": "fBT6qGrbLReX",
        "outputId": "08466bc5-1c49-4df7-b5dd-40fbae762031"
      },
      "source": [
        "array_Peso = df.iloc[:, 1]\r\n",
        "array_Peso"
      ],
      "execution_count": 12,
      "outputs": [
        {
          "output_type": "execute_result",
          "data": {
            "text/plain": [
              "Índice\n",
              "Renato Fernandes Chaves de Souza     97\n",
              "Exemplo                             100\n",
              "Tauã Vasconcelos                     80\n",
              "José Gonçalves                       60\n",
              "Emilson Ribeiro Matos                72\n",
              "Ramon Bento                          62\n",
              "Denis Machado Barbosa Jr             89\n",
              "Pedro Andrade                        75\n",
              "Gabriele Pereira                     85\n",
              "Matheus Dias do Nascimento           72\n",
              "Marco Aurélio de A. S. Santos        82\n",
              "Gabriel Willian                     130\n",
              "Samuel Duran                         65\n",
              "Carlos Mailson da Silva Ferreira     74\n",
              "Amanda Gomes                         65\n",
              "thalles potengy fontes              110\n",
              "Fernanda Cabral                      60\n",
              "Lucas Vanderson Mendes da Costa      70\n",
              "Clara Ribeiro Esteves                65\n",
              "Luana Santana Ribeiro                75\n",
              "Felipe Póvoa                         70\n",
              "Pedro Henrique de Jesus              60\n",
              "Renato Fernandes Chaves de Souza     97\n",
              "Mylena Guimarães Furtado             60\n",
              "Lucas Rodrigues                      68\n",
              "Natalie Pinheiro                     68\n",
              "José Souza                           90\n",
              "Bruna Nunes                          45\n",
              "Andre Sá de Mattos                   80\n",
              "Lucas Romeu                          53\n",
              "Bruno Vilarim Gomes                  62\n",
              "Rodrigo Pinto                        65\n",
              "Mateus Fontes                        95\n",
              "Thayná Amorim                        70\n",
              "João Pedro Gomes da Matta            67\n",
              "Rafael Maciel                        73\n",
              "Marcia Begalli                       58\n",
              "José Soares Barbosa                  84\n",
              "Gabriel Varandas                     82\n",
              "Name: Peso (kg), dtype: int64"
            ]
          },
          "metadata": {
            "tags": []
          },
          "execution_count": 12
        }
      ]
    },
    {
      "cell_type": "code",
      "metadata": {
        "colab": {
          "base_uri": "https://localhost:8080/"
        },
        "id": "noPnFzXSLRea",
        "outputId": "1ec2bb02-9300-4e66-e9f7-66a56f2f780f"
      },
      "source": [
        "np.mean( array_Peso )"
      ],
      "execution_count": 13,
      "outputs": [
        {
          "output_type": "execute_result",
          "data": {
            "text/plain": [
              "75.25641025641026"
            ]
          },
          "metadata": {
            "tags": []
          },
          "execution_count": 13
        }
      ]
    },
    {
      "cell_type": "code",
      "metadata": {
        "colab": {
          "base_uri": "https://localhost:8080/"
        },
        "id": "awDIFiKHLRea",
        "outputId": "8ae4c455-39fd-423c-a896-30cc530b14d2"
      },
      "source": [
        "np.sort( array_Peso )"
      ],
      "execution_count": 14,
      "outputs": [
        {
          "output_type": "execute_result",
          "data": {
            "text/plain": [
              "array([ 45,  53,  58,  60,  60,  60,  60,  62,  62,  65,  65,  65,  65,\n",
              "        67,  68,  68,  70,  70,  70,  72,  72,  73,  74,  75,  75,  80,\n",
              "        80,  82,  82,  84,  85,  89,  90,  95,  97,  97, 100, 110, 130])"
            ]
          },
          "metadata": {
            "tags": []
          },
          "execution_count": 14
        }
      ]
    },
    {
      "cell_type": "code",
      "metadata": {
        "colab": {
          "base_uri": "https://localhost:8080/",
          "height": 413
        },
        "id": "7FwJxbkHLReb",
        "outputId": "827ae946-c0cc-4529-8ca5-ace1c0d82d52"
      },
      "source": [
        "fig = plt.figure( figsize=(8,6) )\r\n",
        "\r\n",
        "counts, bins, _ = plt.hist( array_Peso, bins=10, range=(40., 140.) )\r\n",
        "plt.xlim( 40., 140. )\r\n",
        "plt.xlabel( \"Peso (kg)\", fontsize=18 )\r\n",
        "plt.ylabel( \"Frequência\", fontsize=18 )"
      ],
      "execution_count": 15,
      "outputs": [
        {
          "output_type": "execute_result",
          "data": {
            "text/plain": [
              "Text(0, 0.5, 'Frequência')"
            ]
          },
          "metadata": {
            "tags": []
          },
          "execution_count": 15
        },
        {
          "output_type": "display_data",
          "data": {
            "image/png": "[encoded data removed]",
            "text/plain": [
              "<Figure size 576x432 with 1 Axes>"
            ]
          },
          "metadata": {
            "tags": [],
            "needs_background": "light"
          }
        }
      ]
    },
    {
      "cell_type": "markdown",
      "metadata": {
        "id": "HIiA6cYsLu40"
      },
      "source": [
        "Correlação entre variáveis"
      ]
    },
    {
      "cell_type": "code",
      "metadata": {
        "colab": {
          "base_uri": "https://localhost:8080/",
          "height": 417
        },
        "id": "Z3BO_y96Oc9X",
        "outputId": "93525e0f-408b-477f-d009-24ef59688d16"
      },
      "source": [
        "fig = plt.figure( figsize=(8,6) )\r\n",
        "\r\n",
        "plt.plot( array_Altura, array_Peso, 'o' )\r\n",
        "plt.xlim( 1.55, 2.00 )\r\n",
        "plt.ylim( 40., 140. )\r\n",
        "plt.xlabel( \"Altura (m)\", fontsize=18 )\r\n",
        "plt.ylabel( \"Peso (kg)\", fontsize=18 )"
      ],
      "execution_count": 16,
      "outputs": [
        {
          "output_type": "execute_result",
          "data": {
            "text/plain": [
              "Text(0, 0.5, 'Peso (kg)')"
            ]
          },
          "metadata": {
            "tags": []
          },
          "execution_count": 16
        },
        {
          "output_type": "display_data",
          "data": {
            "image/png": "[encoded data removed]",
            "text/plain": [
              "<Figure size 576x432 with 1 Axes>"
            ]
          },
          "metadata": {
            "tags": [],
            "needs_background": "light"
          }
        }
      ]
    },
    {
      "cell_type": "code",
      "metadata": {
        "colab": {
          "base_uri": "https://localhost:8080/",
          "height": 417
        },
        "id": "tu60RRsGO-8C",
        "outputId": "dfcb5fe6-638e-4b7b-abff-0729190aa3f3"
      },
      "source": [
        "fig = plt.figure( figsize=(8,6) )\r\n",
        "\r\n",
        "plt.plot( array_Idade, array_Altura, 'o' )\r\n",
        "plt.xlim( 15, 55 )\r\n",
        "plt.ylim( 1.55, 2.00 )\r\n",
        "plt.xlabel( \"Idade (anos)\", fontsize=18 )\r\n",
        "plt.ylabel( \"Altura (m)\", fontsize=18 )"
      ],
      "execution_count": 17,
      "outputs": [
        {
          "output_type": "execute_result",
          "data": {
            "text/plain": [
              "Text(0, 0.5, 'Altura (m)')"
            ]
          },
          "metadata": {
            "tags": []
          },
          "execution_count": 17
        },
        {
          "output_type": "display_data",
          "data": {
            "image/png": "[encoded data removed]",
            "text/plain": [
              "<Figure size 576x432 with 1 Axes>"
            ]
          },
          "metadata": {
            "tags": [],
            "needs_background": "light"
          }
        }
      ]
    },
    {
      "cell_type": "code",
      "metadata": {
        "colab": {
          "base_uri": "https://localhost:8080/",
          "height": 417
        },
        "id": "5ohqUW8jO_9v",
        "outputId": "dda8f95f-1dae-4b1f-d134-2e2d707c195f"
      },
      "source": [
        "fig = plt.figure( figsize=(8,6) )\r\n",
        "\r\n",
        "plt.plot( array_Idade, array_Peso, 'o' )\r\n",
        "plt.xlim( 15, 55 )\r\n",
        "plt.ylim( 40., 140. )\r\n",
        "plt.xlabel( \"Idade (anos)\", fontsize=18 )\r\n",
        "plt.ylabel( \"Peso (kg)\", fontsize=18 )"
      ],
      "execution_count": 18,
      "outputs": [
        {
          "output_type": "execute_result",
          "data": {
            "text/plain": [
              "Text(0, 0.5, 'Peso (kg)')"
            ]
          },
          "metadata": {
            "tags": []
          },
          "execution_count": 18
        },
        {
          "output_type": "display_data",
          "data": {
            "image/png": "[encoded data removed]",
            "text/plain": [
              "<Figure size 576x432 with 1 Axes>"
            ]
          },
          "metadata": {
            "tags": [],
            "needs_background": "light"
          }
        }
      ]
    },
    {
      "cell_type": "code",
      "metadata": {
        "colab": {
          "base_uri": "https://localhost:8080/"
        },
        "id": "MAkHtP6sMda1",
        "outputId": "da16c48f-ee6a-4169-d258-02297fddd9b1"
      },
      "source": [
        "var_Altura = np.var( array_Altura, ddof=0 )\r\n",
        "var_Altura"
      ],
      "execution_count": 19,
      "outputs": [
        {
          "output_type": "execute_result",
          "data": {
            "text/plain": [
              "0.006850493096646944"
            ]
          },
          "metadata": {
            "tags": []
          },
          "execution_count": 19
        }
      ]
    },
    {
      "cell_type": "code",
      "metadata": {
        "colab": {
          "base_uri": "https://localhost:8080/"
        },
        "id": "OEcY4BmYNKk9",
        "outputId": "88d4dfb5-e6cc-4aca-94de-0b779817b320"
      },
      "source": [
        "var_Idade = np.var( array_Idade, ddof=0 )\r\n",
        "var_Idade"
      ],
      "execution_count": 20,
      "outputs": [
        {
          "output_type": "execute_result",
          "data": {
            "text/plain": [
              "148.35634451019067"
            ]
          },
          "metadata": {
            "tags": []
          },
          "execution_count": 20
        }
      ]
    },
    {
      "cell_type": "code",
      "metadata": {
        "colab": {
          "base_uri": "https://localhost:8080/"
        },
        "id": "MrsxjlvHNL50",
        "outputId": "8e583878-bdb7-44b1-ccee-765e2faa7b16"
      },
      "source": [
        "var_Peso = np.var( array_Peso, ddof=0 )\r\n",
        "var_Peso"
      ],
      "execution_count": 21,
      "outputs": [
        {
          "output_type": "execute_result",
          "data": {
            "text/plain": [
              "270.80604865220243"
            ]
          },
          "metadata": {
            "tags": []
          },
          "execution_count": 21
        }
      ]
    },
    {
      "cell_type": "code",
      "metadata": {
        "colab": {
          "base_uri": "https://localhost:8080/"
        },
        "id": "oO8HSqI0I-cW",
        "outputId": "c53ec61a-adbe-4664-c2ce-cfff23d4eddb"
      },
      "source": [
        "cov_Altura_Peso = np.cov( array_Altura, array_Peso, ddof=0 )\r\n",
        "cov_Altura_Peso"
      ],
      "execution_count": 22,
      "outputs": [
        {
          "output_type": "execute_result",
          "data": {
            "text/plain": [
              "array([[6.85049310e-03, 5.16508876e-01],\n",
              "       [5.16508876e-01, 2.70806049e+02]])"
            ]
          },
          "metadata": {
            "tags": []
          },
          "execution_count": 22
        }
      ]
    },
    {
      "cell_type": "code",
      "metadata": {
        "colab": {
          "base_uri": "https://localhost:8080/"
        },
        "id": "cizq8oJDNmc2",
        "outputId": "7ea76626-67b7-4f9c-e37e-9bd9bdb30659"
      },
      "source": [
        "cov_Altura_Peso[0,0]"
      ],
      "execution_count": 23,
      "outputs": [
        {
          "output_type": "execute_result",
          "data": {
            "text/plain": [
              "0.006850493096646946"
            ]
          },
          "metadata": {
            "tags": []
          },
          "execution_count": 23
        }
      ]
    },
    {
      "cell_type": "code",
      "metadata": {
        "colab": {
          "base_uri": "https://localhost:8080/"
        },
        "id": "FZ79z7OONrXG",
        "outputId": "269d2616-5db4-4b3b-d202-d6f556453ada"
      },
      "source": [
        "cov_Altura_Peso[1,1]"
      ],
      "execution_count": 24,
      "outputs": [
        {
          "output_type": "execute_result",
          "data": {
            "text/plain": [
              "270.8060486522024"
            ]
          },
          "metadata": {
            "tags": []
          },
          "execution_count": 24
        }
      ]
    },
    {
      "cell_type": "code",
      "metadata": {
        "colab": {
          "base_uri": "https://localhost:8080/"
        },
        "id": "dK5TZRaDNr8R",
        "outputId": "ab9bbcbe-158b-4a3f-eff1-a39edb1f562e"
      },
      "source": [
        "cov_Altura_Peso[0,1]"
      ],
      "execution_count": 25,
      "outputs": [
        {
          "output_type": "execute_result",
          "data": {
            "text/plain": [
              "0.5165088757396452"
            ]
          },
          "metadata": {
            "tags": []
          },
          "execution_count": 25
        }
      ]
    },
    {
      "cell_type": "code",
      "metadata": {
        "colab": {
          "base_uri": "https://localhost:8080/"
        },
        "id": "7jhndEK8NxiA",
        "outputId": "95743aac-d64a-4f2f-9b7b-1823cbb21143"
      },
      "source": [
        "cov_Altura_Peso[0,1] / ( np.sqrt( var_Altura ) * np.sqrt( var_Peso ) )"
      ],
      "execution_count": 26,
      "outputs": [
        {
          "output_type": "execute_result",
          "data": {
            "text/plain": [
              "0.37921690742886827"
            ]
          },
          "metadata": {
            "tags": []
          },
          "execution_count": 26
        }
      ]
    },
    {
      "cell_type": "code",
      "metadata": {
        "colab": {
          "base_uri": "https://localhost:8080/"
        },
        "id": "NCEbDA06JBE_",
        "outputId": "cd6fb186-0951-43fe-ae2f-4d4d47347ab4"
      },
      "source": [
        "cov_Idade_Altura = np.cov( array_Idade, array_Altura, ddof=0 )\r\n",
        "cov_Idade_Altura"
      ],
      "execution_count": 27,
      "outputs": [
        {
          "output_type": "execute_result",
          "data": {
            "text/plain": [
              "array([[1.48356345e+02, 6.36094675e-02],\n",
              "       [6.36094675e-02, 6.85049310e-03]])"
            ]
          },
          "metadata": {
            "tags": []
          },
          "execution_count": 27
        }
      ]
    },
    {
      "cell_type": "code",
      "metadata": {
        "colab": {
          "base_uri": "https://localhost:8080/"
        },
        "id": "U5oMGrxXN-Qi",
        "outputId": "78c6bdf9-5540-4dec-95de-0c41e9f93b17"
      },
      "source": [
        "cov_Idade_Altura[0,0]"
      ],
      "execution_count": 28,
      "outputs": [
        {
          "output_type": "execute_result",
          "data": {
            "text/plain": [
              "148.35634451019064"
            ]
          },
          "metadata": {
            "tags": []
          },
          "execution_count": 28
        }
      ]
    },
    {
      "cell_type": "code",
      "metadata": {
        "colab": {
          "base_uri": "https://localhost:8080/"
        },
        "id": "lLNLauhAN-Qq",
        "outputId": "c4b209fc-2b95-4695-b8f0-efcf0afd35dd"
      },
      "source": [
        "cov_Idade_Altura[1,1]"
      ],
      "execution_count": 29,
      "outputs": [
        {
          "output_type": "execute_result",
          "data": {
            "text/plain": [
              "0.006850493096646946"
            ]
          },
          "metadata": {
            "tags": []
          },
          "execution_count": 29
        }
      ]
    },
    {
      "cell_type": "code",
      "metadata": {
        "colab": {
          "base_uri": "https://localhost:8080/"
        },
        "id": "-oIr5uPVN-Qq",
        "outputId": "fa0adc22-f924-44f7-b495-47916c1978ce"
      },
      "source": [
        "cov_Idade_Altura[0,1]"
      ],
      "execution_count": 30,
      "outputs": [
        {
          "output_type": "execute_result",
          "data": {
            "text/plain": [
              "0.06360946745562136"
            ]
          },
          "metadata": {
            "tags": []
          },
          "execution_count": 30
        }
      ]
    },
    {
      "cell_type": "code",
      "metadata": {
        "colab": {
          "base_uri": "https://localhost:8080/"
        },
        "id": "rhOoYW7FN-Qq",
        "outputId": "dcca1010-f35d-4869-c6f3-133b6bae4e33"
      },
      "source": [
        "cov_Idade_Altura[0,1] / ( np.sqrt( var_Idade ) * np.sqrt( var_Altura ) )"
      ],
      "execution_count": 31,
      "outputs": [
        {
          "output_type": "execute_result",
          "data": {
            "text/plain": [
              "0.06309686494056838"
            ]
          },
          "metadata": {
            "tags": []
          },
          "execution_count": 31
        }
      ]
    },
    {
      "cell_type": "code",
      "metadata": {
        "colab": {
          "base_uri": "https://localhost:8080/"
        },
        "id": "mSnzM624MR07",
        "outputId": "c7ea9ccb-5e7d-46dc-c891-d917666add40"
      },
      "source": [
        "cov_Idade_Peso = np.cov( array_Idade, array_Peso, ddof=0 )\r\n",
        "cov_Idade_Peso"
      ],
      "execution_count": 32,
      "outputs": [
        {
          "output_type": "execute_result",
          "data": {
            "text/plain": [
              "array([[148.35634451,  53.66206443],\n",
              "       [ 53.66206443, 270.80604865]])"
            ]
          },
          "metadata": {
            "tags": []
          },
          "execution_count": 32
        }
      ]
    },
    {
      "cell_type": "code",
      "metadata": {
        "colab": {
          "base_uri": "https://localhost:8080/"
        },
        "id": "z3JaVynyOO4V",
        "outputId": "67774437-9471-41cd-cd86-dbac8054d371"
      },
      "source": [
        "cov_Idade_Peso[0,0]"
      ],
      "execution_count": 33,
      "outputs": [
        {
          "output_type": "execute_result",
          "data": {
            "text/plain": [
              "148.35634451019064"
            ]
          },
          "metadata": {
            "tags": []
          },
          "execution_count": 33
        }
      ]
    },
    {
      "cell_type": "code",
      "metadata": {
        "colab": {
          "base_uri": "https://localhost:8080/"
        },
        "id": "Iwtl3UZOOO4W",
        "outputId": "84378877-bba6-4a5a-ed60-01b2007abf4b"
      },
      "source": [
        "cov_Idade_Peso[1,1]"
      ],
      "execution_count": 34,
      "outputs": [
        {
          "output_type": "execute_result",
          "data": {
            "text/plain": [
              "270.8060486522024"
            ]
          },
          "metadata": {
            "tags": []
          },
          "execution_count": 34
        }
      ]
    },
    {
      "cell_type": "code",
      "metadata": {
        "colab": {
          "base_uri": "https://localhost:8080/"
        },
        "id": "pvo-FpbpOO4W",
        "outputId": "41f99f83-d62e-4bc8-abd7-99ad55b7a5bc"
      },
      "source": [
        "cov_Idade_Peso[0,1]"
      ],
      "execution_count": 35,
      "outputs": [
        {
          "output_type": "execute_result",
          "data": {
            "text/plain": [
              "53.66206443129521"
            ]
          },
          "metadata": {
            "tags": []
          },
          "execution_count": 35
        }
      ]
    },
    {
      "cell_type": "code",
      "metadata": {
        "colab": {
          "base_uri": "https://localhost:8080/"
        },
        "id": "_AuoYix9OO4W",
        "outputId": "6cb82cf2-a4e9-4e13-c56c-e332bc3c19a8"
      },
      "source": [
        "cov_Idade_Peso[0,1] / ( np.sqrt( var_Idade ) * np.sqrt( var_Peso ) )"
      ],
      "execution_count": 36,
      "outputs": [
        {
          "output_type": "execute_result",
          "data": {
            "text/plain": [
              "0.26772266180350274"
            ]
          },
          "metadata": {
            "tags": []
          },
          "execution_count": 36
        }
      ]
    }
  ]
}