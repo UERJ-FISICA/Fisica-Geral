{
  "nbformat": 4,
  "nbformat_minor": 0,
  "metadata": {
    "colab": {
      "name": "Aula01-Dados-da-Turma.ipynb",
      "provenance": [],
      "include_colab_link": true
    },
    "kernelspec": {
      "name": "python3",
      "display_name": "Python 3"
    }
  },
  "cells": [
    {
      "cell_type": "markdown",
      "metadata": {
        "id": "view-in-github",
        "colab_type": "text"
      },
      "source": [
        "<a href=\"https://colab.research.google.com/github/UERJ-FISICA/Fisica-Geral/blob/main/Aula01_Dados_da_Turma.ipynb\" target=\"_parent\"><img src=\"https://colab.research.google.com/assets/colab-badge.svg\" alt=\"Open In Colab\"/></a>"
      ]
    },
    {
      "cell_type": "code",
      "metadata": {
        "id": "E6gpz8CRV6VN"
      },
      "source": [
        "import numpy as np\r\n",
        "import pandas as pd\r\n",
        "import matplotlib as mpl\r\n",
        "import matplotlib.pyplot as plt"
      ],
      "execution_count": 1,
      "outputs": []
    },
    {
      "cell_type": "markdown",
      "metadata": {
        "id": "1ikM_jc93RdJ"
      },
      "source": [
        "Tabela de idades, pesos e alturas:"
      ]
    },
    {
      "cell_type": "code",
      "metadata": {
        "colab": {
          "base_uri": "https://localhost:8080/"
        },
        "id": "jRyrwB0NJCkT",
        "outputId": "e764b2ea-605f-4f3c-84f9-acdbf68c358d"
      },
      "source": [
        "!curl -o Dados-alunos-2020-2.xlsx https://raw.githubusercontent.com/UERJ-FISICA/Fisica-Geral/main/dados/Dados-alunos-2020-2.xlsx"
      ],
      "execution_count": 2,
      "outputs": [
        {
          "output_type": "stream",
          "text": [
            "  % Total    % Received % Xferd  Average Speed   Time    Time     Time  Current\n",
            "                                 Dload  Upload   Total   Spent    Left  Speed\n",
            "\r  0     0    0     0    0     0      0      0 --:--:-- --:--:-- --:--:--     0\r100 23349  100 23349    0     0   340k      0 --:--:-- --:--:-- --:--:--  340k\n"
          ],
          "name": "stdout"
        }
      ]
    },
    {
      "cell_type": "code",
      "metadata": {
        "id": "qql5tOsgb6Jl"
      },
      "source": [
        "# array_Idade = np.array( [ 39, 33, 39, 23, 19, 21, 21, 19, 43, 20, 20, 50, 21, 19, 20, 19, 39,\r\n",
        "#                           20, 20, 19, 19, 20, 19, 39, 18, 22, 19, 20, 21, 49, 27, 19, 19, 31,\r\n",
        "#                           24, 21, 19, 62, 63, 20, 29, 19, 18, 20, 20, 21, 18, 18, 18, 18, 20,\r\n",
        "#                           30, 22, 20, 29, 26 ] )\r\n",
        "# array_Peso = np.array( [ 100,  75,  97,  80,  60,  72,  62,  89,  75,  85,  72,  82, 130,\r\n",
        "#                          65,  74,  65, 110,  60,  70,  65,  75,  70,  60,  97,  60,  68,\r\n",
        "#                          68,  90,  45,  80,  53,  62,  65,  95,  70,  67,  73,  58,  84,\r\n",
        "#                          82,  84,  88,  60,  75, 120, 100,  90,  78,  55,  90,  60,  73,\r\n",
        "#                          80,  56,  80,  83 ] )\r\n",
        "# array_Altura = np.array( [ 1.9 , 1.8 , 1.78, 1.83, 1.65, 1.82, 1.79, 1.78, 1.8 , 1.7 , 1.9 ,\r\n",
        "#                            1.82, 1.83, 1.85, 1.67, 1.66, 1.8 , 1.65, 1.65, 1.73, 1.72, 1.65,\r\n",
        "#                            1.8 , 1.78, 1.63, 1.73, 1.59, 1.76, 1.62, 1.65, 1.69, 1.84, 1.88,\r\n",
        "#                            1.76, 1.67, 1.84, 1.68, 1.7 , 1.7 , 1.74, 1.82, 1.75, 1.53, 1.76,\r\n",
        "#                            1.85, 1.78, 1.9 , 1.74, 1.85, 1.75, 1.67, 1.68, 1.82, 1.5 , 1.8 ,\r\n",
        "#                            1.8 ] )"
      ],
      "execution_count": 3,
      "outputs": []
    },
    {
      "cell_type": "code",
      "metadata": {
        "colab": {
          "base_uri": "https://localhost:8080/",
          "height": 1000
        },
        "id": "hFQxLqXwWaAp",
        "outputId": "eefb1f86-7c34-44f6-cfbc-9bba36db46d9"
      },
      "source": [
        "df = pd.read_excel( \"Dados-alunos-2020-2.xlsx\", sheet_name=\"Dados da turma\", usecols=[0,1,2,4], nrows=56, index_col=0, names=[\"Índice\", \"Idade\", \"Peso\", \"Altura\"] )\r\n",
        "df"
      ],
      "execution_count": 4,
      "outputs": [
        {
          "output_type": "execute_result",
          "data": {
            "text/html": [
              "<div>\n",
              "<style scoped>\n",
              "    .dataframe tbody tr th:only-of-type {\n",
              "        vertical-align: middle;\n",
              "    }\n",
              "\n",
              "    .dataframe tbody tr th {\n",
              "        vertical-align: top;\n",
              "    }\n",
              "\n",
              "    .dataframe thead th {\n",
              "        text-align: right;\n",
              "    }\n",
              "</style>\n",
              "<table border=\"1\" class=\"dataframe\">\n",
              "  <thead>\n",
              "    <tr style=\"text-align: right;\">\n",
              "      <th></th>\n",
              "      <th>Idade</th>\n",
              "      <th>Peso</th>\n",
              "      <th>Altura</th>\n",
              "    </tr>\n",
              "    <tr>\n",
              "      <th>Índice</th>\n",
              "      <th></th>\n",
              "      <th></th>\n",
              "      <th></th>\n",
              "    </tr>\n",
              "  </thead>\n",
              "  <tbody>\n",
              "    <tr>\n",
              "      <th>Exemplo</th>\n",
              "      <td>39</td>\n",
              "      <td>100</td>\n",
              "      <td>1.90</td>\n",
              "    </tr>\n",
              "    <tr>\n",
              "      <th>Carlos Alberto</th>\n",
              "      <td>33</td>\n",
              "      <td>75</td>\n",
              "      <td>1.80</td>\n",
              "    </tr>\n",
              "    <tr>\n",
              "      <th>Renato Fernandes Chaves de Souza</th>\n",
              "      <td>39</td>\n",
              "      <td>97</td>\n",
              "      <td>1.78</td>\n",
              "    </tr>\n",
              "    <tr>\n",
              "      <th>Tauã Vasconcelos</th>\n",
              "      <td>23</td>\n",
              "      <td>80</td>\n",
              "      <td>1.83</td>\n",
              "    </tr>\n",
              "    <tr>\n",
              "      <th>José Gonçalves</th>\n",
              "      <td>19</td>\n",
              "      <td>60</td>\n",
              "      <td>1.65</td>\n",
              "    </tr>\n",
              "    <tr>\n",
              "      <th>Emilson Ribeiro Matos</th>\n",
              "      <td>21</td>\n",
              "      <td>72</td>\n",
              "      <td>1.82</td>\n",
              "    </tr>\n",
              "    <tr>\n",
              "      <th>Ramon Bento</th>\n",
              "      <td>21</td>\n",
              "      <td>62</td>\n",
              "      <td>1.79</td>\n",
              "    </tr>\n",
              "    <tr>\n",
              "      <th>Denis Machado Barbosa Jr</th>\n",
              "      <td>19</td>\n",
              "      <td>89</td>\n",
              "      <td>1.78</td>\n",
              "    </tr>\n",
              "    <tr>\n",
              "      <th>Pedro Andrade</th>\n",
              "      <td>43</td>\n",
              "      <td>75</td>\n",
              "      <td>1.80</td>\n",
              "    </tr>\n",
              "    <tr>\n",
              "      <th>Gabriele Pereira</th>\n",
              "      <td>20</td>\n",
              "      <td>85</td>\n",
              "      <td>1.70</td>\n",
              "    </tr>\n",
              "    <tr>\n",
              "      <th>Matheus Dias do Nascimento</th>\n",
              "      <td>20</td>\n",
              "      <td>72</td>\n",
              "      <td>1.90</td>\n",
              "    </tr>\n",
              "    <tr>\n",
              "      <th>Marco Aurélio de A. S. Santos</th>\n",
              "      <td>50</td>\n",
              "      <td>82</td>\n",
              "      <td>1.82</td>\n",
              "    </tr>\n",
              "    <tr>\n",
              "      <th>Gabriel Willian</th>\n",
              "      <td>21</td>\n",
              "      <td>130</td>\n",
              "      <td>1.83</td>\n",
              "    </tr>\n",
              "    <tr>\n",
              "      <th>Samuel Duran</th>\n",
              "      <td>19</td>\n",
              "      <td>65</td>\n",
              "      <td>1.85</td>\n",
              "    </tr>\n",
              "    <tr>\n",
              "      <th>Carlos Mailson da Silva Ferreira</th>\n",
              "      <td>20</td>\n",
              "      <td>74</td>\n",
              "      <td>1.67</td>\n",
              "    </tr>\n",
              "    <tr>\n",
              "      <th>Amanda Gomes</th>\n",
              "      <td>19</td>\n",
              "      <td>65</td>\n",
              "      <td>1.66</td>\n",
              "    </tr>\n",
              "    <tr>\n",
              "      <th>thalles potengy fontes</th>\n",
              "      <td>39</td>\n",
              "      <td>110</td>\n",
              "      <td>1.80</td>\n",
              "    </tr>\n",
              "    <tr>\n",
              "      <th>Fernanda Cabral</th>\n",
              "      <td>20</td>\n",
              "      <td>60</td>\n",
              "      <td>1.65</td>\n",
              "    </tr>\n",
              "    <tr>\n",
              "      <th>Lucas Vanderson Mendes da Costa</th>\n",
              "      <td>20</td>\n",
              "      <td>70</td>\n",
              "      <td>1.65</td>\n",
              "    </tr>\n",
              "    <tr>\n",
              "      <th>Clara Ribeiro Esteves</th>\n",
              "      <td>19</td>\n",
              "      <td>65</td>\n",
              "      <td>1.73</td>\n",
              "    </tr>\n",
              "    <tr>\n",
              "      <th>Luana Santana Ribeiro</th>\n",
              "      <td>19</td>\n",
              "      <td>75</td>\n",
              "      <td>1.72</td>\n",
              "    </tr>\n",
              "    <tr>\n",
              "      <th>Felipe Póvoa</th>\n",
              "      <td>20</td>\n",
              "      <td>70</td>\n",
              "      <td>1.65</td>\n",
              "    </tr>\n",
              "    <tr>\n",
              "      <th>Pedro Henrique de Jesus</th>\n",
              "      <td>19</td>\n",
              "      <td>60</td>\n",
              "      <td>1.80</td>\n",
              "    </tr>\n",
              "    <tr>\n",
              "      <th>Renato Fernandes Chaves de Souza</th>\n",
              "      <td>39</td>\n",
              "      <td>97</td>\n",
              "      <td>1.78</td>\n",
              "    </tr>\n",
              "    <tr>\n",
              "      <th>Mylena Guimarães Furtado</th>\n",
              "      <td>18</td>\n",
              "      <td>60</td>\n",
              "      <td>1.63</td>\n",
              "    </tr>\n",
              "    <tr>\n",
              "      <th>Lucas Rodrigues</th>\n",
              "      <td>22</td>\n",
              "      <td>68</td>\n",
              "      <td>1.73</td>\n",
              "    </tr>\n",
              "    <tr>\n",
              "      <th>Natalie Pinheiro</th>\n",
              "      <td>19</td>\n",
              "      <td>68</td>\n",
              "      <td>1.59</td>\n",
              "    </tr>\n",
              "    <tr>\n",
              "      <th>José Souza</th>\n",
              "      <td>20</td>\n",
              "      <td>90</td>\n",
              "      <td>1.76</td>\n",
              "    </tr>\n",
              "    <tr>\n",
              "      <th>Bruna Nunes</th>\n",
              "      <td>21</td>\n",
              "      <td>45</td>\n",
              "      <td>1.62</td>\n",
              "    </tr>\n",
              "    <tr>\n",
              "      <th>Andre Sá de Mattos</th>\n",
              "      <td>49</td>\n",
              "      <td>80</td>\n",
              "      <td>1.65</td>\n",
              "    </tr>\n",
              "    <tr>\n",
              "      <th>Lucas Romeu</th>\n",
              "      <td>27</td>\n",
              "      <td>53</td>\n",
              "      <td>1.69</td>\n",
              "    </tr>\n",
              "    <tr>\n",
              "      <th>Bruno Vilarim Gomes</th>\n",
              "      <td>19</td>\n",
              "      <td>62</td>\n",
              "      <td>1.84</td>\n",
              "    </tr>\n",
              "    <tr>\n",
              "      <th>Rodrigo Pinto</th>\n",
              "      <td>19</td>\n",
              "      <td>65</td>\n",
              "      <td>1.88</td>\n",
              "    </tr>\n",
              "    <tr>\n",
              "      <th>Mateus Fontes</th>\n",
              "      <td>31</td>\n",
              "      <td>95</td>\n",
              "      <td>1.76</td>\n",
              "    </tr>\n",
              "    <tr>\n",
              "      <th>Thayná Amorim</th>\n",
              "      <td>24</td>\n",
              "      <td>70</td>\n",
              "      <td>1.67</td>\n",
              "    </tr>\n",
              "    <tr>\n",
              "      <th>João Pedro Gomes da Matta</th>\n",
              "      <td>21</td>\n",
              "      <td>67</td>\n",
              "      <td>1.84</td>\n",
              "    </tr>\n",
              "    <tr>\n",
              "      <th>Rafael Maciel</th>\n",
              "      <td>19</td>\n",
              "      <td>73</td>\n",
              "      <td>1.68</td>\n",
              "    </tr>\n",
              "    <tr>\n",
              "      <th>Marcia Begalli</th>\n",
              "      <td>62</td>\n",
              "      <td>58</td>\n",
              "      <td>1.70</td>\n",
              "    </tr>\n",
              "    <tr>\n",
              "      <th>José Soares Barbosa</th>\n",
              "      <td>63</td>\n",
              "      <td>84</td>\n",
              "      <td>1.70</td>\n",
              "    </tr>\n",
              "    <tr>\n",
              "      <th>Gabriel Varandas</th>\n",
              "      <td>20</td>\n",
              "      <td>82</td>\n",
              "      <td>1.74</td>\n",
              "    </tr>\n",
              "    <tr>\n",
              "      <th>Jonathan Sienkiewicz</th>\n",
              "      <td>29</td>\n",
              "      <td>84</td>\n",
              "      <td>1.82</td>\n",
              "    </tr>\n",
              "    <tr>\n",
              "      <th>Vitor Cial M. D. Brito</th>\n",
              "      <td>19</td>\n",
              "      <td>88</td>\n",
              "      <td>1.75</td>\n",
              "    </tr>\n",
              "    <tr>\n",
              "      <th>Manu Damaschio</th>\n",
              "      <td>18</td>\n",
              "      <td>60</td>\n",
              "      <td>1.53</td>\n",
              "    </tr>\n",
              "    <tr>\n",
              "      <th>Otávio Rodrigues</th>\n",
              "      <td>20</td>\n",
              "      <td>75</td>\n",
              "      <td>1.76</td>\n",
              "    </tr>\n",
              "    <tr>\n",
              "      <th>José Junior de Jesus Oliveira</th>\n",
              "      <td>20</td>\n",
              "      <td>120</td>\n",
              "      <td>1.85</td>\n",
              "    </tr>\n",
              "    <tr>\n",
              "      <th>Gabriel de Jesus</th>\n",
              "      <td>21</td>\n",
              "      <td>100</td>\n",
              "      <td>1.78</td>\n",
              "    </tr>\n",
              "    <tr>\n",
              "      <th>Virgílio Pita</th>\n",
              "      <td>18</td>\n",
              "      <td>90</td>\n",
              "      <td>1.90</td>\n",
              "    </tr>\n",
              "    <tr>\n",
              "      <th>Nícolas Gonçalves</th>\n",
              "      <td>18</td>\n",
              "      <td>78</td>\n",
              "      <td>1.74</td>\n",
              "    </tr>\n",
              "    <tr>\n",
              "      <th>Miguel Abranches</th>\n",
              "      <td>18</td>\n",
              "      <td>55</td>\n",
              "      <td>1.85</td>\n",
              "    </tr>\n",
              "    <tr>\n",
              "      <th>Gabrielle da Silva</th>\n",
              "      <td>18</td>\n",
              "      <td>90</td>\n",
              "      <td>1.75</td>\n",
              "    </tr>\n",
              "    <tr>\n",
              "      <th>Thiago Fernandes</th>\n",
              "      <td>20</td>\n",
              "      <td>60</td>\n",
              "      <td>1.67</td>\n",
              "    </tr>\n",
              "    <tr>\n",
              "      <th>Diego Meira</th>\n",
              "      <td>30</td>\n",
              "      <td>73</td>\n",
              "      <td>1.68</td>\n",
              "    </tr>\n",
              "    <tr>\n",
              "      <th>Felipe Barreto</th>\n",
              "      <td>22</td>\n",
              "      <td>80</td>\n",
              "      <td>1.82</td>\n",
              "    </tr>\n",
              "    <tr>\n",
              "      <th>Ariany Mattos</th>\n",
              "      <td>20</td>\n",
              "      <td>56</td>\n",
              "      <td>1.50</td>\n",
              "    </tr>\n",
              "    <tr>\n",
              "      <th>Yan Lobo</th>\n",
              "      <td>29</td>\n",
              "      <td>80</td>\n",
              "      <td>1.80</td>\n",
              "    </tr>\n",
              "    <tr>\n",
              "      <th>Romulo Ferreira</th>\n",
              "      <td>26</td>\n",
              "      <td>83</td>\n",
              "      <td>1.80</td>\n",
              "    </tr>\n",
              "  </tbody>\n",
              "</table>\n",
              "</div>"
            ],
            "text/plain": [
              "                                  Idade  Peso  Altura\n",
              "Índice                                               \n",
              "Exemplo                              39   100    1.90\n",
              "Carlos Alberto                       33    75    1.80\n",
              "Renato Fernandes Chaves de Souza     39    97    1.78\n",
              "Tauã Vasconcelos                     23    80    1.83\n",
              "José Gonçalves                       19    60    1.65\n",
              "Emilson Ribeiro Matos                21    72    1.82\n",
              "Ramon Bento                          21    62    1.79\n",
              "Denis Machado Barbosa Jr             19    89    1.78\n",
              "Pedro Andrade                        43    75    1.80\n",
              "Gabriele Pereira                     20    85    1.70\n",
              "Matheus Dias do Nascimento           20    72    1.90\n",
              "Marco Aurélio de A. S. Santos        50    82    1.82\n",
              "Gabriel Willian                      21   130    1.83\n",
              "Samuel Duran                         19    65    1.85\n",
              "Carlos Mailson da Silva Ferreira     20    74    1.67\n",
              "Amanda Gomes                         19    65    1.66\n",
              "thalles potengy fontes               39   110    1.80\n",
              "Fernanda Cabral                      20    60    1.65\n",
              "Lucas Vanderson Mendes da Costa      20    70    1.65\n",
              "Clara Ribeiro Esteves                19    65    1.73\n",
              "Luana Santana Ribeiro                19    75    1.72\n",
              "Felipe Póvoa                         20    70    1.65\n",
              "Pedro Henrique de Jesus              19    60    1.80\n",
              "Renato Fernandes Chaves de Souza     39    97    1.78\n",
              "Mylena Guimarães Furtado             18    60    1.63\n",
              "Lucas Rodrigues                      22    68    1.73\n",
              "Natalie Pinheiro                     19    68    1.59\n",
              "José Souza                           20    90    1.76\n",
              "Bruna Nunes                          21    45    1.62\n",
              "Andre Sá de Mattos                   49    80    1.65\n",
              "Lucas Romeu                          27    53    1.69\n",
              "Bruno Vilarim Gomes                  19    62    1.84\n",
              "Rodrigo Pinto                        19    65    1.88\n",
              "Mateus Fontes                        31    95    1.76\n",
              "Thayná Amorim                        24    70    1.67\n",
              "João Pedro Gomes da Matta            21    67    1.84\n",
              "Rafael Maciel                        19    73    1.68\n",
              "Marcia Begalli                       62    58    1.70\n",
              "José Soares Barbosa                  63    84    1.70\n",
              "Gabriel Varandas                     20    82    1.74\n",
              "Jonathan Sienkiewicz                 29    84    1.82\n",
              "Vitor Cial M. D. Brito               19    88    1.75\n",
              "Manu Damaschio                       18    60    1.53\n",
              "Otávio Rodrigues                     20    75    1.76\n",
              "José Junior de Jesus Oliveira        20   120    1.85\n",
              "Gabriel de Jesus                     21   100    1.78\n",
              "Virgílio Pita                        18    90    1.90\n",
              "Nícolas Gonçalves                    18    78    1.74\n",
              "Miguel Abranches                     18    55    1.85\n",
              "Gabrielle da Silva                   18    90    1.75\n",
              "Thiago Fernandes                     20    60    1.67\n",
              "Diego Meira                          30    73    1.68\n",
              "Felipe Barreto                       22    80    1.82\n",
              "Ariany Mattos                        20    56    1.50\n",
              "Yan Lobo                             29    80    1.80\n",
              "Romulo Ferreira                      26    83    1.80"
            ]
          },
          "metadata": {
            "tags": []
          },
          "execution_count": 4
        }
      ]
    },
    {
      "cell_type": "markdown",
      "metadata": {
        "id": "f_kxKfb7YftY"
      },
      "source": [
        "Idade:"
      ]
    },
    {
      "cell_type": "code",
      "metadata": {
        "colab": {
          "base_uri": "https://localhost:8080/"
        },
        "id": "FzO6k2jrYGLF",
        "outputId": "3ae5d260-9802-4d81-8f8d-b9a3ade2e9ee"
      },
      "source": [
        "#array_Idade = df.iloc[:, 0]\r\n",
        "array_Idade = df[ \"Idade\" ]\r\n",
        "array_Idade"
      ],
      "execution_count": 5,
      "outputs": [
        {
          "output_type": "execute_result",
          "data": {
            "text/plain": [
              "Índice\n",
              "Exemplo                             39\n",
              "Carlos Alberto                      33\n",
              "Renato Fernandes Chaves de Souza    39\n",
              "Tauã Vasconcelos                    23\n",
              "José Gonçalves                      19\n",
              "Emilson Ribeiro Matos               21\n",
              "Ramon Bento                         21\n",
              "Denis Machado Barbosa Jr            19\n",
              "Pedro Andrade                       43\n",
              "Gabriele Pereira                    20\n",
              "Matheus Dias do Nascimento          20\n",
              "Marco Aurélio de A. S. Santos       50\n",
              "Gabriel Willian                     21\n",
              "Samuel Duran                        19\n",
              "Carlos Mailson da Silva Ferreira    20\n",
              "Amanda Gomes                        19\n",
              "thalles potengy fontes              39\n",
              "Fernanda Cabral                     20\n",
              "Lucas Vanderson Mendes da Costa     20\n",
              "Clara Ribeiro Esteves               19\n",
              "Luana Santana Ribeiro               19\n",
              "Felipe Póvoa                        20\n",
              "Pedro Henrique de Jesus             19\n",
              "Renato Fernandes Chaves de Souza    39\n",
              "Mylena Guimarães Furtado            18\n",
              "Lucas Rodrigues                     22\n",
              "Natalie Pinheiro                    19\n",
              "José Souza                          20\n",
              "Bruna Nunes                         21\n",
              "Andre Sá de Mattos                  49\n",
              "Lucas Romeu                         27\n",
              "Bruno Vilarim Gomes                 19\n",
              "Rodrigo Pinto                       19\n",
              "Mateus Fontes                       31\n",
              "Thayná Amorim                       24\n",
              "João Pedro Gomes da Matta           21\n",
              "Rafael Maciel                       19\n",
              "Marcia Begalli                      62\n",
              "José Soares Barbosa                 63\n",
              "Gabriel Varandas                    20\n",
              "Jonathan Sienkiewicz                29\n",
              "Vitor Cial M. D. Brito              19\n",
              "Manu Damaschio                      18\n",
              "Otávio Rodrigues                    20\n",
              "José Junior de Jesus Oliveira       20\n",
              "Gabriel de Jesus                    21\n",
              "Virgílio Pita                       18\n",
              "Nícolas Gonçalves                   18\n",
              "Miguel Abranches                    18\n",
              "Gabrielle da Silva                  18\n",
              "Thiago Fernandes                    20\n",
              "Diego Meira                         30\n",
              "Felipe Barreto                      22\n",
              "Ariany Mattos                       20\n",
              "Yan Lobo                            29\n",
              "Romulo Ferreira                     26\n",
              "Name: Idade, dtype: int64"
            ]
          },
          "metadata": {
            "tags": []
          },
          "execution_count": 5
        }
      ]
    },
    {
      "cell_type": "code",
      "metadata": {
        "colab": {
          "base_uri": "https://localhost:8080/"
        },
        "id": "nA17WOWAYxf0",
        "outputId": "be74868f-98ba-4d8d-ac3b-2bcbbcc7eadb"
      },
      "source": [
        "np.mean( array_Idade )"
      ],
      "execution_count": 6,
      "outputs": [
        {
          "output_type": "execute_result",
          "data": {
            "text/plain": [
              "25.375"
            ]
          },
          "metadata": {
            "tags": []
          },
          "execution_count": 6
        }
      ]
    },
    {
      "cell_type": "code",
      "metadata": {
        "colab": {
          "base_uri": "https://localhost:8080/"
        },
        "id": "GkTCo1pTYxf3",
        "outputId": "26a42b0c-89ef-45a5-e6fa-553d187bfa56"
      },
      "source": [
        "np.sort( array_Idade )"
      ],
      "execution_count": 7,
      "outputs": [
        {
          "output_type": "execute_result",
          "data": {
            "text/plain": [
              "array([18, 18, 18, 18, 18, 18, 19, 19, 19, 19, 19, 19, 19, 19, 19, 19, 19,\n",
              "       19, 20, 20, 20, 20, 20, 20, 20, 20, 20, 20, 20, 20, 21, 21, 21, 21,\n",
              "       21, 21, 22, 22, 23, 24, 26, 27, 29, 29, 30, 31, 33, 39, 39, 39, 39,\n",
              "       43, 49, 50, 62, 63])"
            ]
          },
          "metadata": {
            "tags": []
          },
          "execution_count": 7
        }
      ]
    },
    {
      "cell_type": "code",
      "metadata": {
        "colab": {
          "base_uri": "https://localhost:8080/",
          "height": 413
        },
        "id": "n4O-MCDuYxf4",
        "outputId": "c319c25f-755f-4999-8ad8-b474428f3b9f"
      },
      "source": [
        "fig = plt.figure( figsize=(8,6) )\r\n",
        "\r\n",
        "counts, bins, _ = plt.hist( array_Idade, bins=40, range=(15, 55) )\r\n",
        "plt.xlim( 15, 55 )\r\n",
        "plt.xlabel( \"Idade (anos)\", fontsize=18 )\r\n",
        "plt.ylabel( \"Frequência\", fontsize=18 )"
      ],
      "execution_count": 8,
      "outputs": [
        {
          "output_type": "execute_result",
          "data": {
            "text/plain": [
              "Text(0, 0.5, 'Frequência')"
            ]
          },
          "metadata": {
            "tags": []
          },
          "execution_count": 8
        },
        {
          "output_type": "display_data",
          "data": {
            "image/png": "[encoded data removed]",
            "text/plain": [
              "<Figure size 576x432 with 1 Axes>"
            ]
          },
          "metadata": {
            "tags": [],
            "needs_background": "light"
          }
        }
      ]
    },
    {
      "cell_type": "markdown",
      "metadata": {
        "id": "3lXjn0sKLSks"
      },
      "source": [
        "Peso:"
      ]
    },
    {
      "cell_type": "code",
      "metadata": {
        "colab": {
          "base_uri": "https://localhost:8080/"
        },
        "id": "fBT6qGrbLReX",
        "outputId": "3d845efc-ae8b-4369-a9bf-d9837d47a817"
      },
      "source": [
        "#array_Peso = df.iloc[:, 1]\r\n",
        "array_Peso = df[ \"Peso\" ]\r\n",
        "array_Peso"
      ],
      "execution_count": 9,
      "outputs": [
        {
          "output_type": "execute_result",
          "data": {
            "text/plain": [
              "Índice\n",
              "Exemplo                             100\n",
              "Carlos Alberto                       75\n",
              "Renato Fernandes Chaves de Souza     97\n",
              "Tauã Vasconcelos                     80\n",
              "José Gonçalves                       60\n",
              "Emilson Ribeiro Matos                72\n",
              "Ramon Bento                          62\n",
              "Denis Machado Barbosa Jr             89\n",
              "Pedro Andrade                        75\n",
              "Gabriele Pereira                     85\n",
              "Matheus Dias do Nascimento           72\n",
              "Marco Aurélio de A. S. Santos        82\n",
              "Gabriel Willian                     130\n",
              "Samuel Duran                         65\n",
              "Carlos Mailson da Silva Ferreira     74\n",
              "Amanda Gomes                         65\n",
              "thalles potengy fontes              110\n",
              "Fernanda Cabral                      60\n",
              "Lucas Vanderson Mendes da Costa      70\n",
              "Clara Ribeiro Esteves                65\n",
              "Luana Santana Ribeiro                75\n",
              "Felipe Póvoa                         70\n",
              "Pedro Henrique de Jesus              60\n",
              "Renato Fernandes Chaves de Souza     97\n",
              "Mylena Guimarães Furtado             60\n",
              "Lucas Rodrigues                      68\n",
              "Natalie Pinheiro                     68\n",
              "José Souza                           90\n",
              "Bruna Nunes                          45\n",
              "Andre Sá de Mattos                   80\n",
              "Lucas Romeu                          53\n",
              "Bruno Vilarim Gomes                  62\n",
              "Rodrigo Pinto                        65\n",
              "Mateus Fontes                        95\n",
              "Thayná Amorim                        70\n",
              "João Pedro Gomes da Matta            67\n",
              "Rafael Maciel                        73\n",
              "Marcia Begalli                       58\n",
              "José Soares Barbosa                  84\n",
              "Gabriel Varandas                     82\n",
              "Jonathan Sienkiewicz                 84\n",
              "Vitor Cial M. D. Brito               88\n",
              "Manu Damaschio                       60\n",
              "Otávio Rodrigues                     75\n",
              "José Junior de Jesus Oliveira       120\n",
              "Gabriel de Jesus                    100\n",
              "Virgílio Pita                        90\n",
              "Nícolas Gonçalves                    78\n",
              "Miguel Abranches                     55\n",
              "Gabrielle da Silva                   90\n",
              "Thiago Fernandes                     60\n",
              "Diego Meira                          73\n",
              "Felipe Barreto                       80\n",
              "Ariany Mattos                        56\n",
              "Yan Lobo                             80\n",
              "Romulo Ferreira                      83\n",
              "Name: Peso, dtype: int64"
            ]
          },
          "metadata": {
            "tags": []
          },
          "execution_count": 9
        }
      ]
    },
    {
      "cell_type": "code",
      "metadata": {
        "colab": {
          "base_uri": "https://localhost:8080/"
        },
        "id": "noPnFzXSLRea",
        "outputId": "263a188f-3d42-491e-edd6-4def634047ee"
      },
      "source": [
        "np.mean( array_Peso )"
      ],
      "execution_count": 10,
      "outputs": [
        {
          "output_type": "execute_result",
          "data": {
            "text/plain": [
              "76.46428571428571"
            ]
          },
          "metadata": {
            "tags": []
          },
          "execution_count": 10
        }
      ]
    },
    {
      "cell_type": "code",
      "metadata": {
        "colab": {
          "base_uri": "https://localhost:8080/"
        },
        "id": "awDIFiKHLRea",
        "outputId": "5dff9583-5df1-4e0c-a570-bef8a0792467"
      },
      "source": [
        "np.sort( array_Peso )"
      ],
      "execution_count": 11,
      "outputs": [
        {
          "output_type": "execute_result",
          "data": {
            "text/plain": [
              "array([ 45,  53,  55,  56,  58,  60,  60,  60,  60,  60,  60,  62,  62,\n",
              "        65,  65,  65,  65,  67,  68,  68,  70,  70,  70,  72,  72,  73,\n",
              "        73,  74,  75,  75,  75,  75,  78,  80,  80,  80,  80,  82,  82,\n",
              "        83,  84,  84,  85,  88,  89,  90,  90,  90,  95,  97,  97, 100,\n",
              "       100, 110, 120, 130])"
            ]
          },
          "metadata": {
            "tags": []
          },
          "execution_count": 11
        }
      ]
    },
    {
      "cell_type": "code",
      "metadata": {
        "colab": {
          "base_uri": "https://localhost:8080/",
          "height": 413
        },
        "id": "7FwJxbkHLReb",
        "outputId": "382cdfa2-76ab-44d3-e084-8fea8605a666"
      },
      "source": [
        "fig = plt.figure( figsize=(8,6) )\r\n",
        "\r\n",
        "counts, bins, _ = plt.hist( array_Peso, bins=10, range=(40., 140.) )\r\n",
        "plt.xlim( 40., 140. )\r\n",
        "plt.xlabel( \"Peso (kg)\", fontsize=18 )\r\n",
        "plt.ylabel( \"Frequência\", fontsize=18 )"
      ],
      "execution_count": 12,
      "outputs": [
        {
          "output_type": "execute_result",
          "data": {
            "text/plain": [
              "Text(0, 0.5, 'Frequência')"
            ]
          },
          "metadata": {
            "tags": []
          },
          "execution_count": 12
        },
        {
          "output_type": "display_data",
          "data": {
            "image/png": "[encoded data removed]",
            "text/plain": [
              "<Figure size 576x432 with 1 Axes>"
            ]
          },
          "metadata": {
            "tags": [],
            "needs_background": "light"
          }
        }
      ]
    },
    {
      "cell_type": "markdown",
      "metadata": {
        "id": "oDRjgBLX6X9A"
      },
      "source": [
        "Altura:"
      ]
    },
    {
      "cell_type": "code",
      "metadata": {
        "colab": {
          "base_uri": "https://localhost:8080/"
        },
        "id": "mepbn-wQ6X9D",
        "outputId": "e6163a73-6ca0-4657-a41a-1f841d48915b"
      },
      "source": [
        "#array_Altura = df.iloc[:, 2]\r\n",
        "array_Altura = df[ \"Altura\" ]\r\n",
        "array_Altura"
      ],
      "execution_count": 13,
      "outputs": [
        {
          "output_type": "execute_result",
          "data": {
            "text/plain": [
              "Índice\n",
              "Exemplo                             1.90\n",
              "Carlos Alberto                      1.80\n",
              "Renato Fernandes Chaves de Souza    1.78\n",
              "Tauã Vasconcelos                    1.83\n",
              "José Gonçalves                      1.65\n",
              "Emilson Ribeiro Matos               1.82\n",
              "Ramon Bento                         1.79\n",
              "Denis Machado Barbosa Jr            1.78\n",
              "Pedro Andrade                       1.80\n",
              "Gabriele Pereira                    1.70\n",
              "Matheus Dias do Nascimento          1.90\n",
              "Marco Aurélio de A. S. Santos       1.82\n",
              "Gabriel Willian                     1.83\n",
              "Samuel Duran                        1.85\n",
              "Carlos Mailson da Silva Ferreira    1.67\n",
              "Amanda Gomes                        1.66\n",
              "thalles potengy fontes              1.80\n",
              "Fernanda Cabral                     1.65\n",
              "Lucas Vanderson Mendes da Costa     1.65\n",
              "Clara Ribeiro Esteves               1.73\n",
              "Luana Santana Ribeiro               1.72\n",
              "Felipe Póvoa                        1.65\n",
              "Pedro Henrique de Jesus             1.80\n",
              "Renato Fernandes Chaves de Souza    1.78\n",
              "Mylena Guimarães Furtado            1.63\n",
              "Lucas Rodrigues                     1.73\n",
              "Natalie Pinheiro                    1.59\n",
              "José Souza                          1.76\n",
              "Bruna Nunes                         1.62\n",
              "Andre Sá de Mattos                  1.65\n",
              "Lucas Romeu                         1.69\n",
              "Bruno Vilarim Gomes                 1.84\n",
              "Rodrigo Pinto                       1.88\n",
              "Mateus Fontes                       1.76\n",
              "Thayná Amorim                       1.67\n",
              "João Pedro Gomes da Matta           1.84\n",
              "Rafael Maciel                       1.68\n",
              "Marcia Begalli                      1.70\n",
              "José Soares Barbosa                 1.70\n",
              "Gabriel Varandas                    1.74\n",
              "Jonathan Sienkiewicz                1.82\n",
              "Vitor Cial M. D. Brito              1.75\n",
              "Manu Damaschio                      1.53\n",
              "Otávio Rodrigues                    1.76\n",
              "José Junior de Jesus Oliveira       1.85\n",
              "Gabriel de Jesus                    1.78\n",
              "Virgílio Pita                       1.90\n",
              "Nícolas Gonçalves                   1.74\n",
              "Miguel Abranches                    1.85\n",
              "Gabrielle da Silva                  1.75\n",
              "Thiago Fernandes                    1.67\n",
              "Diego Meira                         1.68\n",
              "Felipe Barreto                      1.82\n",
              "Ariany Mattos                       1.50\n",
              "Yan Lobo                            1.80\n",
              "Romulo Ferreira                     1.80\n",
              "Name: Altura, dtype: float64"
            ]
          },
          "metadata": {
            "tags": []
          },
          "execution_count": 13
        }
      ]
    },
    {
      "cell_type": "code",
      "metadata": {
        "colab": {
          "base_uri": "https://localhost:8080/"
        },
        "id": "jwbvz9N36X9F",
        "outputId": "82ebf218-2a48-42f2-a37b-9324614ac5ec"
      },
      "source": [
        "np.mean( array_Altura )"
      ],
      "execution_count": 14,
      "outputs": [
        {
          "output_type": "execute_result",
          "data": {
            "text/plain": [
              "1.7471428571428569"
            ]
          },
          "metadata": {
            "tags": []
          },
          "execution_count": 14
        }
      ]
    },
    {
      "cell_type": "code",
      "metadata": {
        "colab": {
          "base_uri": "https://localhost:8080/"
        },
        "id": "94H7jDKV6X9I",
        "outputId": "55faf1ab-3963-4f0a-9c58-5798f358942b"
      },
      "source": [
        "np.sort( array_Altura )"
      ],
      "execution_count": 15,
      "outputs": [
        {
          "output_type": "execute_result",
          "data": {
            "text/plain": [
              "array([1.5 , 1.53, 1.59, 1.62, 1.63, 1.65, 1.65, 1.65, 1.65, 1.65, 1.66,\n",
              "       1.67, 1.67, 1.67, 1.68, 1.68, 1.69, 1.7 , 1.7 , 1.7 , 1.72, 1.73,\n",
              "       1.73, 1.74, 1.74, 1.75, 1.75, 1.76, 1.76, 1.76, 1.78, 1.78, 1.78,\n",
              "       1.78, 1.79, 1.8 , 1.8 , 1.8 , 1.8 , 1.8 , 1.8 , 1.82, 1.82, 1.82,\n",
              "       1.82, 1.83, 1.83, 1.84, 1.84, 1.85, 1.85, 1.85, 1.88, 1.9 , 1.9 ,\n",
              "       1.9 ])"
            ]
          },
          "metadata": {
            "tags": []
          },
          "execution_count": 15
        }
      ]
    },
    {
      "cell_type": "code",
      "metadata": {
        "colab": {
          "base_uri": "https://localhost:8080/",
          "height": 413
        },
        "id": "oYPruljm6X9M",
        "outputId": "f4548fc9-a280-4519-9e72-417e5a436eb9"
      },
      "source": [
        "fig = plt.figure( figsize=(8,6) )\r\n",
        "\r\n",
        "counts, bins, _ = plt.hist( array_Altura, bins=9, range=(1.55, 2.00) )\r\n",
        "plt.xlim( 1.55, 2.00 )\r\n",
        "plt.xlabel( \"Altura (m)\", fontsize=18 )\r\n",
        "plt.ylabel( \"Frequência\", fontsize=18 )"
      ],
      "execution_count": 16,
      "outputs": [
        {
          "output_type": "execute_result",
          "data": {
            "text/plain": [
              "Text(0, 0.5, 'Frequência')"
            ]
          },
          "metadata": {
            "tags": []
          },
          "execution_count": 16
        },
        {
          "output_type": "display_data",
          "data": {
            "image/png": "[encoded data removed]",
            "text/plain": [
              "<Figure size 576x432 with 1 Axes>"
            ]
          },
          "metadata": {
            "tags": [],
            "needs_background": "light"
          }
        }
      ]
    },
    {
      "cell_type": "markdown",
      "metadata": {
        "id": "HIiA6cYsLu40"
      },
      "source": [
        "Correlação Idade vs Peso:"
      ]
    },
    {
      "cell_type": "code",
      "metadata": {
        "id": "5ohqUW8jO_9v",
        "colab": {
          "base_uri": "https://localhost:8080/",
          "height": 417
        },
        "outputId": "76fe9263-8cdb-427b-a2f7-ce134587b8c0"
      },
      "source": [
        "fig = plt.figure( figsize=(8,6) )\r\n",
        "\r\n",
        "plt.plot( array_Idade, array_Peso, 'o' )\r\n",
        "plt.xlim( 15, 55 )\r\n",
        "plt.ylim( 40., 140. )\r\n",
        "plt.xlabel( \"Idade (anos)\", fontsize=18 )\r\n",
        "plt.ylabel( \"Peso (kg)\", fontsize=18 )"
      ],
      "execution_count": 17,
      "outputs": [
        {
          "output_type": "execute_result",
          "data": {
            "text/plain": [
              "Text(0, 0.5, 'Peso (kg)')"
            ]
          },
          "metadata": {
            "tags": []
          },
          "execution_count": 17
        },
        {
          "output_type": "display_data",
          "data": {
            "image/png": "[encoded data removed]",
            "text/plain": [
              "<Figure size 576x432 with 1 Axes>"
            ]
          },
          "metadata": {
            "tags": [],
            "needs_background": "light"
          }
        }
      ]
    },
    {
      "cell_type": "markdown",
      "metadata": {
        "id": "oElstG7j72ow"
      },
      "source": [
        "Correlação Idade vs Altura:"
      ]
    },
    {
      "cell_type": "code",
      "metadata": {
        "id": "tu60RRsGO-8C",
        "colab": {
          "base_uri": "https://localhost:8080/",
          "height": 417
        },
        "outputId": "5652bf7a-0c98-47df-ae5c-4927ec916899"
      },
      "source": [
        "fig = plt.figure( figsize=(8,6) )\r\n",
        "\r\n",
        "plt.plot( array_Idade, array_Altura, 'o' )\r\n",
        "plt.xlim( 15, 55 )\r\n",
        "plt.ylim( 1.55, 2.00 )\r\n",
        "plt.xlabel( \"Idade (anos)\", fontsize=18 )\r\n",
        "plt.ylabel( \"Altura (m)\", fontsize=18 )"
      ],
      "execution_count": 18,
      "outputs": [
        {
          "output_type": "execute_result",
          "data": {
            "text/plain": [
              "Text(0, 0.5, 'Altura (m)')"
            ]
          },
          "metadata": {
            "tags": []
          },
          "execution_count": 18
        },
        {
          "output_type": "display_data",
          "data": {
            "image/png": "[encoded data removed]",
            "text/plain": [
              "<Figure size 576x432 with 1 Axes>"
            ]
          },
          "metadata": {
            "tags": [],
            "needs_background": "light"
          }
        }
      ]
    },
    {
      "cell_type": "markdown",
      "metadata": {
        "id": "1mYE-XKC78A5"
      },
      "source": [
        "Correlação Altura vs Peso:"
      ]
    },
    {
      "cell_type": "code",
      "metadata": {
        "colab": {
          "base_uri": "https://localhost:8080/",
          "height": 417
        },
        "id": "Z3BO_y96Oc9X",
        "outputId": "e2d81c9e-824f-436b-fd74-66f271d4d3be"
      },
      "source": [
        "fig = plt.figure( figsize=(8,6) )\r\n",
        "\r\n",
        "plt.plot( array_Altura, array_Peso, 'o' )\r\n",
        "plt.xlim( 1.55, 2.00 )\r\n",
        "plt.ylim( 40., 140. )\r\n",
        "plt.xlabel( \"Altura (m)\", fontsize=18 )\r\n",
        "plt.ylabel( \"Peso (kg)\", fontsize=18 )"
      ],
      "execution_count": 19,
      "outputs": [
        {
          "output_type": "execute_result",
          "data": {
            "text/plain": [
              "Text(0, 0.5, 'Peso (kg)')"
            ]
          },
          "metadata": {
            "tags": []
          },
          "execution_count": 19
        },
        {
          "output_type": "display_data",
          "data": {
            "image/png": "[encoded data removed]",
            "text/plain": [
              "<Figure size 576x432 with 1 Axes>"
            ]
          },
          "metadata": {
            "tags": [],
            "needs_background": "light"
          }
        }
      ]
    },
    {
      "cell_type": "markdown",
      "metadata": {
        "id": "PuR39MMf9bve"
      },
      "source": [
        "Cálculo das variâncias:\r\n"
      ]
    },
    {
      "cell_type": "code",
      "metadata": {
        "id": "3frHMs3X3pue",
        "colab": {
          "base_uri": "https://localhost:8080/"
        },
        "outputId": "25c49bf3-12fc-44bb-ff20-9f26910c157f"
      },
      "source": [
        "# Diferença entre média dos quadrados e quadrado da média\r\n",
        "np.mean( array_Idade ** 2 ) - np.mean( array_Idade ) ** 2"
      ],
      "execution_count": 20,
      "outputs": [
        {
          "output_type": "execute_result",
          "data": {
            "text/plain": [
              "114.66294642857144"
            ]
          },
          "metadata": {
            "tags": []
          },
          "execution_count": 20
        }
      ]
    },
    {
      "cell_type": "code",
      "metadata": {
        "id": "JA1pDPD338r-",
        "colab": {
          "base_uri": "https://localhost:8080/"
        },
        "outputId": "5a5ebb70-498a-4ab6-e7d8-7680dd872dfd"
      },
      "source": [
        "np.mean( array_Peso ** 2 ) - np.mean( array_Peso ) ** 2"
      ],
      "execution_count": 21,
      "outputs": [
        {
          "output_type": "execute_result",
          "data": {
            "text/plain": [
              "270.2130102040828"
            ]
          },
          "metadata": {
            "tags": []
          },
          "execution_count": 21
        }
      ]
    },
    {
      "cell_type": "code",
      "metadata": {
        "id": "RbvAcx7l3_ez",
        "colab": {
          "base_uri": "https://localhost:8080/"
        },
        "outputId": "80297de1-f675-42fa-d455-4a9209a39129"
      },
      "source": [
        "np.mean( array_Altura ** 2 ) - np.mean( array_Altura ) ** 2"
      ],
      "execution_count": 22,
      "outputs": [
        {
          "output_type": "execute_result",
          "data": {
            "text/plain": [
              "0.00805255102040947"
            ]
          },
          "metadata": {
            "tags": []
          },
          "execution_count": 22
        }
      ]
    },
    {
      "cell_type": "markdown",
      "metadata": {
        "id": "diQ3GwUO9gKz"
      },
      "source": [
        "Usando NumPy:"
      ]
    },
    {
      "cell_type": "code",
      "metadata": {
        "colab": {
          "base_uri": "https://localhost:8080/"
        },
        "id": "OEcY4BmYNKk9",
        "outputId": "40f9facd-54b3-484c-d304-ffa8e845fa6c"
      },
      "source": [
        "var_Idade = np.var( array_Idade, ddof=0 )\r\n",
        "var_Idade"
      ],
      "execution_count": 23,
      "outputs": [
        {
          "output_type": "execute_result",
          "data": {
            "text/plain": [
              "114.66294642857143"
            ]
          },
          "metadata": {
            "tags": []
          },
          "execution_count": 23
        }
      ]
    },
    {
      "cell_type": "code",
      "metadata": {
        "colab": {
          "base_uri": "https://localhost:8080/"
        },
        "id": "MrsxjlvHNL50",
        "outputId": "ca7c1abd-9536-4375-a333-d845a7ed298d"
      },
      "source": [
        "var_Peso = np.var( array_Peso, ddof=0 )\r\n",
        "var_Peso"
      ],
      "execution_count": 24,
      "outputs": [
        {
          "output_type": "execute_result",
          "data": {
            "text/plain": [
              "270.2130102040816"
            ]
          },
          "metadata": {
            "tags": []
          },
          "execution_count": 24
        }
      ]
    },
    {
      "cell_type": "code",
      "metadata": {
        "colab": {
          "base_uri": "https://localhost:8080/"
        },
        "id": "MAkHtP6sMda1",
        "outputId": "0cb9b594-0ed1-41b2-c65a-42399d561be6"
      },
      "source": [
        "var_Altura = np.var( array_Altura, ddof=0 )\r\n",
        "var_Altura"
      ],
      "execution_count": 25,
      "outputs": [
        {
          "output_type": "execute_result",
          "data": {
            "text/plain": [
              "0.008052551020408168"
            ]
          },
          "metadata": {
            "tags": []
          },
          "execution_count": 25
        }
      ]
    },
    {
      "cell_type": "markdown",
      "metadata": {
        "id": "CD-59vvb4T5v"
      },
      "source": [
        "Cálculo das covariâncias:"
      ]
    },
    {
      "cell_type": "code",
      "metadata": {
        "id": "AVpoFaUO4WVO",
        "colab": {
          "base_uri": "https://localhost:8080/"
        },
        "outputId": "6ed61212-ffc5-4c57-daba-1b5ae2fbbbe0"
      },
      "source": [
        "# Sequência com valores dos produtos dos elementos de mesmo índice dos arrays\r\n",
        "array_Idade * array_Peso"
      ],
      "execution_count": 26,
      "outputs": [
        {
          "output_type": "execute_result",
          "data": {
            "text/plain": [
              "Índice\n",
              "Exemplo                             3900\n",
              "Carlos Alberto                      2475\n",
              "Renato Fernandes Chaves de Souza    3783\n",
              "Tauã Vasconcelos                    1840\n",
              "José Gonçalves                      1140\n",
              "Emilson Ribeiro Matos               1512\n",
              "Ramon Bento                         1302\n",
              "Denis Machado Barbosa Jr            1691\n",
              "Pedro Andrade                       3225\n",
              "Gabriele Pereira                    1700\n",
              "Matheus Dias do Nascimento          1440\n",
              "Marco Aurélio de A. S. Santos       4100\n",
              "Gabriel Willian                     2730\n",
              "Samuel Duran                        1235\n",
              "Carlos Mailson da Silva Ferreira    1480\n",
              "Amanda Gomes                        1235\n",
              "thalles potengy fontes              4290\n",
              "Fernanda Cabral                     1200\n",
              "Lucas Vanderson Mendes da Costa     1400\n",
              "Clara Ribeiro Esteves               1235\n",
              "Luana Santana Ribeiro               1425\n",
              "Felipe Póvoa                        1400\n",
              "Pedro Henrique de Jesus             1140\n",
              "Renato Fernandes Chaves de Souza    3783\n",
              "Mylena Guimarães Furtado            1080\n",
              "Lucas Rodrigues                     1496\n",
              "Natalie Pinheiro                    1292\n",
              "José Souza                          1800\n",
              "Bruna Nunes                          945\n",
              "Andre Sá de Mattos                  3920\n",
              "Lucas Romeu                         1431\n",
              "Bruno Vilarim Gomes                 1178\n",
              "Rodrigo Pinto                       1235\n",
              "Mateus Fontes                       2945\n",
              "Thayná Amorim                       1680\n",
              "João Pedro Gomes da Matta           1407\n",
              "Rafael Maciel                       1387\n",
              "Marcia Begalli                      3596\n",
              "José Soares Barbosa                 5292\n",
              "Gabriel Varandas                    1640\n",
              "Jonathan Sienkiewicz                2436\n",
              "Vitor Cial M. D. Brito              1672\n",
              "Manu Damaschio                      1080\n",
              "Otávio Rodrigues                    1500\n",
              "José Junior de Jesus Oliveira       2400\n",
              "Gabriel de Jesus                    2100\n",
              "Virgílio Pita                       1620\n",
              "Nícolas Gonçalves                   1404\n",
              "Miguel Abranches                     990\n",
              "Gabrielle da Silva                  1620\n",
              "Thiago Fernandes                    1200\n",
              "Diego Meira                         2190\n",
              "Felipe Barreto                      1760\n",
              "Ariany Mattos                       1120\n",
              "Yan Lobo                            2320\n",
              "Romulo Ferreira                     2158\n",
              "dtype: int64"
            ]
          },
          "metadata": {
            "tags": []
          },
          "execution_count": 26
        }
      ]
    },
    {
      "cell_type": "code",
      "metadata": {
        "id": "ggLeCV384Wx-",
        "colab": {
          "base_uri": "https://localhost:8080/"
        },
        "outputId": "58ce508e-a1f6-4b29-b250-58afcadbbb35"
      },
      "source": [
        "# Covariância: diferença entre média dos produtos e produto das médias\r\n",
        "np.mean( array_Idade * array_Peso ) - np.mean( array_Idade ) * np.mean( array_Peso )"
      ],
      "execution_count": 27,
      "outputs": [
        {
          "output_type": "execute_result",
          "data": {
            "text/plain": [
              "33.915178571428896"
            ]
          },
          "metadata": {
            "tags": []
          },
          "execution_count": 27
        }
      ]
    },
    {
      "cell_type": "code",
      "metadata": {
        "id": "vBWeOKOH5D_x",
        "colab": {
          "base_uri": "https://localhost:8080/"
        },
        "outputId": "4a2b9f7e-87f0-4915-b097-0e0d6b0742fe"
      },
      "source": [
        "np.mean( array_Idade * array_Altura ) - np.mean( array_Idade ) * np.mean( array_Altura )"
      ],
      "execution_count": 28,
      "outputs": [
        {
          "output_type": "execute_result",
          "data": {
            "text/plain": [
              "0.06053571428572724"
            ]
          },
          "metadata": {
            "tags": []
          },
          "execution_count": 28
        }
      ]
    },
    {
      "cell_type": "code",
      "metadata": {
        "id": "yHoapbud5ETx",
        "colab": {
          "base_uri": "https://localhost:8080/"
        },
        "outputId": "cf03b5f5-5734-4e5c-bb8a-cc6ae00b09b4"
      },
      "source": [
        "np.mean( array_Peso * array_Altura ) - np.mean( array_Peso ) * np.mean( array_Altura )"
      ],
      "execution_count": 29,
      "outputs": [
        {
          "output_type": "execute_result",
          "data": {
            "text/plain": [
              "0.6573979591837258"
            ]
          },
          "metadata": {
            "tags": []
          },
          "execution_count": 29
        }
      ]
    },
    {
      "cell_type": "markdown",
      "metadata": {
        "id": "d3S0LWvM5Rlm"
      },
      "source": [
        "Usando NumPy:"
      ]
    },
    {
      "cell_type": "code",
      "metadata": {
        "id": "mSnzM624MR07",
        "colab": {
          "base_uri": "https://localhost:8080/"
        },
        "outputId": "b9185088-7784-4cd1-9344-61ea5b4c8a7d"
      },
      "source": [
        "# (Idade, Peso)\r\n",
        "cov_Idade_Peso = np.cov( array_Idade, array_Peso, ddof=0 )\r\n",
        "cov_Idade_Peso"
      ],
      "execution_count": 30,
      "outputs": [
        {
          "output_type": "execute_result",
          "data": {
            "text/plain": [
              "array([[114.66294643,  33.91517857],\n",
              "       [ 33.91517857, 270.2130102 ]])"
            ]
          },
          "metadata": {
            "tags": []
          },
          "execution_count": 30
        }
      ]
    },
    {
      "cell_type": "code",
      "metadata": {
        "id": "z3JaVynyOO4V",
        "colab": {
          "base_uri": "https://localhost:8080/"
        },
        "outputId": "5c856cc1-899d-4888-c258-66ca6fe7f331"
      },
      "source": [
        "# Variância Idade\r\n",
        "cov_Idade_Peso[0,0]"
      ],
      "execution_count": 31,
      "outputs": [
        {
          "output_type": "execute_result",
          "data": {
            "text/plain": [
              "114.66294642857142"
            ]
          },
          "metadata": {
            "tags": []
          },
          "execution_count": 31
        }
      ]
    },
    {
      "cell_type": "code",
      "metadata": {
        "id": "Iwtl3UZOOO4W",
        "colab": {
          "base_uri": "https://localhost:8080/"
        },
        "outputId": "1ff3d0d0-bd52-4863-a5df-466e57fb5b9e"
      },
      "source": [
        "# Variância Peso\r\n",
        "cov_Idade_Peso[1,1]"
      ],
      "execution_count": 32,
      "outputs": [
        {
          "output_type": "execute_result",
          "data": {
            "text/plain": [
              "270.2130102040816"
            ]
          },
          "metadata": {
            "tags": []
          },
          "execution_count": 32
        }
      ]
    },
    {
      "cell_type": "code",
      "metadata": {
        "id": "pvo-FpbpOO4W",
        "colab": {
          "base_uri": "https://localhost:8080/"
        },
        "outputId": "36e07fb8-54bd-469e-f893-a2585e3e391a"
      },
      "source": [
        "# Covariância (Idade,Peso)\r\n",
        "cov_Idade_Peso[0,1]"
      ],
      "execution_count": 33,
      "outputs": [
        {
          "output_type": "execute_result",
          "data": {
            "text/plain": [
              "33.91517857142859"
            ]
          },
          "metadata": {
            "tags": []
          },
          "execution_count": 33
        }
      ]
    },
    {
      "cell_type": "code",
      "metadata": {
        "id": "_AuoYix9OO4W",
        "colab": {
          "base_uri": "https://localhost:8080/"
        },
        "outputId": "bb45fefb-77d8-48f2-87bc-879b5cfa79ba"
      },
      "source": [
        "# Coeficiente de correlação\r\n",
        "cov_Idade_Peso[0,1] / ( np.sqrt( var_Idade ) * np.sqrt( var_Peso ) )"
      ],
      "execution_count": 34,
      "outputs": [
        {
          "output_type": "execute_result",
          "data": {
            "text/plain": [
              "0.19267680296950188"
            ]
          },
          "metadata": {
            "tags": []
          },
          "execution_count": 34
        }
      ]
    },
    {
      "cell_type": "code",
      "metadata": {
        "colab": {
          "base_uri": "https://localhost:8080/"
        },
        "id": "NCEbDA06JBE_",
        "outputId": "50c5b01e-7997-413d-e256-b563826cc7cd"
      },
      "source": [
        "# (Idade, Altura)\r\n",
        "cov_Idade_Altura = np.cov( array_Idade, array_Altura, ddof=0 )\r\n",
        "cov_Idade_Altura"
      ],
      "execution_count": 35,
      "outputs": [
        {
          "output_type": "execute_result",
          "data": {
            "text/plain": [
              "array([[1.14662946e+02, 6.05357143e-02],\n",
              "       [6.05357143e-02, 8.05255102e-03]])"
            ]
          },
          "metadata": {
            "tags": []
          },
          "execution_count": 35
        }
      ]
    },
    {
      "cell_type": "code",
      "metadata": {
        "colab": {
          "base_uri": "https://localhost:8080/"
        },
        "id": "U5oMGrxXN-Qi",
        "outputId": "b24efe91-5ca3-49c1-d8fe-4e3101df6790"
      },
      "source": [
        "# Variância Idade\r\n",
        "cov_Idade_Altura[0,0]"
      ],
      "execution_count": 36,
      "outputs": [
        {
          "output_type": "execute_result",
          "data": {
            "text/plain": [
              "114.66294642857142"
            ]
          },
          "metadata": {
            "tags": []
          },
          "execution_count": 36
        }
      ]
    },
    {
      "cell_type": "code",
      "metadata": {
        "colab": {
          "base_uri": "https://localhost:8080/"
        },
        "id": "lLNLauhAN-Qq",
        "outputId": "73df7321-4027-48b8-ce63-a22c0e28d79e"
      },
      "source": [
        "# Variância Altura\r\n",
        "cov_Idade_Altura[1,1]"
      ],
      "execution_count": 37,
      "outputs": [
        {
          "output_type": "execute_result",
          "data": {
            "text/plain": [
              "0.008052551020408165"
            ]
          },
          "metadata": {
            "tags": []
          },
          "execution_count": 37
        }
      ]
    },
    {
      "cell_type": "code",
      "metadata": {
        "colab": {
          "base_uri": "https://localhost:8080/"
        },
        "id": "-oIr5uPVN-Qq",
        "outputId": "cfd7a12b-859b-4c74-81fb-973db592c2e4"
      },
      "source": [
        "# Covariância (Idade,Altura)\r\n",
        "cov_Idade_Altura[0,1]"
      ],
      "execution_count": 38,
      "outputs": [
        {
          "output_type": "execute_result",
          "data": {
            "text/plain": [
              "0.06053571428571428"
            ]
          },
          "metadata": {
            "tags": []
          },
          "execution_count": 38
        }
      ]
    },
    {
      "cell_type": "code",
      "metadata": {
        "colab": {
          "base_uri": "https://localhost:8080/"
        },
        "id": "rhOoYW7FN-Qq",
        "outputId": "675cd7a8-b022-4938-a176-0899a6d0763c"
      },
      "source": [
        "# Coeficiente de correlação\r\n",
        "cov_Idade_Altura[0,1] / ( np.sqrt( var_Idade ) * np.sqrt( var_Altura ) )"
      ],
      "execution_count": 39,
      "outputs": [
        {
          "output_type": "execute_result",
          "data": {
            "text/plain": [
              "0.06299895997501605"
            ]
          },
          "metadata": {
            "tags": []
          },
          "execution_count": 39
        }
      ]
    },
    {
      "cell_type": "code",
      "metadata": {
        "id": "oO8HSqI0I-cW",
        "colab": {
          "base_uri": "https://localhost:8080/"
        },
        "outputId": "0a6e7e2b-2c1e-43ab-d83c-1b9fbf2cf8ba"
      },
      "source": [
        "# (Peso, Altura)\r\n",
        "cov_Peso_Altura = np.cov( array_Peso, array_Altura, ddof=0 )\r\n",
        "cov_Peso_Altura"
      ],
      "execution_count": 40,
      "outputs": [
        {
          "output_type": "execute_result",
          "data": {
            "text/plain": [
              "array([[2.70213010e+02, 6.57397959e-01],\n",
              "       [6.57397959e-01, 8.05255102e-03]])"
            ]
          },
          "metadata": {
            "tags": []
          },
          "execution_count": 40
        }
      ]
    },
    {
      "cell_type": "code",
      "metadata": {
        "id": "cizq8oJDNmc2",
        "colab": {
          "base_uri": "https://localhost:8080/"
        },
        "outputId": "6009e47d-50f0-4986-aeaf-74af81ed3248"
      },
      "source": [
        "# Variância Peso\r\n",
        "cov_Peso_Altura[0,0]"
      ],
      "execution_count": 41,
      "outputs": [
        {
          "output_type": "execute_result",
          "data": {
            "text/plain": [
              "270.2130102040816"
            ]
          },
          "metadata": {
            "tags": []
          },
          "execution_count": 41
        }
      ]
    },
    {
      "cell_type": "code",
      "metadata": {
        "id": "FZ79z7OONrXG",
        "colab": {
          "base_uri": "https://localhost:8080/"
        },
        "outputId": "884acdbc-2f87-40ed-cb0f-1e6bca462d2f"
      },
      "source": [
        "# Variância Altura\r\n",
        "cov_Peso_Altura[1,1]"
      ],
      "execution_count": 42,
      "outputs": [
        {
          "output_type": "execute_result",
          "data": {
            "text/plain": [
              "0.008052551020408165"
            ]
          },
          "metadata": {
            "tags": []
          },
          "execution_count": 42
        }
      ]
    },
    {
      "cell_type": "code",
      "metadata": {
        "id": "dK5TZRaDNr8R",
        "colab": {
          "base_uri": "https://localhost:8080/"
        },
        "outputId": "bc382292-eee9-4cb3-b241-351dedeaf874"
      },
      "source": [
        "# Covariância (Peso,Altura)\r\n",
        "cov_Peso_Altura[0,1]"
      ],
      "execution_count": 43,
      "outputs": [
        {
          "output_type": "execute_result",
          "data": {
            "text/plain": [
              "0.6573979591836735"
            ]
          },
          "metadata": {
            "tags": []
          },
          "execution_count": 43
        }
      ]
    },
    {
      "cell_type": "code",
      "metadata": {
        "id": "7jhndEK8NxiA",
        "colab": {
          "base_uri": "https://localhost:8080/"
        },
        "outputId": "a5e06e8f-0755-4451-cd21-d00b26dfa1cd"
      },
      "source": [
        "# Coeficiente de correlação\r\n",
        "cov_Peso_Altura[0,1] / ( np.sqrt( var_Peso ) * np.sqrt( var_Altura ) )"
      ],
      "execution_count": 44,
      "outputs": [
        {
          "output_type": "execute_result",
          "data": {
            "text/plain": [
              "0.44566495152158175"
            ]
          },
          "metadata": {
            "tags": []
          },
          "execution_count": 44
        }
      ]
    },
    {
      "cell_type": "code",
      "metadata": {
        "id": "6L63PcO18qmY"
      },
      "source": [
        ""
      ],
      "execution_count": 44,
      "outputs": []
    }
  ]
}