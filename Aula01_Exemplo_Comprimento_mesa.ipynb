{
  "nbformat": 4,
  "nbformat_minor": 0,
  "metadata": {
    "colab": {
      "name": "Aula01-Exemplo-Comprimento-mesa.ipynb",
      "provenance": [],
      "authorship_tag": "ABX9TyPcnuKpBM/0sDekjUL2wk6h",
      "include_colab_link": true
    },
    "kernelspec": {
      "name": "python3",
      "display_name": "Python 3"
    }
  },
  "cells": [
    {
      "cell_type": "markdown",
      "metadata": {
        "id": "view-in-github",
        "colab_type": "text"
      },
      "source": [
        "<a href=\"https://colab.research.google.com/github/UERJ-FISICA/Fisica-Geral/blob/main/Aula01_Exemplo_Comprimento_mesa.ipynb\" target=\"_parent\"><img src=\"https://colab.research.google.com/assets/colab-badge.svg\" alt=\"Open In Colab\"/></a>"
      ]
    },
    {
      "cell_type": "markdown",
      "metadata": {
        "id": "hSwdpvBaao8M"
      },
      "source": [
        "Carregando pacotes NumPy, pandas e matplotlib"
      ]
    },
    {
      "cell_type": "code",
      "metadata": {
        "id": "l6olWLxkZXOH"
      },
      "source": [
        "import numpy as np\r\n",
        "import pandas as pd\r\n",
        "import matplotlib as mpl\r\n",
        "import matplotlib.pyplot as plt"
      ],
      "execution_count": 1,
      "outputs": []
    },
    {
      "cell_type": "markdown",
      "metadata": {
        "id": "JbfOIX7GaOeO"
      },
      "source": [
        "Copiando e lendo dados de comprimento das mesas"
      ]
    },
    {
      "cell_type": "code",
      "metadata": {
        "id": "3V0TsRLEhUwn",
        "outputId": "08193626-07ae-4165-855d-a37fe3b24c67",
        "colab": {
          "base_uri": "https://localhost:8080/"
        }
      },
      "source": [
        "!curl -o Atividades-Aula01.xlsx https://raw.githubusercontent.com/UERJ-FISICA/Fisica-Geral/main/dados/Atividades-Aula01.xlsx"
      ],
      "execution_count": 2,
      "outputs": [
        {
          "output_type": "stream",
          "text": [
            "  % Total    % Received % Xferd  Average Speed   Time    Time     Time  Current\n",
            "                                 Dload  Upload   Total   Spent    Left  Speed\n",
            "\r  0     0    0     0    0     0      0      0 --:--:-- --:--:-- --:--:--     0\r100 15768  100 15768    0     0   244k      0 --:--:-- --:--:-- --:--:--  244k\n"
          ],
          "name": "stdout"
        }
      ]
    },
    {
      "cell_type": "code",
      "metadata": {
        "id": "oon0nDYch_m2",
        "outputId": "3a531448-5779-4971-b6c4-80b599c26bc1",
        "colab": {
          "base_uri": "https://localhost:8080/"
        }
      },
      "source": [
        "!ls -lah"
      ],
      "execution_count": 3,
      "outputs": [
        {
          "output_type": "stream",
          "text": [
            "total 32K\n",
            "drwxr-xr-x 1 root root 4.0K Feb 25 14:11 .\n",
            "drwxr-xr-x 1 root root 4.0K Feb 25 14:02 ..\n",
            "-rw-r--r-- 1 root root  16K Feb 25 14:13 Atividades-Aula01.xlsx\n",
            "drwxr-xr-x 4 root root 4.0K Feb 24 17:48 .config\n",
            "drwxr-xr-x 1 root root 4.0K Feb 24 17:49 sample_data\n"
          ],
          "name": "stdout"
        }
      ]
    },
    {
      "cell_type": "code",
      "metadata": {
        "id": "g6s3chFmWE9A"
      },
      "source": [
        "df = pd.read_excel( \"Atividades-Aula01.xlsx\", sheet_name=\"Comprimento mesa\" )"
      ],
      "execution_count": 4,
      "outputs": []
    },
    {
      "cell_type": "code",
      "metadata": {
        "colab": {
          "base_uri": "https://localhost:8080/",
          "height": 580
        },
        "id": "LCTuTS9SXjZE",
        "outputId": "588f5ed3-e81d-4a92-91d1-0b35f4f3d3df"
      },
      "source": [
        "df"
      ],
      "execution_count": 5,
      "outputs": [
        {
          "output_type": "execute_result",
          "data": {
            "text/html": [
              "<div>\n",
              "<style scoped>\n",
              "    .dataframe tbody tr th:only-of-type {\n",
              "        vertical-align: middle;\n",
              "    }\n",
              "\n",
              "    .dataframe tbody tr th {\n",
              "        vertical-align: top;\n",
              "    }\n",
              "\n",
              "    .dataframe thead th {\n",
              "        text-align: right;\n",
              "    }\n",
              "</style>\n",
              "<table border=\"1\" class=\"dataframe\">\n",
              "  <thead>\n",
              "    <tr style=\"text-align: right;\">\n",
              "      <th></th>\n",
              "      <th>L (cm)</th>\n",
              "    </tr>\n",
              "  </thead>\n",
              "  <tbody>\n",
              "    <tr>\n",
              "      <th>0</th>\n",
              "      <td>149.81</td>\n",
              "    </tr>\n",
              "    <tr>\n",
              "      <th>1</th>\n",
              "      <td>149.90</td>\n",
              "    </tr>\n",
              "    <tr>\n",
              "      <th>2</th>\n",
              "      <td>150.10</td>\n",
              "    </tr>\n",
              "    <tr>\n",
              "      <th>3</th>\n",
              "      <td>150.50</td>\n",
              "    </tr>\n",
              "    <tr>\n",
              "      <th>4</th>\n",
              "      <td>149.80</td>\n",
              "    </tr>\n",
              "    <tr>\n",
              "      <th>5</th>\n",
              "      <td>149.80</td>\n",
              "    </tr>\n",
              "    <tr>\n",
              "      <th>6</th>\n",
              "      <td>149.71</td>\n",
              "    </tr>\n",
              "    <tr>\n",
              "      <th>7</th>\n",
              "      <td>150.21</td>\n",
              "    </tr>\n",
              "    <tr>\n",
              "      <th>8</th>\n",
              "      <td>149.75</td>\n",
              "    </tr>\n",
              "    <tr>\n",
              "      <th>9</th>\n",
              "      <td>150.10</td>\n",
              "    </tr>\n",
              "    <tr>\n",
              "      <th>10</th>\n",
              "      <td>150.15</td>\n",
              "    </tr>\n",
              "    <tr>\n",
              "      <th>11</th>\n",
              "      <td>150.10</td>\n",
              "    </tr>\n",
              "    <tr>\n",
              "      <th>12</th>\n",
              "      <td>150.00</td>\n",
              "    </tr>\n",
              "    <tr>\n",
              "      <th>13</th>\n",
              "      <td>150.40</td>\n",
              "    </tr>\n",
              "    <tr>\n",
              "      <th>14</th>\n",
              "      <td>149.91</td>\n",
              "    </tr>\n",
              "    <tr>\n",
              "      <th>15</th>\n",
              "      <td>150.10</td>\n",
              "    </tr>\n",
              "    <tr>\n",
              "      <th>16</th>\n",
              "      <td>150.09</td>\n",
              "    </tr>\n",
              "    <tr>\n",
              "      <th>17</th>\n",
              "      <td>150.00</td>\n",
              "    </tr>\n",
              "  </tbody>\n",
              "</table>\n",
              "</div>"
            ],
            "text/plain": [
              "    L (cm)\n",
              "0   149.81\n",
              "1   149.90\n",
              "2   150.10\n",
              "3   150.50\n",
              "4   149.80\n",
              "5   149.80\n",
              "6   149.71\n",
              "7   150.21\n",
              "8   149.75\n",
              "9   150.10\n",
              "10  150.15\n",
              "11  150.10\n",
              "12  150.00\n",
              "13  150.40\n",
              "14  149.91\n",
              "15  150.10\n",
              "16  150.09\n",
              "17  150.00"
            ]
          },
          "metadata": {
            "tags": []
          },
          "execution_count": 5
        }
      ]
    },
    {
      "cell_type": "markdown",
      "metadata": {
        "id": "mCcjhLRGa7sU"
      },
      "source": [
        "Média:"
      ]
    },
    {
      "cell_type": "code",
      "metadata": {
        "id": "gXqp7rSlZ2Gv"
      },
      "source": [
        "array_L = df.iloc[:, 0]"
      ],
      "execution_count": 6,
      "outputs": []
    },
    {
      "cell_type": "code",
      "metadata": {
        "colab": {
          "base_uri": "https://localhost:8080/"
        },
        "id": "abASwGnHbUGG",
        "outputId": "24c425c8-ae8e-4a85-83c3-4336f12df731"
      },
      "source": [
        "np.sum( array_L )"
      ],
      "execution_count": 7,
      "outputs": [
        {
          "output_type": "execute_result",
          "data": {
            "text/plain": [
              "2700.4300000000003"
            ]
          },
          "metadata": {
            "tags": []
          },
          "execution_count": 7
        }
      ]
    },
    {
      "cell_type": "code",
      "metadata": {
        "colab": {
          "base_uri": "https://localhost:8080/"
        },
        "id": "yo2BDdQSbpIG",
        "outputId": "7a4947b1-15f0-4977-b44d-9036c4eab7fe"
      },
      "source": [
        "N = array_L.size\r\n",
        "N"
      ],
      "execution_count": 8,
      "outputs": [
        {
          "output_type": "execute_result",
          "data": {
            "text/plain": [
              "18"
            ]
          },
          "metadata": {
            "tags": []
          },
          "execution_count": 8
        }
      ]
    },
    {
      "cell_type": "code",
      "metadata": {
        "colab": {
          "base_uri": "https://localhost:8080/"
        },
        "id": "VPkzOS1JbjHy",
        "outputId": "5821fadb-dfa1-4b52-fea7-a89f588ca32c"
      },
      "source": [
        "media = np.sum( array_L ) / N\r\n",
        "print ( \"Média: {}\".format( media ) )"
      ],
      "execution_count": 9,
      "outputs": [
        {
          "output_type": "stream",
          "text": [
            "Média: 150.0238888888889\n"
          ],
          "name": "stdout"
        }
      ]
    },
    {
      "cell_type": "markdown",
      "metadata": {
        "id": "ToFrk8K2b9SM"
      },
      "source": [
        "Usando a função do pacote:"
      ]
    },
    {
      "cell_type": "code",
      "metadata": {
        "colab": {
          "base_uri": "https://localhost:8080/"
        },
        "id": "24zO6H-cb09f",
        "outputId": "15ae64e3-b926-4ae0-c43b-e5b0e6d46843"
      },
      "source": [
        "array_L.mean()"
      ],
      "execution_count": 10,
      "outputs": [
        {
          "output_type": "execute_result",
          "data": {
            "text/plain": [
              "150.02388888888888"
            ]
          },
          "metadata": {
            "tags": []
          },
          "execution_count": 10
        }
      ]
    },
    {
      "cell_type": "markdown",
      "metadata": {
        "id": "1NNGd8LXcfgT"
      },
      "source": [
        "Histograma:"
      ]
    },
    {
      "cell_type": "code",
      "metadata": {
        "colab": {
          "base_uri": "https://localhost:8080/",
          "height": 413
        },
        "id": "I9Xy3LUZcGQH",
        "outputId": "640ceae3-bfc5-4c78-b878-daa35318216c"
      },
      "source": [
        "fig = plt.figure( figsize=(8,6) )\r\n",
        "\r\n",
        "counts, bins, _ = plt.hist( array_L, bins=20, range=(148.0, 152.0) )\r\n",
        "plt.xlabel( \"L (cm)\", fontsize=18 )\r\n",
        "plt.ylabel( \"Frequência\", fontsize=18 )"
      ],
      "execution_count": 11,
      "outputs": [
        {
          "output_type": "execute_result",
          "data": {
            "text/plain": [
              "Text(0, 0.5, 'Frequência')"
            ]
          },
          "metadata": {
            "tags": []
          },
          "execution_count": 11
        },
        {
          "output_type": "display_data",
          "data": {
            "image/png": "[encoded data removed]",
            "text/plain": [
              "<Figure size 576x432 with 1 Axes>"
            ]
          },
          "metadata": {
            "tags": [],
            "needs_background": "light"
          }
        }
      ]
    },
    {
      "cell_type": "code",
      "metadata": {
        "colab": {
          "base_uri": "https://localhost:8080/"
        },
        "id": "yEmDD7jjc9H2",
        "outputId": "fc380b9b-e533-4568-e5ca-492e51f7d89a"
      },
      "source": [
        "print ( counts )"
      ],
      "execution_count": 12,
      "outputs": [
        {
          "output_type": "stream",
          "text": [
            "[0. 0. 0. 0. 0. 0. 0. 0. 2. 5. 8. 1. 2. 0. 0. 0. 0. 0. 0. 0.]\n"
          ],
          "name": "stdout"
        }
      ]
    },
    {
      "cell_type": "code",
      "metadata": {
        "colab": {
          "base_uri": "https://localhost:8080/"
        },
        "id": "FBL0Psyzdocq",
        "outputId": "150eecf9-c280-4f41-d274-bef18815237f"
      },
      "source": [
        "print ( bins )"
      ],
      "execution_count": 13,
      "outputs": [
        {
          "output_type": "stream",
          "text": [
            "[148.  148.2 148.4 148.6 148.8 149.  149.2 149.4 149.6 149.8 150.  150.2\n",
            " 150.4 150.6 150.8 151.  151.2 151.4 151.6 151.8 152. ]\n"
          ],
          "name": "stdout"
        }
      ]
    }
  ]
}