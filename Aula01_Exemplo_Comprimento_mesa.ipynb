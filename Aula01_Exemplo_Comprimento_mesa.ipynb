{
  "nbformat": 4,
  "nbformat_minor": 0,
  "metadata": {
    "colab": {
      "name": "Aula01-Exemplo-Comprimento-mesa.ipynb",
      "provenance": [],
      "authorship_tag": "ABX9TyM/o0qZAt7S+xYrDUi1xbJ0",
      "include_colab_link": true
    },
    "kernelspec": {
      "name": "python3",
      "display_name": "Python 3"
    }
  },
  "cells": [
    {
      "cell_type": "markdown",
      "metadata": {
        "id": "view-in-github",
        "colab_type": "text"
      },
      "source": [
        "<a href=\"https://colab.research.google.com/github/UERJ-FISICA/Fisica-Geral/blob/main/Aula01_Exemplo_Comprimento_mesa.ipynb\" target=\"_parent\"><img src=\"https://colab.research.google.com/assets/colab-badge.svg\" alt=\"Open In Colab\"/></a>"
      ]
    },
    {
      "cell_type": "markdown",
      "metadata": {
        "id": "hSwdpvBaao8M"
      },
      "source": [
        "Carregando pacotes NumPy, pandas e matplotlib"
      ]
    },
    {
      "cell_type": "code",
      "metadata": {
        "id": "l6olWLxkZXOH"
      },
      "source": [
        "import numpy as np\r\n",
        "import pandas as pd\r\n",
        "import matplotlib as mpl\r\n",
        "import matplotlib.pyplot as plt"
      ],
      "execution_count": 1,
      "outputs": []
    },
    {
      "cell_type": "markdown",
      "metadata": {
        "id": "JbfOIX7GaOeO"
      },
      "source": [
        "Dados de comprimento das mesas"
      ]
    },
    {
      "cell_type": "code",
      "metadata": {
        "id": "3V0TsRLEhUwn",
        "colab": {
          "base_uri": "https://localhost:8080/"
        },
        "outputId": "0c9bf039-29f7-4dfc-ebe2-9505c75ffe64"
      },
      "source": [
        "!curl -o Atividades-Aula01-Comprimento-mesa.xlsx https://raw.githubusercontent.com/UERJ-FISICA/Fisica-Geral/main/dados/Atividades-Aula01-Comprimento-mesa.xlsx"
      ],
      "execution_count": 2,
      "outputs": [
        {
          "output_type": "stream",
          "text": [
            "  % Total    % Received % Xferd  Average Speed   Time    Time     Time  Current\n",
            "                                 Dload  Upload   Total   Spent    Left  Speed\n",
            "\r  0     0    0     0    0     0      0      0 --:--:-- --:--:-- --:--:--     0\r100 15829  100 15829    0     0   211k      0 --:--:-- --:--:-- --:--:--  211k\n"
          ],
          "name": "stdout"
        }
      ]
    },
    {
      "cell_type": "code",
      "metadata": {
        "id": "oon0nDYch_m2",
        "colab": {
          "base_uri": "https://localhost:8080/"
        },
        "outputId": "4ae82651-ab9d-4a96-9694-99688f54dae3"
      },
      "source": [
        "!ls -lah"
      ],
      "execution_count": 3,
      "outputs": [
        {
          "output_type": "stream",
          "text": [
            "total 32K\n",
            "drwxr-xr-x 1 root root 4.0K Mar 17 18:09 .\n",
            "drwxr-xr-x 1 root root 4.0K Mar 17 18:08 ..\n",
            "-rw-r--r-- 1 root root  16K Mar 17 18:13 Atividades-Aula01-Comprimento-mesa.xlsx\n",
            "drwxr-xr-x 4 root root 4.0K Mar  5 14:36 .config\n",
            "drwxr-xr-x 1 root root 4.0K Mar  5 14:37 sample_data\n"
          ],
          "name": "stdout"
        }
      ]
    },
    {
      "cell_type": "markdown",
      "metadata": {
        "id": "_CXiY06VokO3"
      },
      "source": [
        "Usando o pacote pandas e lendo a tabela de dados:"
      ]
    },
    {
      "cell_type": "code",
      "metadata": {
        "id": "cZtv1PE0YT3L"
      },
      "source": [
        "# array_L = np.array( [ 149.81, 149.9 , 150.1 , 150.5 , 149.8 , 149.8 , 149.71, 150.21,\r\n",
        "#                       149.75, 150.1 , 150.15, 150.1 , 150.  , 150.4 , 149.91, 150.1 ,\r\n",
        "#                       150.09, 150. ] )"
      ],
      "execution_count": 4,
      "outputs": []
    },
    {
      "cell_type": "code",
      "metadata": {
        "id": "g6s3chFmWE9A"
      },
      "source": [
        "#help(pd.read_excel)\r\n",
        "df = pd.read_excel( \"Atividades-Aula01-Comprimento-mesa.xlsx\", sheet_name=\"Comprimento mesa\", usecols=[0], nrows=18, names=[\"L\"] )"
      ],
      "execution_count": 5,
      "outputs": []
    },
    {
      "cell_type": "code",
      "metadata": {
        "colab": {
          "base_uri": "https://localhost:8080/",
          "height": 580
        },
        "id": "LCTuTS9SXjZE",
        "outputId": "3daf53e6-e6ed-4778-ff60-382284535d51"
      },
      "source": [
        "df"
      ],
      "execution_count": 6,
      "outputs": [
        {
          "output_type": "execute_result",
          "data": {
            "text/html": [
              "<div>\n",
              "<style scoped>\n",
              "    .dataframe tbody tr th:only-of-type {\n",
              "        vertical-align: middle;\n",
              "    }\n",
              "\n",
              "    .dataframe tbody tr th {\n",
              "        vertical-align: top;\n",
              "    }\n",
              "\n",
              "    .dataframe thead th {\n",
              "        text-align: right;\n",
              "    }\n",
              "</style>\n",
              "<table border=\"1\" class=\"dataframe\">\n",
              "  <thead>\n",
              "    <tr style=\"text-align: right;\">\n",
              "      <th></th>\n",
              "      <th>L</th>\n",
              "    </tr>\n",
              "  </thead>\n",
              "  <tbody>\n",
              "    <tr>\n",
              "      <th>0</th>\n",
              "      <td>149.81</td>\n",
              "    </tr>\n",
              "    <tr>\n",
              "      <th>1</th>\n",
              "      <td>149.90</td>\n",
              "    </tr>\n",
              "    <tr>\n",
              "      <th>2</th>\n",
              "      <td>150.10</td>\n",
              "    </tr>\n",
              "    <tr>\n",
              "      <th>3</th>\n",
              "      <td>150.50</td>\n",
              "    </tr>\n",
              "    <tr>\n",
              "      <th>4</th>\n",
              "      <td>149.80</td>\n",
              "    </tr>\n",
              "    <tr>\n",
              "      <th>5</th>\n",
              "      <td>149.80</td>\n",
              "    </tr>\n",
              "    <tr>\n",
              "      <th>6</th>\n",
              "      <td>149.71</td>\n",
              "    </tr>\n",
              "    <tr>\n",
              "      <th>7</th>\n",
              "      <td>150.21</td>\n",
              "    </tr>\n",
              "    <tr>\n",
              "      <th>8</th>\n",
              "      <td>149.75</td>\n",
              "    </tr>\n",
              "    <tr>\n",
              "      <th>9</th>\n",
              "      <td>150.10</td>\n",
              "    </tr>\n",
              "    <tr>\n",
              "      <th>10</th>\n",
              "      <td>150.15</td>\n",
              "    </tr>\n",
              "    <tr>\n",
              "      <th>11</th>\n",
              "      <td>150.10</td>\n",
              "    </tr>\n",
              "    <tr>\n",
              "      <th>12</th>\n",
              "      <td>150.00</td>\n",
              "    </tr>\n",
              "    <tr>\n",
              "      <th>13</th>\n",
              "      <td>150.40</td>\n",
              "    </tr>\n",
              "    <tr>\n",
              "      <th>14</th>\n",
              "      <td>149.91</td>\n",
              "    </tr>\n",
              "    <tr>\n",
              "      <th>15</th>\n",
              "      <td>150.10</td>\n",
              "    </tr>\n",
              "    <tr>\n",
              "      <th>16</th>\n",
              "      <td>150.09</td>\n",
              "    </tr>\n",
              "    <tr>\n",
              "      <th>17</th>\n",
              "      <td>150.00</td>\n",
              "    </tr>\n",
              "  </tbody>\n",
              "</table>\n",
              "</div>"
            ],
            "text/plain": [
              "         L\n",
              "0   149.81\n",
              "1   149.90\n",
              "2   150.10\n",
              "3   150.50\n",
              "4   149.80\n",
              "5   149.80\n",
              "6   149.71\n",
              "7   150.21\n",
              "8   149.75\n",
              "9   150.10\n",
              "10  150.15\n",
              "11  150.10\n",
              "12  150.00\n",
              "13  150.40\n",
              "14  149.91\n",
              "15  150.10\n",
              "16  150.09\n",
              "17  150.00"
            ]
          },
          "metadata": {
            "tags": []
          },
          "execution_count": 6
        }
      ]
    },
    {
      "cell_type": "code",
      "metadata": {
        "id": "gXqp7rSlZ2Gv",
        "colab": {
          "base_uri": "https://localhost:8080/"
        },
        "outputId": "ae7c9e91-133e-4f70-f19c-e2bd5aa420c5"
      },
      "source": [
        "#array_L = df.iloc[:, 0]\r\n",
        "array_L = df[ \"L\" ]\r\n",
        "array_L"
      ],
      "execution_count": 7,
      "outputs": [
        {
          "output_type": "execute_result",
          "data": {
            "text/plain": [
              "0     149.81\n",
              "1     149.90\n",
              "2     150.10\n",
              "3     150.50\n",
              "4     149.80\n",
              "5     149.80\n",
              "6     149.71\n",
              "7     150.21\n",
              "8     149.75\n",
              "9     150.10\n",
              "10    150.15\n",
              "11    150.10\n",
              "12    150.00\n",
              "13    150.40\n",
              "14    149.91\n",
              "15    150.10\n",
              "16    150.09\n",
              "17    150.00\n",
              "Name: L, dtype: float64"
            ]
          },
          "metadata": {
            "tags": []
          },
          "execution_count": 7
        }
      ]
    },
    {
      "cell_type": "markdown",
      "metadata": {
        "id": "o9JpjHcKYsZg"
      },
      "source": [
        "Média:"
      ]
    },
    {
      "cell_type": "code",
      "metadata": {
        "colab": {
          "base_uri": "https://localhost:8080/"
        },
        "id": "abASwGnHbUGG",
        "outputId": "0bb841f8-d3c7-40f1-8d86-0d857fb17dc5"
      },
      "source": [
        "np.sum( array_L )"
      ],
      "execution_count": 8,
      "outputs": [
        {
          "output_type": "execute_result",
          "data": {
            "text/plain": [
              "2700.4300000000003"
            ]
          },
          "metadata": {
            "tags": []
          },
          "execution_count": 8
        }
      ]
    },
    {
      "cell_type": "code",
      "metadata": {
        "colab": {
          "base_uri": "https://localhost:8080/"
        },
        "id": "yo2BDdQSbpIG",
        "outputId": "ac09e027-8307-46d1-809f-d159631a3e71"
      },
      "source": [
        "N = array_L.size\r\n",
        "N"
      ],
      "execution_count": 9,
      "outputs": [
        {
          "output_type": "execute_result",
          "data": {
            "text/plain": [
              "18"
            ]
          },
          "metadata": {
            "tags": []
          },
          "execution_count": 9
        }
      ]
    },
    {
      "cell_type": "code",
      "metadata": {
        "colab": {
          "base_uri": "https://localhost:8080/"
        },
        "id": "VPkzOS1JbjHy",
        "outputId": "079ecf10-d182-4f9c-8d42-b8ae5bcd1a29"
      },
      "source": [
        "media = np.sum( array_L ) / N\r\n",
        "print ( \"Média: {}\".format( media ) )"
      ],
      "execution_count": 10,
      "outputs": [
        {
          "output_type": "stream",
          "text": [
            "Média: 150.0238888888889\n"
          ],
          "name": "stdout"
        }
      ]
    },
    {
      "cell_type": "markdown",
      "metadata": {
        "id": "ToFrk8K2b9SM"
      },
      "source": [
        "Usando a função do NumPy:"
      ]
    },
    {
      "cell_type": "code",
      "metadata": {
        "colab": {
          "base_uri": "https://localhost:8080/"
        },
        "id": "24zO6H-cb09f",
        "outputId": "3aa29eae-5cb4-4e51-c565-4cfc4fe845be"
      },
      "source": [
        "#array_L.mean()\r\n",
        "np.mean( array_L )"
      ],
      "execution_count": 11,
      "outputs": [
        {
          "output_type": "execute_result",
          "data": {
            "text/plain": [
              "150.02388888888888"
            ]
          },
          "metadata": {
            "tags": []
          },
          "execution_count": 11
        }
      ]
    },
    {
      "cell_type": "markdown",
      "metadata": {
        "id": "1NNGd8LXcfgT"
      },
      "source": [
        "Histograma usando matplotlib:"
      ]
    },
    {
      "cell_type": "code",
      "metadata": {
        "colab": {
          "base_uri": "https://localhost:8080/",
          "height": 413
        },
        "id": "I9Xy3LUZcGQH",
        "outputId": "61aaa264-7856-401d-f23e-bbc0f42de38c"
      },
      "source": [
        "fig = plt.figure( figsize=(8,6) )\r\n",
        "\r\n",
        "counts, bins, _ = plt.hist( array_L, bins=10, range=(149.0, 151.0) )\r\n",
        "plt.xlim( 149.0, 151.0 )\r\n",
        "plt.xlabel( \"L (cm)\", fontsize=18 )\r\n",
        "plt.ylabel( \"Frequência\", fontsize=18 )"
      ],
      "execution_count": 12,
      "outputs": [
        {
          "output_type": "execute_result",
          "data": {
            "text/plain": [
              "Text(0, 0.5, 'Frequência')"
            ]
          },
          "metadata": {
            "tags": []
          },
          "execution_count": 12
        },
        {
          "output_type": "display_data",
          "data": {
            "image/png": "[encoded data removed]",
            "text/plain": [
              "<Figure size 576x432 with 1 Axes>"
            ]
          },
          "metadata": {
            "tags": [],
            "needs_background": "light"
          }
        }
      ]
    },
    {
      "cell_type": "markdown",
      "metadata": {
        "id": "iT6dJVu6oYiw"
      },
      "source": [
        "Frequência para cada intervalo:"
      ]
    },
    {
      "cell_type": "code",
      "metadata": {
        "colab": {
          "base_uri": "https://localhost:8080/"
        },
        "id": "yEmDD7jjc9H2",
        "outputId": "4e962f6c-ba1e-4187-aab5-db3f14163d37"
      },
      "source": [
        "counts"
      ],
      "execution_count": 13,
      "outputs": [
        {
          "output_type": "execute_result",
          "data": {
            "text/plain": [
              "array([0., 0., 0., 2., 5., 8., 1., 2., 0., 0.])"
            ]
          },
          "metadata": {
            "tags": []
          },
          "execution_count": 13
        }
      ]
    },
    {
      "cell_type": "markdown",
      "metadata": {
        "id": "Y9ZrH04dod29"
      },
      "source": [
        "Bordas dos intervalos:"
      ]
    },
    {
      "cell_type": "code",
      "metadata": {
        "colab": {
          "base_uri": "https://localhost:8080/"
        },
        "id": "FBL0Psyzdocq",
        "outputId": "4cda8358-c7bb-4da6-af9b-624ca09d576a"
      },
      "source": [
        "bins"
      ],
      "execution_count": 14,
      "outputs": [
        {
          "output_type": "execute_result",
          "data": {
            "text/plain": [
              "array([149. , 149.2, 149.4, 149.6, 149.8, 150. , 150.2, 150.4, 150.6,\n",
              "       150.8, 151. ])"
            ]
          },
          "metadata": {
            "tags": []
          },
          "execution_count": 14
        }
      ]
    },
    {
      "cell_type": "code",
      "metadata": {
        "id": "i16O15sxqAcC",
        "colab": {
          "base_uri": "https://localhost:8080/"
        },
        "outputId": "476d6de9-c8e8-4130-db92-5d12f7bfcb11"
      },
      "source": [
        "np.histogram( array_L, bins=10, range=(149.0, 151.0) )"
      ],
      "execution_count": 15,
      "outputs": [
        {
          "output_type": "execute_result",
          "data": {
            "text/plain": [
              "(array([0, 0, 0, 2, 5, 8, 1, 2, 0, 0]),\n",
              " array([149. , 149.2, 149.4, 149.6, 149.8, 150. , 150.2, 150.4, 150.6,\n",
              "        150.8, 151. ]))"
            ]
          },
          "metadata": {
            "tags": []
          },
          "execution_count": 15
        }
      ]
    },
    {
      "cell_type": "markdown",
      "metadata": {
        "id": "JVNvT7bvrHLL"
      },
      "source": [
        "Cálculo da média quadrática:"
      ]
    },
    {
      "cell_type": "code",
      "metadata": {
        "id": "eOFjs_enrKQz",
        "colab": {
          "base_uri": "https://localhost:8080/"
        },
        "outputId": "04b8bda6-0afb-4f0b-8d79-b7689fe2a74a"
      },
      "source": [
        "# Sequência de valores ao quadrado\r\n",
        "array_L ** 2"
      ],
      "execution_count": 16,
      "outputs": [
        {
          "output_type": "execute_result",
          "data": {
            "text/plain": [
              "0     22443.0361\n",
              "1     22470.0100\n",
              "2     22530.0100\n",
              "3     22650.2500\n",
              "4     22440.0400\n",
              "5     22440.0400\n",
              "6     22413.0841\n",
              "7     22563.0441\n",
              "8     22425.0625\n",
              "9     22530.0100\n",
              "10    22545.0225\n",
              "11    22530.0100\n",
              "12    22500.0000\n",
              "13    22620.1600\n",
              "14    22473.0081\n",
              "15    22530.0100\n",
              "16    22527.0081\n",
              "17    22500.0000\n",
              "Name: L, dtype: float64"
            ]
          },
          "metadata": {
            "tags": []
          },
          "execution_count": 16
        }
      ]
    },
    {
      "cell_type": "code",
      "metadata": {
        "id": "Cj_ZHPwerPjs",
        "colab": {
          "base_uri": "https://localhost:8080/"
        },
        "outputId": "00ae6387-c484-44f3-aa84-6b1f6c3bfa46"
      },
      "source": [
        "print ( \"Média quadrática: {}\".format( np.sqrt( np.mean( array_L ** 2 ) ) ) )"
      ],
      "execution_count": 17,
      "outputs": [
        {
          "output_type": "stream",
          "text": [
            "Média quadrática: 150.02403612977045\n"
          ],
          "name": "stdout"
        }
      ]
    },
    {
      "cell_type": "markdown",
      "metadata": {
        "id": "M17EJT4NovDe"
      },
      "source": [
        "Cálculo da mediana:"
      ]
    },
    {
      "cell_type": "code",
      "metadata": {
        "id": "i6nyeyP5oxoC",
        "colab": {
          "base_uri": "https://localhost:8080/"
        },
        "outputId": "fb246629-86b2-447b-8c7b-79d3a5ec0c00"
      },
      "source": [
        "array_L_ord = np.sort( array_L )\r\n",
        "array_L_ord"
      ],
      "execution_count": 18,
      "outputs": [
        {
          "output_type": "execute_result",
          "data": {
            "text/plain": [
              "array([149.71, 149.75, 149.8 , 149.8 , 149.81, 149.9 , 149.91, 150.  ,\n",
              "       150.  , 150.09, 150.1 , 150.1 , 150.1 , 150.1 , 150.15, 150.21,\n",
              "       150.4 , 150.5 ])"
            ]
          },
          "metadata": {
            "tags": []
          },
          "execution_count": 18
        }
      ]
    },
    {
      "cell_type": "code",
      "metadata": {
        "id": "MC5cSBgUpBub",
        "colab": {
          "base_uri": "https://localhost:8080/"
        },
        "outputId": "f0543716-5cff-4afa-ebb9-0e814dcc0a7d"
      },
      "source": [
        "array_L_ord[ int(N/2) - 1 ] # Índices de 0..(N-1)"
      ],
      "execution_count": 19,
      "outputs": [
        {
          "output_type": "execute_result",
          "data": {
            "text/plain": [
              "150.0"
            ]
          },
          "metadata": {
            "tags": []
          },
          "execution_count": 19
        }
      ]
    },
    {
      "cell_type": "code",
      "metadata": {
        "id": "Dvrc-bBmpCU2",
        "colab": {
          "base_uri": "https://localhost:8080/"
        },
        "outputId": "4cf199ba-7242-4ce8-db64-9610ac6953ed"
      },
      "source": [
        "array_L_ord[ int(N/2) ] # Índices de 0..(N-1)"
      ],
      "execution_count": 20,
      "outputs": [
        {
          "output_type": "execute_result",
          "data": {
            "text/plain": [
              "150.09"
            ]
          },
          "metadata": {
            "tags": []
          },
          "execution_count": 20
        }
      ]
    },
    {
      "cell_type": "code",
      "metadata": {
        "id": "gvyrtEtZph1d",
        "colab": {
          "base_uri": "https://localhost:8080/"
        },
        "outputId": "e0ac8776-30f2-4901-801a-ca6a428fcd56"
      },
      "source": [
        "np.median( array_L )"
      ],
      "execution_count": 21,
      "outputs": [
        {
          "output_type": "execute_result",
          "data": {
            "text/plain": [
              "150.04500000000002"
            ]
          },
          "metadata": {
            "tags": []
          },
          "execution_count": 21
        }
      ]
    },
    {
      "cell_type": "code",
      "metadata": {
        "id": "HrAAt2iCppXX",
        "colab": {
          "base_uri": "https://localhost:8080/"
        },
        "outputId": "0a718bff-e442-4ddd-f31e-033405123daa"
      },
      "source": [
        "np.percentile( array_L, 50.0 )"
      ],
      "execution_count": 22,
      "outputs": [
        {
          "output_type": "execute_result",
          "data": {
            "text/plain": [
              "150.04500000000002"
            ]
          },
          "metadata": {
            "tags": []
          },
          "execution_count": 22
        }
      ]
    },
    {
      "cell_type": "markdown",
      "metadata": {
        "id": "wlwyn9e1qW5h"
      },
      "source": [
        "Cálculo da moda (histograma):"
      ]
    },
    {
      "cell_type": "code",
      "metadata": {
        "id": "xVsYIfzsqTvy",
        "colab": {
          "base_uri": "https://localhost:8080/"
        },
        "outputId": "1dc411d9-6000-4d79-ea47-dd34653395f1"
      },
      "source": [
        "idx_max = np.argmax( counts )\r\n",
        "print ( \"Valor máximo: {}\".format( counts[ idx_max ] ) )\r\n",
        "print ( \"Intervalo com valor máximo: ({},{})\".format( bins[ idx_max ], bins[ idx_max+1 ] ) )"
      ],
      "execution_count": 23,
      "outputs": [
        {
          "output_type": "stream",
          "text": [
            "Valor máximo: 8.0\n",
            "Intervalo com valor máximo: (150.0,150.2)\n"
          ],
          "name": "stdout"
        }
      ]
    },
    {
      "cell_type": "markdown",
      "metadata": {
        "id": "Wbmmxx57oq7g"
      },
      "source": [
        "Cálculo da variância:"
      ]
    },
    {
      "cell_type": "code",
      "metadata": {
        "id": "anAIgkQkN9Mb",
        "colab": {
          "base_uri": "https://localhost:8080/"
        },
        "outputId": "966ced12-3af5-446d-b817-661da2388ae1"
      },
      "source": [
        "# Diferença entre média dos quadrados e quadrado da média\r\n",
        "variancia_L = np.mean( array_L ** 2 ) - np.mean( array_L ) ** 2\r\n",
        "variancia_L"
      ],
      "execution_count": 24,
      "outputs": [
        {
          "output_type": "execute_result",
          "data": {
            "text/plain": [
              "0.04417932099386235"
            ]
          },
          "metadata": {
            "tags": []
          },
          "execution_count": 24
        }
      ]
    },
    {
      "cell_type": "markdown",
      "metadata": {
        "id": "ounsA3ywsL3s"
      },
      "source": [
        "Usando NumPy:"
      ]
    },
    {
      "cell_type": "code",
      "metadata": {
        "id": "RYXTCgQ6sBUt",
        "colab": {
          "base_uri": "https://localhost:8080/"
        },
        "outputId": "ae792b43-5a19-422b-df5a-08e93e615deb"
      },
      "source": [
        "np.var( array_L )"
      ],
      "execution_count": 25,
      "outputs": [
        {
          "output_type": "execute_result",
          "data": {
            "text/plain": [
              "0.044179320987653696"
            ]
          },
          "metadata": {
            "tags": []
          },
          "execution_count": 25
        }
      ]
    },
    {
      "cell_type": "code",
      "metadata": {
        "id": "swdwuJFRsZmH",
        "colab": {
          "base_uri": "https://localhost:8080/"
        },
        "outputId": "950d6746-6d42-4016-d43a-de8aaabbf94f"
      },
      "source": [
        "np.var( array_L, ddof=0 )"
      ],
      "execution_count": 26,
      "outputs": [
        {
          "output_type": "execute_result",
          "data": {
            "text/plain": [
              "0.044179320987653696"
            ]
          },
          "metadata": {
            "tags": []
          },
          "execution_count": 26
        }
      ]
    },
    {
      "cell_type": "markdown",
      "metadata": {
        "id": "SdwJ4r6vsgNM"
      },
      "source": [
        "Desvio padrão:"
      ]
    },
    {
      "cell_type": "code",
      "metadata": {
        "id": "ck-etqV9scnJ",
        "colab": {
          "base_uri": "https://localhost:8080/"
        },
        "outputId": "3863edc5-b327-4186-89fc-66453d2d0286"
      },
      "source": [
        "std_dev_L = np.sqrt( variancia_L )\r\n",
        "std_dev_L"
      ],
      "execution_count": 27,
      "outputs": [
        {
          "output_type": "execute_result",
          "data": {
            "text/plain": [
              "0.21018877466187946"
            ]
          },
          "metadata": {
            "tags": []
          },
          "execution_count": 27
        }
      ]
    },
    {
      "cell_type": "code",
      "metadata": {
        "id": "okjC1U0tsonM",
        "colab": {
          "base_uri": "https://localhost:8080/"
        },
        "outputId": "0c57f8d4-bd66-411b-ee5e-a2ceee017d58"
      },
      "source": [
        "np.std( array_L )"
      ],
      "execution_count": 28,
      "outputs": [
        {
          "output_type": "execute_result",
          "data": {
            "text/plain": [
              "0.21018877464711025"
            ]
          },
          "metadata": {
            "tags": []
          },
          "execution_count": 28
        }
      ]
    },
    {
      "cell_type": "code",
      "metadata": {
        "id": "aj2fvyhTs5xD",
        "colab": {
          "base_uri": "https://localhost:8080/"
        },
        "outputId": "b4eb3f2a-49ac-46a7-d4e4-7ba5413de598"
      },
      "source": [
        "np.std( array_L, ddof=0 )"
      ],
      "execution_count": 29,
      "outputs": [
        {
          "output_type": "execute_result",
          "data": {
            "text/plain": [
              "0.21018877464711025"
            ]
          },
          "metadata": {
            "tags": []
          },
          "execution_count": 29
        }
      ]
    },
    {
      "cell_type": "markdown",
      "metadata": {
        "id": "_NSXYYedtALT"
      },
      "source": [
        "Desvio médio:"
      ]
    },
    {
      "cell_type": "code",
      "metadata": {
        "id": "-1doONK-s9Ni",
        "colab": {
          "base_uri": "https://localhost:8080/"
        },
        "outputId": "f0d00e94-2b2d-4ab1-98e3-0784fde1fe0b"
      },
      "source": [
        "# Sequência de desvios em relação à média\r\n",
        "( array_L - np.mean( array_L ) )"
      ],
      "execution_count": 30,
      "outputs": [
        {
          "output_type": "execute_result",
          "data": {
            "text/plain": [
              "0    -0.213889\n",
              "1    -0.123889\n",
              "2     0.076111\n",
              "3     0.476111\n",
              "4    -0.223889\n",
              "5    -0.223889\n",
              "6    -0.313889\n",
              "7     0.186111\n",
              "8    -0.273889\n",
              "9     0.076111\n",
              "10    0.126111\n",
              "11    0.076111\n",
              "12   -0.023889\n",
              "13    0.376111\n",
              "14   -0.113889\n",
              "15    0.076111\n",
              "16    0.066111\n",
              "17   -0.023889\n",
              "Name: L, dtype: float64"
            ]
          },
          "metadata": {
            "tags": []
          },
          "execution_count": 30
        }
      ]
    },
    {
      "cell_type": "code",
      "metadata": {
        "id": "wP-qpFL5tIRo",
        "colab": {
          "base_uri": "https://localhost:8080/"
        },
        "outputId": "0a49c72a-721c-42c6-fed1-4c9c0144930d"
      },
      "source": [
        "# Desvios absolutos\r\n",
        "np.abs( array_L - np.mean( array_L ) )"
      ],
      "execution_count": 31,
      "outputs": [
        {
          "output_type": "execute_result",
          "data": {
            "text/plain": [
              "0     0.213889\n",
              "1     0.123889\n",
              "2     0.076111\n",
              "3     0.476111\n",
              "4     0.223889\n",
              "5     0.223889\n",
              "6     0.313889\n",
              "7     0.186111\n",
              "8     0.273889\n",
              "9     0.076111\n",
              "10    0.126111\n",
              "11    0.076111\n",
              "12    0.023889\n",
              "13    0.376111\n",
              "14    0.113889\n",
              "15    0.076111\n",
              "16    0.066111\n",
              "17    0.023889\n",
              "Name: L, dtype: float64"
            ]
          },
          "metadata": {
            "tags": []
          },
          "execution_count": 31
        }
      ]
    },
    {
      "cell_type": "code",
      "metadata": {
        "id": "4N88IeyWtPm-",
        "colab": {
          "base_uri": "https://localhost:8080/"
        },
        "outputId": "b5f1f4d7-44fc-4c57-97bc-1b8980f68905"
      },
      "source": [
        "desvio_medio = np.mean( np.abs( array_L - np.mean( array_L ) ) )\r\n",
        "print ( \"Desvio médio: {}\".format( desvio_medio ) )"
      ],
      "execution_count": 32,
      "outputs": [
        {
          "output_type": "stream",
          "text": [
            "Desvio médio: 0.1705555555555536\n"
          ],
          "name": "stdout"
        }
      ]
    },
    {
      "cell_type": "markdown",
      "metadata": {
        "id": "KFxSt7i6tugM"
      },
      "source": [
        "Largura a meia altura (histograma):\r\n",
        "\r\n",
        "- Pode ser obtido via inspeção direta do histograma.\r\n",
        "\r\n",
        "- O fragmento de código abaixo automatiza o procedimento."
      ]
    },
    {
      "cell_type": "code",
      "metadata": {
        "id": "6fwBIjrrtgRJ",
        "colab": {
          "base_uri": "https://localhost:8080/",
          "height": 430
        },
        "outputId": "7254ac2b-ee4b-4a9d-f15c-7dd12db94481"
      },
      "source": [
        "fig = plt.figure( figsize=(8,6) )\r\n",
        "\r\n",
        "x_min = 149.0\r\n",
        "x_max = 151.0\r\n",
        "\r\n",
        "counts, bins, _ = plt.hist( array_L, bins=10, range=(x_min, x_max) )\r\n",
        "\r\n",
        "valor_maximo = np.max( counts )\r\n",
        "\r\n",
        "valor_meia_altura = valor_maximo / 2\r\n",
        "\r\n",
        "print ( \"Valor meia altura: {}\".format( valor_meia_altura ) )\r\n",
        "\r\n",
        "plt.plot( (x_min,x_max),(valor_meia_altura,valor_meia_altura), 'k-', linewidth=0.5 )\r\n",
        "\r\n",
        "idx_bin_1 = np.argmax( counts >= valor_meia_altura )\r\n",
        "idx_bin_2 = counts.size - np.argmax( counts[::-1] >= valor_meia_altura ) - 1\r\n",
        "\r\n",
        "val_L_meia_altura_1 = bins[ idx_bin_1 ]\r\n",
        "val_L_meia_altura_2 = bins[ idx_bin_2 + 1 ]\r\n",
        "\r\n",
        "plt.arrow( val_L_meia_altura_1, valor_maximo , 0., -1., head_width=0.025, head_length=0.1 )\r\n",
        "plt.arrow( val_L_meia_altura_2, valor_maximo , 0., -1., head_width=0.025, head_length=0.1 )\r\n",
        "\r\n",
        "plt.xlim( 149.0, 151.0 )\r\n",
        "plt.xlabel( \"L (cm)\", fontsize=18 )\r\n",
        "plt.ylabel( \"Frequência\", fontsize=18 )\r\n",
        "\r\n",
        "largura_meia_altura = ( val_L_meia_altura_2 - val_L_meia_altura_1 )\r\n",
        "print ( \"Largura a meia altura: {}\".format( largura_meia_altura ) )\r\n"
      ],
      "execution_count": 33,
      "outputs": [
        {
          "output_type": "stream",
          "text": [
            "Valor meia altura: 4.0\n",
            "Largura a meia altura: 0.39999999999997726\n"
          ],
          "name": "stdout"
        },
        {
          "output_type": "display_data",
          "data": {
            "image/png": "[encoded data removed]",
            "text/plain": [
              "<Figure size 576x432 with 1 Axes>"
            ]
          },
          "metadata": {
            "tags": [],
            "needs_background": "light"
          }
        }
      ]
    },
    {
      "cell_type": "code",
      "metadata": {
        "id": "NpBEDhOevStJ"
      },
      "source": [
        ""
      ],
      "execution_count": 33,
      "outputs": []
    }
  ]
}