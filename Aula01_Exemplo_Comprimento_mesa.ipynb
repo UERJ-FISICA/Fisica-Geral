{
  "nbformat": 4,
  "nbformat_minor": 0,
  "metadata": {
    "colab": {
      "name": "Aula01-Exemplo-Comprimento-mesa.ipynb",
      "provenance": [],
      "authorship_tag": "ABX9TyNvqX4+DDIJdSaeVsAbbdaU",
      "include_colab_link": true
    },
    "kernelspec": {
      "name": "python3",
      "display_name": "Python 3"
    }
  },
  "cells": [
    {
      "cell_type": "markdown",
      "metadata": {
        "id": "view-in-github",
        "colab_type": "text"
      },
      "source": [
        "<a href=\"https://colab.research.google.com/github/UERJ-FISICA/Fisica-Geral/blob/main/Aula01_Exemplo_Comprimento_mesa.ipynb\" target=\"_parent\"><img src=\"https://colab.research.google.com/assets/colab-badge.svg\" alt=\"Open In Colab\"/></a>"
      ]
    },
    {
      "cell_type": "markdown",
      "metadata": {
        "id": "hSwdpvBaao8M"
      },
      "source": [
        "Carregando pacotes NumPy, pandas e matplotlib"
      ]
    },
    {
      "cell_type": "code",
      "metadata": {
        "id": "l6olWLxkZXOH"
      },
      "source": [
        "import numpy as np\r\n",
        "import pandas as pd\r\n",
        "import matplotlib as mpl\r\n",
        "import matplotlib.pyplot as plt"
      ],
      "execution_count": 1,
      "outputs": []
    },
    {
      "cell_type": "markdown",
      "metadata": {
        "id": "JbfOIX7GaOeO"
      },
      "source": [
        "Copiando e lendo dados de comprimento das mesas"
      ]
    },
    {
      "cell_type": "code",
      "metadata": {
        "id": "3V0TsRLEhUwn",
        "colab": {
          "base_uri": "https://localhost:8080/"
        },
        "outputId": "263e3cce-0cb6-4f14-b0fd-2acb1eea392d"
      },
      "source": [
        "!curl -o Atividades-Aula01-Comprimento-mesa.xlsx https://raw.githubusercontent.com/UERJ-FISICA/Fisica-Geral/main/dados/Atividades-Aula01-Comprimento-mesa.xlsx"
      ],
      "execution_count": 2,
      "outputs": [
        {
          "output_type": "stream",
          "text": [
            "  % Total    % Received % Xferd  Average Speed   Time    Time     Time  Current\n",
            "                                 Dload  Upload   Total   Spent    Left  Speed\n",
            "100 15829  100 15829    0     0  76468      0 --:--:-- --:--:-- --:--:-- 76468\n"
          ],
          "name": "stdout"
        }
      ]
    },
    {
      "cell_type": "code",
      "metadata": {
        "id": "oon0nDYch_m2",
        "colab": {
          "base_uri": "https://localhost:8080/"
        },
        "outputId": "6129a1e6-97db-42c8-84ec-edce9892d4cb"
      },
      "source": [
        "!ls -lah"
      ],
      "execution_count": 3,
      "outputs": [
        {
          "output_type": "stream",
          "text": [
            "total 32K\n",
            "drwxr-xr-x 1 root root 4.0K Mar  1 18:20 .\n",
            "drwxr-xr-x 1 root root 4.0K Mar  1 18:17 ..\n",
            "-rw-r--r-- 1 root root  16K Mar  1 18:36 Atividades-Aula01-Comprimento-mesa.xlsx\n",
            "drwxr-xr-x 4 root root 4.0K Feb 24 17:48 .config\n",
            "drwxr-xr-x 1 root root 4.0K Feb 24 17:49 sample_data\n"
          ],
          "name": "stdout"
        }
      ]
    },
    {
      "cell_type": "code",
      "metadata": {
        "id": "g6s3chFmWE9A"
      },
      "source": [
        "#help(pd.read_excel)\r\n",
        "df = pd.read_excel( \"Atividades-Aula01-Comprimento-mesa.xlsx\", sheet_name=\"Comprimento mesa\", usecols=[0], nrows=18 )"
      ],
      "execution_count": 4,
      "outputs": []
    },
    {
      "cell_type": "code",
      "metadata": {
        "colab": {
          "base_uri": "https://localhost:8080/",
          "height": 580
        },
        "id": "LCTuTS9SXjZE",
        "outputId": "1b28d6fc-c64e-408d-d9f2-048641b9ef79"
      },
      "source": [
        "df"
      ],
      "execution_count": 5,
      "outputs": [
        {
          "output_type": "execute_result",
          "data": {
            "text/html": [
              "<div>\n",
              "<style scoped>\n",
              "    .dataframe tbody tr th:only-of-type {\n",
              "        vertical-align: middle;\n",
              "    }\n",
              "\n",
              "    .dataframe tbody tr th {\n",
              "        vertical-align: top;\n",
              "    }\n",
              "\n",
              "    .dataframe thead th {\n",
              "        text-align: right;\n",
              "    }\n",
              "</style>\n",
              "<table border=\"1\" class=\"dataframe\">\n",
              "  <thead>\n",
              "    <tr style=\"text-align: right;\">\n",
              "      <th></th>\n",
              "      <th>L (cm)</th>\n",
              "    </tr>\n",
              "  </thead>\n",
              "  <tbody>\n",
              "    <tr>\n",
              "      <th>0</th>\n",
              "      <td>149.81</td>\n",
              "    </tr>\n",
              "    <tr>\n",
              "      <th>1</th>\n",
              "      <td>149.90</td>\n",
              "    </tr>\n",
              "    <tr>\n",
              "      <th>2</th>\n",
              "      <td>150.10</td>\n",
              "    </tr>\n",
              "    <tr>\n",
              "      <th>3</th>\n",
              "      <td>150.50</td>\n",
              "    </tr>\n",
              "    <tr>\n",
              "      <th>4</th>\n",
              "      <td>149.80</td>\n",
              "    </tr>\n",
              "    <tr>\n",
              "      <th>5</th>\n",
              "      <td>149.80</td>\n",
              "    </tr>\n",
              "    <tr>\n",
              "      <th>6</th>\n",
              "      <td>149.71</td>\n",
              "    </tr>\n",
              "    <tr>\n",
              "      <th>7</th>\n",
              "      <td>150.21</td>\n",
              "    </tr>\n",
              "    <tr>\n",
              "      <th>8</th>\n",
              "      <td>149.75</td>\n",
              "    </tr>\n",
              "    <tr>\n",
              "      <th>9</th>\n",
              "      <td>150.10</td>\n",
              "    </tr>\n",
              "    <tr>\n",
              "      <th>10</th>\n",
              "      <td>150.15</td>\n",
              "    </tr>\n",
              "    <tr>\n",
              "      <th>11</th>\n",
              "      <td>150.10</td>\n",
              "    </tr>\n",
              "    <tr>\n",
              "      <th>12</th>\n",
              "      <td>150.00</td>\n",
              "    </tr>\n",
              "    <tr>\n",
              "      <th>13</th>\n",
              "      <td>150.40</td>\n",
              "    </tr>\n",
              "    <tr>\n",
              "      <th>14</th>\n",
              "      <td>149.91</td>\n",
              "    </tr>\n",
              "    <tr>\n",
              "      <th>15</th>\n",
              "      <td>150.10</td>\n",
              "    </tr>\n",
              "    <tr>\n",
              "      <th>16</th>\n",
              "      <td>150.09</td>\n",
              "    </tr>\n",
              "    <tr>\n",
              "      <th>17</th>\n",
              "      <td>150.00</td>\n",
              "    </tr>\n",
              "  </tbody>\n",
              "</table>\n",
              "</div>"
            ],
            "text/plain": [
              "    L (cm)\n",
              "0   149.81\n",
              "1   149.90\n",
              "2   150.10\n",
              "3   150.50\n",
              "4   149.80\n",
              "5   149.80\n",
              "6   149.71\n",
              "7   150.21\n",
              "8   149.75\n",
              "9   150.10\n",
              "10  150.15\n",
              "11  150.10\n",
              "12  150.00\n",
              "13  150.40\n",
              "14  149.91\n",
              "15  150.10\n",
              "16  150.09\n",
              "17  150.00"
            ]
          },
          "metadata": {
            "tags": []
          },
          "execution_count": 5
        }
      ]
    },
    {
      "cell_type": "markdown",
      "metadata": {
        "id": "mCcjhLRGa7sU"
      },
      "source": [
        "Média:"
      ]
    },
    {
      "cell_type": "code",
      "metadata": {
        "id": "gXqp7rSlZ2Gv",
        "outputId": "ed85e803-e22e-4f69-db34-436dc267b788",
        "colab": {
          "base_uri": "https://localhost:8080/"
        }
      },
      "source": [
        "array_L = df.iloc[:, 0]\r\n",
        "array_L"
      ],
      "execution_count": 6,
      "outputs": [
        {
          "output_type": "execute_result",
          "data": {
            "text/plain": [
              "0     149.81\n",
              "1     149.90\n",
              "2     150.10\n",
              "3     150.50\n",
              "4     149.80\n",
              "5     149.80\n",
              "6     149.71\n",
              "7     150.21\n",
              "8     149.75\n",
              "9     150.10\n",
              "10    150.15\n",
              "11    150.10\n",
              "12    150.00\n",
              "13    150.40\n",
              "14    149.91\n",
              "15    150.10\n",
              "16    150.09\n",
              "17    150.00\n",
              "Name: L (cm), dtype: float64"
            ]
          },
          "metadata": {
            "tags": []
          },
          "execution_count": 6
        }
      ]
    },
    {
      "cell_type": "code",
      "metadata": {
        "colab": {
          "base_uri": "https://localhost:8080/"
        },
        "id": "abASwGnHbUGG",
        "outputId": "a82ffbb1-55d6-4cb1-f192-058a8bcc919f"
      },
      "source": [
        "np.sum( array_L )"
      ],
      "execution_count": 7,
      "outputs": [
        {
          "output_type": "execute_result",
          "data": {
            "text/plain": [
              "2700.4300000000003"
            ]
          },
          "metadata": {
            "tags": []
          },
          "execution_count": 7
        }
      ]
    },
    {
      "cell_type": "code",
      "metadata": {
        "colab": {
          "base_uri": "https://localhost:8080/"
        },
        "id": "yo2BDdQSbpIG",
        "outputId": "591c00c2-cee8-42ff-c14f-dbc1e144157f"
      },
      "source": [
        "N = array_L.size\r\n",
        "N"
      ],
      "execution_count": 8,
      "outputs": [
        {
          "output_type": "execute_result",
          "data": {
            "text/plain": [
              "18"
            ]
          },
          "metadata": {
            "tags": []
          },
          "execution_count": 8
        }
      ]
    },
    {
      "cell_type": "code",
      "metadata": {
        "colab": {
          "base_uri": "https://localhost:8080/"
        },
        "id": "VPkzOS1JbjHy",
        "outputId": "783f6f6e-87f3-4bae-f050-ed0e3b1ba8d4"
      },
      "source": [
        "media = np.sum( array_L ) / N\r\n",
        "print ( \"Média: {}\".format( media ) )"
      ],
      "execution_count": 9,
      "outputs": [
        {
          "output_type": "stream",
          "text": [
            "Média: 150.0238888888889\n"
          ],
          "name": "stdout"
        }
      ]
    },
    {
      "cell_type": "markdown",
      "metadata": {
        "id": "ToFrk8K2b9SM"
      },
      "source": [
        "Usando a função do pacote:"
      ]
    },
    {
      "cell_type": "code",
      "metadata": {
        "colab": {
          "base_uri": "https://localhost:8080/"
        },
        "id": "24zO6H-cb09f",
        "outputId": "2eef387a-a63d-4523-f70c-a320f20b0472"
      },
      "source": [
        "#array_L.mean()\r\n",
        "np.mean( array_L )"
      ],
      "execution_count": 10,
      "outputs": [
        {
          "output_type": "execute_result",
          "data": {
            "text/plain": [
              "150.02388888888888"
            ]
          },
          "metadata": {
            "tags": []
          },
          "execution_count": 10
        }
      ]
    },
    {
      "cell_type": "markdown",
      "metadata": {
        "id": "1NNGd8LXcfgT"
      },
      "source": [
        "Histograma:"
      ]
    },
    {
      "cell_type": "code",
      "metadata": {
        "colab": {
          "base_uri": "https://localhost:8080/",
          "height": 413
        },
        "id": "I9Xy3LUZcGQH",
        "outputId": "0f3d9b46-6b41-4b57-e02a-863bd3ca1a52"
      },
      "source": [
        "fig = plt.figure( figsize=(8,6) )\r\n",
        "\r\n",
        "counts, bins, _ = plt.hist( array_L, bins=10, range=(149.0, 151.0) )\r\n",
        "plt.xlim( 149.0, 151.0 )\r\n",
        "plt.xlabel( \"L (cm)\", fontsize=18 )\r\n",
        "plt.ylabel( \"Frequência\", fontsize=18 )"
      ],
      "execution_count": 12,
      "outputs": [
        {
          "output_type": "execute_result",
          "data": {
            "text/plain": [
              "Text(0, 0.5, 'Frequência')"
            ]
          },
          "metadata": {
            "tags": []
          },
          "execution_count": 12
        },
        {
          "output_type": "display_data",
          "data": {
            "image/png": "[encoded data removed]",
            "text/plain": [
              "<Figure size 576x432 with 1 Axes>"
            ]
          },
          "metadata": {
            "tags": [],
            "needs_background": "light"
          }
        }
      ]
    },
    {
      "cell_type": "code",
      "metadata": {
        "colab": {
          "base_uri": "https://localhost:8080/"
        },
        "id": "yEmDD7jjc9H2",
        "outputId": "ab291188-e6dc-4977-9601-6bf609daff87"
      },
      "source": [
        "print ( counts )"
      ],
      "execution_count": 13,
      "outputs": [
        {
          "output_type": "stream",
          "text": [
            "[0. 0. 0. 2. 5. 8. 1. 2. 0. 0.]\n"
          ],
          "name": "stdout"
        }
      ]
    },
    {
      "cell_type": "code",
      "metadata": {
        "colab": {
          "base_uri": "https://localhost:8080/"
        },
        "id": "FBL0Psyzdocq",
        "outputId": "af2b5418-5fea-4f80-dce1-5225182d8841"
      },
      "source": [
        "print ( bins )"
      ],
      "execution_count": 14,
      "outputs": [
        {
          "output_type": "stream",
          "text": [
            "[149.  149.2 149.4 149.6 149.8 150.  150.2 150.4 150.6 150.8 151. ]\n"
          ],
          "name": "stdout"
        }
      ]
    },
    {
      "cell_type": "code",
      "metadata": {
        "id": "anAIgkQkN9Mb"
      },
      "source": [
        ""
      ],
      "execution_count": null,
      "outputs": []
    }
  ]
}