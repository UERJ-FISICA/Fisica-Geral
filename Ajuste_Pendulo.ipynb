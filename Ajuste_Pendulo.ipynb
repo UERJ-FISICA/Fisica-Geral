{
  "nbformat": 4,
  "nbformat_minor": 0,
  "metadata": {
    "colab": {
      "name": "Ajuste-Pendulo.ipynb",
      "provenance": [],
      "collapsed_sections": [],
      "toc_visible": true,
      "authorship_tag": "ABX9TyM2CGaO2vuoHzaJeClGIt7L",
      "include_colab_link": true
    },
    "kernelspec": {
      "name": "python3",
      "display_name": "Python 3"
    },
    "language_info": {
      "name": "python"
    }
  },
  "cells": [
    {
      "cell_type": "markdown",
      "metadata": {
        "id": "view-in-github",
        "colab_type": "text"
      },
      "source": [
        "<a href=\"https://colab.research.google.com/github/UERJ-FISICA/Fisica-Geral/blob/main/Ajuste_Pendulo.ipynb\" target=\"_parent\"><img src=\"https://colab.research.google.com/assets/colab-badge.svg\" alt=\"Open In Colab\"/></a>"
      ]
    },
    {
      "cell_type": "code",
      "metadata": {
        "id": "1mjmv-zKHhjv"
      },
      "source": [
        "import numpy as np\n",
        "import pandas as pd\n",
        "import matplotlib.pyplot as plt"
      ],
      "execution_count": 1,
      "outputs": []
    },
    {
      "cell_type": "markdown",
      "metadata": {
        "id": "0V_VmepIRICj"
      },
      "source": [
        "### Tabela de dados"
      ]
    },
    {
      "cell_type": "code",
      "metadata": {
        "id": "sj2ME32ofUXz",
        "outputId": "10dfead5-d8f0-4801-c7d6-59bac49f1107",
        "colab": {
          "base_uri": "https://localhost:8080/"
        }
      },
      "source": [
        "!curl -o dados-pendulo-FG-2020-2.xlsx https://github.com/UERJ-FISICA/Fisica-Geral/raw/main/dados/dados-pendulo-FG-2020-2.xlsx"
      ],
      "execution_count": 4,
      "outputs": [
        {
          "output_type": "stream",
          "text": [
            "  % Total    % Received % Xferd  Average Speed   Time    Time     Time  Current\n",
            "                                 Dload  Upload   Total   Spent    Left  Speed\n",
            "\r  0     0    0     0    0     0      0      0 --:--:-- --:--:-- --:--:--     0\r100   164  100   164    0     0   1726      0 --:--:-- --:--:-- --:--:--  1726\n"
          ],
          "name": "stdout"
        }
      ]
    },
    {
      "cell_type": "code",
      "metadata": {
        "colab": {
          "base_uri": "https://localhost:8080/"
        },
        "id": "iGCFD3SVOjof",
        "outputId": "c5eace28-323b-4889-cd6d-b7d19c8b7956"
      },
      "source": [
        "!ls"
      ],
      "execution_count": 5,
      "outputs": [
        {
          "output_type": "stream",
          "text": [
            "dados-pendulo-FG-2020-2.xlsx  sample_data\n"
          ],
          "name": "stdout"
        }
      ]
    },
    {
      "cell_type": "code",
      "metadata": {
        "id": "uL_a6Sh8PHud"
      },
      "source": [
        "df__ = pd.read_excel( \"dados-pendulo-FG-2020-2.xlsx\", sheet_name=\"Dados\", usecols=range(1,7), header=None, skiprows=[1], names=[ \"L1\", \"L2\", \"L3\", \"L4\", \"L5\", \"L6\" ], nrows=11 )\n",
        "arr_comprimento = df__.iloc[ 0 ]\n",
        "df_periodo = df__.iloc[ 1 : ]"
      ],
      "execution_count": null,
      "outputs": []
    },
    {
      "cell_type": "code",
      "metadata": {
        "colab": {
          "base_uri": "https://localhost:8080/"
        },
        "id": "JNKkVZcbPnGk",
        "outputId": "7a801ee6-9c72-4c85-ba7e-b83bcf289383"
      },
      "source": [
        "arr_comprimento"
      ],
      "execution_count": null,
      "outputs": [
        {
          "output_type": "execute_result",
          "data": {
            "text/plain": [
              "L1    32.0\n",
              "L2    41.5\n",
              "L3    50.0\n",
              "L4    59.5\n",
              "L5    68.3\n",
              "L6    77.3\n",
              "Name: 0, dtype: float64"
            ]
          },
          "metadata": {
            "tags": []
          },
          "execution_count": 4
        }
      ]
    },
    {
      "cell_type": "code",
      "metadata": {
        "colab": {
          "base_uri": "https://localhost:8080/",
          "height": 343
        },
        "id": "Oa21mk6TQQNJ",
        "outputId": "defcee0f-e5da-4dc1-8299-4c94334372a0"
      },
      "source": [
        "df_periodo"
      ],
      "execution_count": null,
      "outputs": [
        {
          "output_type": "execute_result",
          "data": {
            "text/html": [
              "<div>\n",
              "<style scoped>\n",
              "    .dataframe tbody tr th:only-of-type {\n",
              "        vertical-align: middle;\n",
              "    }\n",
              "\n",
              "    .dataframe tbody tr th {\n",
              "        vertical-align: top;\n",
              "    }\n",
              "\n",
              "    .dataframe thead th {\n",
              "        text-align: right;\n",
              "    }\n",
              "</style>\n",
              "<table border=\"1\" class=\"dataframe\">\n",
              "  <thead>\n",
              "    <tr style=\"text-align: right;\">\n",
              "      <th></th>\n",
              "      <th>L1</th>\n",
              "      <th>L2</th>\n",
              "      <th>L3</th>\n",
              "      <th>L4</th>\n",
              "      <th>L5</th>\n",
              "      <th>L6</th>\n",
              "    </tr>\n",
              "  </thead>\n",
              "  <tbody>\n",
              "    <tr>\n",
              "      <th>1</th>\n",
              "      <td>23.52</td>\n",
              "      <td>26.63</td>\n",
              "      <td>29.32</td>\n",
              "      <td>31.62</td>\n",
              "      <td>33.74</td>\n",
              "      <td>36.01</td>\n",
              "    </tr>\n",
              "    <tr>\n",
              "      <th>2</th>\n",
              "      <td>23.41</td>\n",
              "      <td>26.63</td>\n",
              "      <td>29.26</td>\n",
              "      <td>31.52</td>\n",
              "      <td>33.78</td>\n",
              "      <td>35.26</td>\n",
              "    </tr>\n",
              "    <tr>\n",
              "      <th>3</th>\n",
              "      <td>23.65</td>\n",
              "      <td>26.63</td>\n",
              "      <td>29.20</td>\n",
              "      <td>31.70</td>\n",
              "      <td>33.20</td>\n",
              "      <td>35.22</td>\n",
              "    </tr>\n",
              "    <tr>\n",
              "      <th>4</th>\n",
              "      <td>23.36</td>\n",
              "      <td>26.60</td>\n",
              "      <td>29.19</td>\n",
              "      <td>31.55</td>\n",
              "      <td>33.79</td>\n",
              "      <td>35.75</td>\n",
              "    </tr>\n",
              "    <tr>\n",
              "      <th>5</th>\n",
              "      <td>23.46</td>\n",
              "      <td>26.52</td>\n",
              "      <td>29.32</td>\n",
              "      <td>31.75</td>\n",
              "      <td>33.62</td>\n",
              "      <td>35.35</td>\n",
              "    </tr>\n",
              "    <tr>\n",
              "      <th>6</th>\n",
              "      <td>23.61</td>\n",
              "      <td>26.44</td>\n",
              "      <td>29.25</td>\n",
              "      <td>31.63</td>\n",
              "      <td>33.73</td>\n",
              "      <td>35.65</td>\n",
              "    </tr>\n",
              "    <tr>\n",
              "      <th>7</th>\n",
              "      <td>23.50</td>\n",
              "      <td>26.63</td>\n",
              "      <td>29.15</td>\n",
              "      <td>31.53</td>\n",
              "      <td>33.71</td>\n",
              "      <td>35.49</td>\n",
              "    </tr>\n",
              "    <tr>\n",
              "      <th>8</th>\n",
              "      <td>23.57</td>\n",
              "      <td>26.50</td>\n",
              "      <td>29.05</td>\n",
              "      <td>31.56</td>\n",
              "      <td>33.62</td>\n",
              "      <td>35.33</td>\n",
              "    </tr>\n",
              "    <tr>\n",
              "      <th>9</th>\n",
              "      <td>23.61</td>\n",
              "      <td>26.48</td>\n",
              "      <td>29.12</td>\n",
              "      <td>31.47</td>\n",
              "      <td>33.82</td>\n",
              "      <td>35.80</td>\n",
              "    </tr>\n",
              "    <tr>\n",
              "      <th>10</th>\n",
              "      <td>23.56</td>\n",
              "      <td>26.51</td>\n",
              "      <td>29.13</td>\n",
              "      <td>31.42</td>\n",
              "      <td>33.70</td>\n",
              "      <td>35.72</td>\n",
              "    </tr>\n",
              "  </tbody>\n",
              "</table>\n",
              "</div>"
            ],
            "text/plain": [
              "       L1     L2     L3     L4     L5     L6\n",
              "1   23.52  26.63  29.32  31.62  33.74  36.01\n",
              "2   23.41  26.63  29.26  31.52  33.78  35.26\n",
              "3   23.65  26.63  29.20  31.70  33.20  35.22\n",
              "4   23.36  26.60  29.19  31.55  33.79  35.75\n",
              "5   23.46  26.52  29.32  31.75  33.62  35.35\n",
              "6   23.61  26.44  29.25  31.63  33.73  35.65\n",
              "7   23.50  26.63  29.15  31.53  33.71  35.49\n",
              "8   23.57  26.50  29.05  31.56  33.62  35.33\n",
              "9   23.61  26.48  29.12  31.47  33.82  35.80\n",
              "10  23.56  26.51  29.13  31.42  33.70  35.72"
            ]
          },
          "metadata": {
            "tags": []
          },
          "execution_count": 5
        }
      ]
    },
    {
      "cell_type": "code",
      "metadata": {
        "colab": {
          "base_uri": "https://localhost:8080/"
        },
        "id": "NN9W4rIhQall",
        "outputId": "c871e668-fe6e-4107-ec89-751a07a0842f"
      },
      "source": [
        "Numero_periodos = 20 \n",
        "arr_periodo = df_periodo.mean( axis=0 )\n",
        "arr_periodo = arr_periodo / Numero_periodos\n",
        "arr_periodo"
      ],
      "execution_count": null,
      "outputs": [
        {
          "output_type": "execute_result",
          "data": {
            "text/plain": [
              "L1    1.17625\n",
              "L2    1.32785\n",
              "L3    1.45995\n",
              "L4    1.57875\n",
              "L5    1.68355\n",
              "L6    1.77790\n",
              "dtype: float64"
            ]
          },
          "metadata": {
            "tags": []
          },
          "execution_count": 6
        }
      ]
    },
    {
      "cell_type": "code",
      "metadata": {
        "colab": {
          "base_uri": "https://localhost:8080/"
        },
        "id": "z_lRN2jeVQA-",
        "outputId": "0a709219-46d7-4ef8-ef9c-e2b5a846d3fe"
      },
      "source": [
        "arr_X = ( arr_periodo / ( 2. * np.pi ) ) ** 2\n",
        "arr_X"
      ],
      "execution_count": null,
      "outputs": [
        {
          "output_type": "execute_result",
          "data": {
            "text/plain": [
              "L1    0.035046\n",
              "L2    0.044662\n",
              "L3    0.053990\n",
              "L4    0.063135\n",
              "L5    0.071795\n",
              "L6    0.080067\n",
              "dtype: float64"
            ]
          },
          "metadata": {
            "tags": []
          },
          "execution_count": 7
        }
      ]
    },
    {
      "cell_type": "markdown",
      "metadata": {
        "id": "glCuHsjtRNKC"
      },
      "source": [
        "### Cálculo de parâmetros"
      ]
    },
    {
      "cell_type": "code",
      "metadata": {
        "colab": {
          "base_uri": "https://localhost:8080/"
        },
        "id": "Eafm7n5-Xd3X",
        "outputId": "8b26f035-68c2-478e-ab8c-2dfc1d412030"
      },
      "source": [
        "N_medidas = arr_X.size\n",
        "print ( \"Número de medidas: {}\".format( N_medidas ) )"
      ],
      "execution_count": null,
      "outputs": [
        {
          "output_type": "stream",
          "text": [
            "Número de medidas: 6\n"
          ],
          "name": "stdout"
        }
      ]
    },
    {
      "cell_type": "code",
      "metadata": {
        "colab": {
          "base_uri": "https://localhost:8080/"
        },
        "id": "J8QlNlCRVcNc",
        "outputId": "f5948a22-6ac9-4371-f0b8-d1627b9cd378"
      },
      "source": [
        "media_X = arr_X.mean()\n",
        "media_X2 = ( arr_X ** 2 ).mean()\n",
        "var_X_populacional = ( arr_X ** 2 ).mean() - ( media_X ** 2 )\n",
        "dp_X_populacional = np.sqrt( var_X_populacional )\n",
        "print ( \"Média (s²): {}\".format( media_X ) )\n",
        "print ( \"Média quadrados(s^4): {}\".format( media_X2 ) )\n",
        "print ( \"Variância (s^4): {}\".format( var_X_populacional ) )\n",
        "print ( \"Desvio padrão (s²): {}\".format( dp_X_populacional ) )"
      ],
      "execution_count": null,
      "outputs": [
        {
          "output_type": "stream",
          "text": [
            "Média (s²): 0.058115822508636485\n",
            "Média quadrados(s^4): 0.0036148490175893482\n",
            "Variância (s^4): 0.00023740019173400934\n",
            "Desvio padrão (s²): 0.015407796459390595\n"
          ],
          "name": "stdout"
        }
      ]
    },
    {
      "cell_type": "code",
      "metadata": {
        "colab": {
          "base_uri": "https://localhost:8080/"
        },
        "id": "0qrJkdNkQ8VR",
        "outputId": "0a2104a7-4d37-4bc4-ac59-7f2f9aa0e223"
      },
      "source": [
        "media_comprimento = arr_comprimento.mean()\n",
        "var_comprimento_populacional = ( arr_comprimento ** 2 ).mean() - ( media_comprimento ** 2 )\n",
        "dp_comprimento_populacional = np.sqrt( var_comprimento_populacional )\n",
        "print ( \"Média (cm): {}\".format( media_comprimento ) )\n",
        "print ( \"Variância (cm²): {}\".format( var_comprimento_populacional ) )\n",
        "print ( \"Desvio padrão (cm): {}\".format( dp_comprimento_populacional ) )"
      ],
      "execution_count": null,
      "outputs": [
        {
          "output_type": "stream",
          "text": [
            "Média (cm): 54.76666666666667\n",
            "Variância (cm²): 238.3922222222218\n",
            "Desvio padrão (cm): 15.439955382779504\n"
          ],
          "name": "stdout"
        }
      ]
    },
    {
      "cell_type": "code",
      "metadata": {
        "colab": {
          "base_uri": "https://localhost:8080/"
        },
        "id": "MKQam2kiShTF",
        "outputId": "03d6b2a8-db3d-4ad0-a090-ccbc7cea4b54"
      },
      "source": [
        "media_X_comprimento = ( arr_X * arr_comprimento ).mean()\n",
        "cov_populacional = media_X_comprimento - ( media_X * media_comprimento )\n",
        "coeficiente_correlacao = cov_populacional / ( dp_X_populacional * dp_comprimento_populacional )\n",
        "print ( \"Covariância (s² × cm): {}\".format( cov_populacional ) )\n",
        "print ( \"Coeficiente de correlação: {}\".format( coeficiente_correlacao ) )"
      ],
      "execution_count": null,
      "outputs": [
        {
          "output_type": "stream",
          "text": [
            "Covariância (s² × cm): 0.23781460287521616\n",
            "Coeficiente de correlação: 0.9996591489120146\n"
          ],
          "name": "stdout"
        }
      ]
    },
    {
      "cell_type": "markdown",
      "metadata": {
        "id": "apOymSBiXOYU"
      },
      "source": [
        "### Cálculo dos coeficientes"
      ]
    },
    {
      "cell_type": "code",
      "metadata": {
        "colab": {
          "base_uri": "https://localhost:8080/"
        },
        "id": "ndd98twLUOXI",
        "outputId": "bffcd3b5-f425-49f8-ba5f-5449cd255783"
      },
      "source": [
        "coeficiente_a = cov_populacional / var_X_populacional\n",
        "print ( \"Coeficiente a (cm/s²): {}\".format( coeficiente_a ) )\n",
        "coeficiente_a_m_s2 = coeficiente_a * 1e-02\n",
        "print ( \"Coeficiente a (m/s²): {}\".format( coeficiente_a_m_s2 ) )"
      ],
      "execution_count": null,
      "outputs": [
        {
          "output_type": "stream",
          "text": [
            "Coeficiente a (cm/s²): 1001.7456226053564\n",
            "Coeficiente a (m/s²): 10.017456226053564\n"
          ],
          "name": "stdout"
        }
      ]
    },
    {
      "cell_type": "code",
      "metadata": {
        "colab": {
          "base_uri": "https://localhost:8080/"
        },
        "id": "Y1XFhDvsWnQb",
        "outputId": "ee7eb7d0-72b5-49aa-9101-f71eb131612b"
      },
      "source": [
        "coeficiente_b = media_comprimento - coeficiente_a * media_X # cm\n",
        "print ( \"Coeficiente b (cm): {}\".format( coeficiente_b ) )"
      ],
      "execution_count": null,
      "outputs": [
        {
          "output_type": "stream",
          "text": [
            "Coeficiente b (cm): -3.450604135469767\n"
          ],
          "name": "stdout"
        }
      ]
    },
    {
      "cell_type": "markdown",
      "metadata": {
        "id": "P1ygs3tWXREk"
      },
      "source": [
        "### Cálculo das incertezas"
      ]
    },
    {
      "cell_type": "code",
      "metadata": {
        "colab": {
          "base_uri": "https://localhost:8080/"
        },
        "id": "Q4XHaOysXKwv",
        "outputId": "784c98b4-b4c6-4032-80e2-1a247aa87ad4"
      },
      "source": [
        "arr_desvios_ajuste = ( arr_comprimento - ( coeficiente_a * arr_X + coeficiente_b ) )\n",
        "arr_desvios_ajuste"
      ],
      "execution_count": null,
      "outputs": [
        {
          "output_type": "execute_result",
          "data": {
            "text/plain": [
              "L1    0.343340\n",
              "L2    0.210628\n",
              "L3   -0.634003\n",
              "L4   -0.294141\n",
              "L5   -0.169408\n",
              "L6    0.543585\n",
              "dtype: float64"
            ]
          },
          "metadata": {
            "tags": []
          },
          "execution_count": 14
        }
      ]
    },
    {
      "cell_type": "code",
      "metadata": {
        "colab": {
          "base_uri": "https://localhost:8080/"
        },
        "id": "3XierpbUf1EI",
        "outputId": "456b90f7-a40d-4540-fc13-d82b8d223045"
      },
      "source": [
        "print ( arr_desvios_ajuste ** 2 )\n",
        "print ( \"Soma quadrado desvios (cm): {}\".format( ( arr_desvios_ajuste ** 2 ).sum() ) )"
      ],
      "execution_count": null,
      "outputs": [
        {
          "output_type": "stream",
          "text": [
            "L1    0.117882\n",
            "L2    0.044364\n",
            "L3    0.401960\n",
            "L4    0.086519\n",
            "L5    0.028699\n",
            "L6    0.295485\n",
            "dtype: float64\n",
            "Soma quadrado desvios (cm): 0.9749088020524186\n"
          ],
          "name": "stdout"
        }
      ]
    },
    {
      "cell_type": "code",
      "metadata": {
        "colab": {
          "base_uri": "https://localhost:8080/"
        },
        "id": "2bNeoy45Xx7C",
        "outputId": "1977526a-bd54-4fe7-8789-8ee30ee321e4"
      },
      "source": [
        "ep_y_1 = np.sqrt( ( arr_desvios_ajuste ** 2 ).sum() / ( N_medidas - 2 ) )\n",
        "print ( \"epsilon_y = {}\".format( ep_y_1 ) )"
      ],
      "execution_count": null,
      "outputs": [
        {
          "output_type": "stream",
          "text": [
            "epsilon_y = 0.49368735097539684\n"
          ],
          "name": "stdout"
        }
      ]
    },
    {
      "cell_type": "code",
      "metadata": {
        "colab": {
          "base_uri": "https://localhost:8080/"
        },
        "id": "utfUfvqHYT_0",
        "outputId": "5aa168c6-8c8c-4a28-fb7e-b45600cda54f"
      },
      "source": [
        "ep_y_2 = dp_comprimento_populacional * np.sqrt( ( N_medidas / ( N_medidas - 2 ) ) * ( 1. - coeficiente_correlacao ** 2 ) )\n",
        "print ( \"epsilon_y = {}\".format( ep_y_2 ) )"
      ],
      "execution_count": null,
      "outputs": [
        {
          "output_type": "stream",
          "text": [
            "epsilon_y = 0.49368735097647354\n"
          ],
          "name": "stdout"
        }
      ]
    },
    {
      "cell_type": "code",
      "metadata": {
        "colab": {
          "base_uri": "https://localhost:8080/"
        },
        "id": "OS9h_28fZEpC",
        "outputId": "eec776b4-bad6-4621-951b-2910ba35a1a6"
      },
      "source": [
        "ep_y = ep_y_2\n",
        "sigma_a = ep_y / ( dp_X_populacional * np.sqrt( N_medidas ) )\n",
        "sigma_a_m_s2 = sigma_a * 1e-02\n",
        "print ( \"Incerteza padrão coeficiente a (cm/s²): {}\".format( sigma_a ) )\n",
        "print ( \"Incerteza padrão coeficiente a (m/s²): {}\".format( sigma_a_m_s2 ) )"
      ],
      "execution_count": null,
      "outputs": [
        {
          "output_type": "stream",
          "text": [
            "Incerteza padrão coeficiente a (cm/s²): 13.080846283956559\n",
            "Incerteza padrão coeficiente a (m/s²): 0.1308084628395656\n"
          ],
          "name": "stdout"
        }
      ]
    },
    {
      "cell_type": "code",
      "metadata": {
        "colab": {
          "base_uri": "https://localhost:8080/"
        },
        "id": "1dsR8C-MZbSO",
        "outputId": "4a04d9ad-6202-4c42-f3d5-5c009289057a"
      },
      "source": [
        "sigma_b = sigma_a * np.sqrt( media_X2 )\n",
        "print ( \"Incerteza padrão coeficiente b (cm): {}\".format( sigma_b ) )"
      ],
      "execution_count": null,
      "outputs": [
        {
          "output_type": "stream",
          "text": [
            "Incerteza padrão coeficiente b (cm): 0.7864677589888796\n"
          ],
          "name": "stdout"
        }
      ]
    },
    {
      "cell_type": "markdown",
      "metadata": {
        "id": "3sNJRMlVaUAp"
      },
      "source": [
        "### Estimativas para os coeficientes"
      ]
    },
    {
      "cell_type": "code",
      "metadata": {
        "colab": {
          "base_uri": "https://localhost:8080/"
        },
        "id": "lJQB-noHaRh8",
        "outputId": "5c584210-c6f3-4822-a3e0-947ae3605867"
      },
      "source": [
        "print ( \"a = {:.0f} ± {:.0f} (cm/s²)\".format( np.round( coeficiente_a, 0 ), np.round( sigma_a, 0 ) ) )\n",
        "print ( \"a = {} ± {} (m/s²)\".format( np.round( coeficiente_a_m_s2, 2 ), np.round( sigma_a_m_s2, 2 ) ) )"
      ],
      "execution_count": null,
      "outputs": [
        {
          "output_type": "stream",
          "text": [
            "a = 1002 ± 13 (cm/s²)\n",
            "a = 10.02 ± 0.13 (m/s²)\n"
          ],
          "name": "stdout"
        }
      ]
    },
    {
      "cell_type": "code",
      "metadata": {
        "colab": {
          "base_uri": "https://localhost:8080/"
        },
        "id": "3nhFNurYasJg",
        "outputId": "265a0e61-45df-4c47-d511-b7146a308c0d"
      },
      "source": [
        "print ( \"b = {} ± {} (cm)\".format( np.round( coeficiente_b, 1 ), np.round( sigma_b, 1 ) ) )"
      ],
      "execution_count": null,
      "outputs": [
        {
          "output_type": "stream",
          "text": [
            "b = -3.5 ± 0.8 (cm)\n"
          ],
          "name": "stdout"
        }
      ]
    },
    {
      "cell_type": "code",
      "metadata": {
        "colab": {
          "base_uri": "https://localhost:8080/",
          "height": 635
        },
        "id": "5Fk1QXbha7z_",
        "outputId": "5073737f-c450-4d5e-a1d4-9b74611e53f6"
      },
      "source": [
        "fig = plt.figure( figsize=(12,10) )\n",
        "\n",
        "plt.plot( arr_X, arr_comprimento, 'ko' )\n",
        "plt.plot( arr_X, ( coeficiente_a * arr_X + coeficiente_b ), '-r' )\n",
        "plt.xlabel( r\"$\\left(T/2\\pi\\right)^2\\,\\left(\\rm{{s}}^2\\right)$\", fontsize=18)\n",
        "plt.ylabel( r\"$\\ell\\,\\left(\\rm{{cm}}\\right)$\", fontsize=18 )\n",
        "\n",
        "plt.text( 0.1, 0.9,\n",
        "          r\"$a = {} \\pm {}\\,\\left(\\rm{{cm}}/\\rm{{s}}^2\\right)$\".format( np.round( coeficiente_a, 0 ), np.round( sigma_a, 0 ) ),\n",
        "          fontsize=16, transform=plt.gca().transAxes )\n",
        "plt.text( 0.1, 0.85,\n",
        "          r\"$b = {} \\pm {}\\,\\left(\\rm{{cm}}\\right)$\".format( np.round( coeficiente_b, 1 ), np.round( sigma_b, 1 ) ),\n",
        "          fontsize=16, transform=plt.gca().transAxes )"
      ],
      "execution_count": null,
      "outputs": [
        {
          "output_type": "execute_result",
          "data": {
            "text/plain": [
              "Text(0.1, 0.85, '$b = -3.5 \\\\pm 0.8\\\\,\\\\left(\\\\rm{cm}\\\\right)$')"
            ]
          },
          "metadata": {
            "tags": []
          },
          "execution_count": 22
        },
        {
          "output_type": "display_data",
          "data": {
            "image/png": "[encoded data removed]",
            "text/plain": [
              "<Figure size 864x720 with 1 Axes>"
            ]
          },
          "metadata": {
            "tags": [],
            "needs_background": "light"
          }
        }
      ]
    },
    {
      "cell_type": "code",
      "metadata": {
        "colab": {
          "base_uri": "https://localhost:8080/",
          "height": 637
        },
        "id": "VYHqewA4cD0p",
        "outputId": "a75998c2-ac29-438f-812a-df5c5295d8c4"
      },
      "source": [
        "fig = plt.figure( figsize=(12,10) )\n",
        "\n",
        "plt.errorbar( arr_X, arr_comprimento, yerr=np.full_like( arr_comprimento, ep_y ), fmt='ko' )\n",
        "plt.plot( arr_X, ( coeficiente_a * arr_X + coeficiente_b ), '-r' )\n",
        "plt.xlabel( r\"$\\left(T/2\\pi\\right)^2\\,\\left(\\rm{{s}}^2\\right)$\", fontsize=18)\n",
        "plt.ylabel( r\"$\\ell\\,\\left(\\rm{{cm}}\\right)$\", fontsize=18 )\n",
        "\n",
        "plt.text( 0.1, 0.9,\n",
        "          r\"$a = {} \\pm {}\\,\\left(\\rm{{cm}}/\\rm{{s}}^2\\right)$\".format( np.round( coeficiente_a, 0 ), np.round( sigma_a, 0 ) ),\n",
        "          fontsize=16, transform=plt.gca().transAxes )\n",
        "plt.text( 0.1, 0.85,\n",
        "          r\"$b = {} \\pm {}\\,\\left(\\rm{{cm}}\\right)$\".format( np.round( coeficiente_b, 1 ), np.round( sigma_b, 1 ) ),\n",
        "          fontsize=16, transform=plt.gca().transAxes )"
      ],
      "execution_count": null,
      "outputs": [
        {
          "output_type": "execute_result",
          "data": {
            "text/plain": [
              "Text(0.1, 0.85, '$b = -3.5 \\\\pm 0.8\\\\,\\\\left(\\\\rm{cm}\\\\right)$')"
            ]
          },
          "metadata": {
            "tags": []
          },
          "execution_count": 23
        },
        {
          "output_type": "display_data",
          "data": {
            "image/png": "[encoded data removed]",
            "text/plain": [
              "<Figure size 864x720 with 1 Axes>"
            ]
          },
          "metadata": {
            "tags": [],
            "needs_background": "light"
          }
        }
      ]
    },
    {
      "cell_type": "markdown",
      "metadata": {
        "id": "kO_oy-Rgi02B"
      },
      "source": [
        "### Usando um pacote"
      ]
    },
    {
      "cell_type": "code",
      "metadata": {
        "colab": {
          "base_uri": "https://localhost:8080/"
        },
        "id": "AS1izHOhhYTJ",
        "outputId": "5c51a535-50da-45fa-886a-47c419bd627d"
      },
      "source": [
        "from scipy.optimize import curve_fit\n",
        "\n",
        "def pol1(x, p0, p1):\n",
        "   return p0 + p1*x\n",
        "\n",
        "popt_lin, pcov_lin = curve_fit( pol1, arr_X, arr_comprimento, p0=(0.,0.) )\n",
        "print ( popt_lin, pcov_lin )"
      ],
      "execution_count": null,
      "outputs": [
        {
          "output_type": "stream",
          "text": [
            "[  -3.45060399 1001.74562023] [[  0.61853163  -9.9441151 ]\n",
            " [ -9.9441151  171.10856622]]\n"
          ],
          "name": "stdout"
        }
      ]
    },
    {
      "cell_type": "code",
      "metadata": {
        "colab": {
          "base_uri": "https://localhost:8080/"
        },
        "id": "n4pdO8PVi-nH",
        "outputId": "8be8c978-dad0-49eb-e1a6-5b7e7d4bb0f1"
      },
      "source": [
        "print ( \"Coeficiente a (cm/s²): {}\".format( popt_lin[ 1 ] ) )\n",
        "print ( \"Incerteza padrão coeficiente a (cm/s²): {}\".format( np.sqrt( pcov_lin[ 1, 1 ] ) ) )\n",
        "print ( \"a = {:.0f} ± {:.0f} (cm/s²)\".format( np.round( popt_lin[ 1 ], 0 ), np.round( np.sqrt( pcov_lin[ 1, 1 ] ), 0 ) ) )"
      ],
      "execution_count": null,
      "outputs": [
        {
          "output_type": "stream",
          "text": [
            "Coeficiente a (cm/s²): 1001.7456202266582\n",
            "Incerteza padrão coeficiente a (cm/s²): 13.080847305065012\n",
            "a = 1002 ± 13 (cm/s²)\n"
          ],
          "name": "stdout"
        }
      ]
    },
    {
      "cell_type": "code",
      "metadata": {
        "colab": {
          "base_uri": "https://localhost:8080/"
        },
        "id": "yVfZXIPkjcaX",
        "outputId": "1aa32597-3395-4234-9e55-9a9fab072ea7"
      },
      "source": [
        "print ( \"Coeficiente b (cm): {}\".format( popt_lin[ 0 ] ) )\n",
        "print ( \"Incerteza padrão coeficiente b (cm): {}\".format( np.sqrt( pcov_lin[ 0, 0 ] ) ) )\n",
        "print ( \"{} ± {} (cm)\".format( np.round( popt_lin[ 0 ], 1 ), np.round( np.sqrt( pcov_lin[ 0, 0 ] ), 1 ) ) )"
      ],
      "execution_count": null,
      "outputs": [
        {
          "output_type": "stream",
          "text": [
            "Coeficiente b (cm): -3.4506039865815046\n",
            "Incerteza padrão coeficiente b (cm): 0.7864678188561687\n",
            "-3.5 ± 0.8 (cm)\n"
          ],
          "name": "stdout"
        }
      ]
    },
    {
      "cell_type": "code",
      "metadata": {
        "colab": {
          "base_uri": "https://localhost:8080/",
          "height": 635
        },
        "id": "no023MkdkN92",
        "outputId": "a2f55f25-a6cb-4689-ec4d-3a9a6112351b"
      },
      "source": [
        "fig = plt.figure( figsize=(12,10) )\n",
        "\n",
        "plt.plot( arr_X, arr_comprimento, 'ko' )\n",
        "plt.plot( arr_X, ( popt_lin[ 0 ]  + popt_lin[ 1 ] * arr_X ), '-r' )\n",
        "plt.xlabel( r\"$\\left(T/2\\pi\\right)^2\\,\\left(\\rm{{s}}^2\\right)$\", fontsize=18)\n",
        "plt.ylabel( r\"$\\ell\\,\\left(\\rm{{cm}}\\right)$\", fontsize=18 )\n",
        "\n",
        "plt.text( 0.1, 0.9,\n",
        "          r\"$a = {} \\pm {}\\,\\left(\\rm{{cm}}/\\rm{{s}}^2\\right)$\".format( np.round( popt_lin[ 1 ], 0 ), np.round( np.sqrt( pcov_lin[ 1, 1 ] ), 0 ) ),\n",
        "          fontsize=16, transform=plt.gca().transAxes )\n",
        "plt.text( 0.1, 0.85,\n",
        "          r\"$b = {} \\pm {}\\,\\left(\\rm{{cm}}\\right)$\".format( np.round( popt_lin[ 0 ], 1 ), np.round( np.sqrt( pcov_lin[ 0, 0 ] ), 1 ) ),\n",
        "          fontsize=16, transform=plt.gca().transAxes )"
      ],
      "execution_count": null,
      "outputs": [
        {
          "output_type": "execute_result",
          "data": {
            "text/plain": [
              "Text(0.1, 0.85, '$b = -3.5 \\\\pm 0.8\\\\,\\\\left(\\\\rm{cm}\\\\right)$')"
            ]
          },
          "metadata": {
            "tags": []
          },
          "execution_count": 27
        },
        {
          "output_type": "display_data",
          "data": {
            "image/png": "[encoded data removed]",
            "text/plain": [
              "<Figure size 864x720 with 1 Axes>"
            ]
          },
          "metadata": {
            "tags": [],
            "needs_background": "light"
          }
        }
      ]
    },
    {
      "cell_type": "code",
      "metadata": {
        "id": "gcIGxXqYqRRl"
      },
      "source": [
        ""
      ],
      "execution_count": null,
      "outputs": []
    }
  ]
}