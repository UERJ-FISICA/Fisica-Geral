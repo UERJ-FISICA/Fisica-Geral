{
  "nbformat": 4,
  "nbformat_minor": 0,
  "metadata": {
    "colab": {
      "name": "Aula02-Estimativa-Comprimento-mesa.ipynb",
      "provenance": [],
      "authorship_tag": "ABX9TyO8y9XvRttxHHrb4LgtBKcr",
      "include_colab_link": true
    },
    "kernelspec": {
      "name": "python3",
      "display_name": "Python 3"
    }
  },
  "cells": [
    {
      "cell_type": "markdown",
      "metadata": {
        "id": "view-in-github",
        "colab_type": "text"
      },
      "source": [
        "<a href=\"https://colab.research.google.com/github/UERJ-FISICA/Fisica-Geral/blob/main/Aula02_Estimativa_Comprimento_mesa.ipynb\" target=\"_parent\"><img src=\"https://colab.research.google.com/assets/colab-badge.svg\" alt=\"Open In Colab\"/></a>"
      ]
    },
    {
      "cell_type": "code",
      "metadata": {
        "id": "QtIRWw-oem2s"
      },
      "source": [
        "import numpy as np\n",
        "import pandas as pd\n",
        "import matplotlib as mpl\n",
        "import matplotlib.pyplot as plt\n",
        "from scipy.stats import norm"
      ],
      "execution_count": 1,
      "outputs": []
    },
    {
      "cell_type": "code",
      "metadata": {
        "colab": {
          "base_uri": "https://localhost:8080/"
        },
        "id": "4S6ZgOZrer36",
        "outputId": "4c0d72ec-1f5f-44ac-a904-640491ea5f81"
      },
      "source": [
        "!curl -o Atividades-Aula01-Comprimento-mesa.xlsx https://raw.githubusercontent.com/UERJ-FISICA/Fisica-Geral/main/dados/Atividades-Aula01-Comprimento-mesa.xlsx"
      ],
      "execution_count": 2,
      "outputs": [
        {
          "output_type": "stream",
          "text": [
            "  % Total    % Received % Xferd  Average Speed   Time    Time     Time  Current\n",
            "                                 Dload  Upload   Total   Spent    Left  Speed\n",
            "100 15829  100 15829    0     0  83751      0 --:--:-- --:--:-- --:--:-- 83751\n"
          ],
          "name": "stdout"
        }
      ]
    },
    {
      "cell_type": "code",
      "metadata": {
        "colab": {
          "base_uri": "https://localhost:8080/",
          "height": 580
        },
        "id": "njP2HX51eslT",
        "outputId": "63c524e3-9eda-4775-fc2a-0a4a3b2832da"
      },
      "source": [
        "# array_L = np.array( [ 149.81, 149.9 , 150.1 , 150.5 , 149.8 , 149.8 , 149.71, 150.21,\n",
        "#                       149.75, 150.1 , 150.15, 150.1 , 150.  , 150.4 , 149.91, 150.1 ,\n",
        "#                       150.09, 150. ] )\n",
        "df = pd.read_excel( \"Atividades-Aula01-Comprimento-mesa.xlsx\", sheet_name=\"Comprimento mesa\", usecols=[0], nrows=18, names=[\"L\"] )\n",
        "df"
      ],
      "execution_count": 3,
      "outputs": [
        {
          "output_type": "execute_result",
          "data": {
            "text/html": [
              "<div>\n",
              "<style scoped>\n",
              "    .dataframe tbody tr th:only-of-type {\n",
              "        vertical-align: middle;\n",
              "    }\n",
              "\n",
              "    .dataframe tbody tr th {\n",
              "        vertical-align: top;\n",
              "    }\n",
              "\n",
              "    .dataframe thead th {\n",
              "        text-align: right;\n",
              "    }\n",
              "</style>\n",
              "<table border=\"1\" class=\"dataframe\">\n",
              "  <thead>\n",
              "    <tr style=\"text-align: right;\">\n",
              "      <th></th>\n",
              "      <th>L</th>\n",
              "    </tr>\n",
              "  </thead>\n",
              "  <tbody>\n",
              "    <tr>\n",
              "      <th>0</th>\n",
              "      <td>149.81</td>\n",
              "    </tr>\n",
              "    <tr>\n",
              "      <th>1</th>\n",
              "      <td>149.90</td>\n",
              "    </tr>\n",
              "    <tr>\n",
              "      <th>2</th>\n",
              "      <td>150.10</td>\n",
              "    </tr>\n",
              "    <tr>\n",
              "      <th>3</th>\n",
              "      <td>150.50</td>\n",
              "    </tr>\n",
              "    <tr>\n",
              "      <th>4</th>\n",
              "      <td>149.80</td>\n",
              "    </tr>\n",
              "    <tr>\n",
              "      <th>5</th>\n",
              "      <td>149.80</td>\n",
              "    </tr>\n",
              "    <tr>\n",
              "      <th>6</th>\n",
              "      <td>149.71</td>\n",
              "    </tr>\n",
              "    <tr>\n",
              "      <th>7</th>\n",
              "      <td>150.21</td>\n",
              "    </tr>\n",
              "    <tr>\n",
              "      <th>8</th>\n",
              "      <td>149.75</td>\n",
              "    </tr>\n",
              "    <tr>\n",
              "      <th>9</th>\n",
              "      <td>150.10</td>\n",
              "    </tr>\n",
              "    <tr>\n",
              "      <th>10</th>\n",
              "      <td>150.15</td>\n",
              "    </tr>\n",
              "    <tr>\n",
              "      <th>11</th>\n",
              "      <td>150.10</td>\n",
              "    </tr>\n",
              "    <tr>\n",
              "      <th>12</th>\n",
              "      <td>150.00</td>\n",
              "    </tr>\n",
              "    <tr>\n",
              "      <th>13</th>\n",
              "      <td>150.40</td>\n",
              "    </tr>\n",
              "    <tr>\n",
              "      <th>14</th>\n",
              "      <td>149.91</td>\n",
              "    </tr>\n",
              "    <tr>\n",
              "      <th>15</th>\n",
              "      <td>150.10</td>\n",
              "    </tr>\n",
              "    <tr>\n",
              "      <th>16</th>\n",
              "      <td>150.09</td>\n",
              "    </tr>\n",
              "    <tr>\n",
              "      <th>17</th>\n",
              "      <td>150.00</td>\n",
              "    </tr>\n",
              "  </tbody>\n",
              "</table>\n",
              "</div>"
            ],
            "text/plain": [
              "         L\n",
              "0   149.81\n",
              "1   149.90\n",
              "2   150.10\n",
              "3   150.50\n",
              "4   149.80\n",
              "5   149.80\n",
              "6   149.71\n",
              "7   150.21\n",
              "8   149.75\n",
              "9   150.10\n",
              "10  150.15\n",
              "11  150.10\n",
              "12  150.00\n",
              "13  150.40\n",
              "14  149.91\n",
              "15  150.10\n",
              "16  150.09\n",
              "17  150.00"
            ]
          },
          "metadata": {
            "tags": []
          },
          "execution_count": 3
        }
      ]
    },
    {
      "cell_type": "code",
      "metadata": {
        "colab": {
          "base_uri": "https://localhost:8080/"
        },
        "id": "IVLGV5Uke04N",
        "outputId": "3e5a7ede-a26a-4183-8494-39dc7d6073a8"
      },
      "source": [
        "#array_L = df.iloc[:, 0]\n",
        "array_L = df[ \"L\" ]\n",
        "array_L"
      ],
      "execution_count": 4,
      "outputs": [
        {
          "output_type": "execute_result",
          "data": {
            "text/plain": [
              "0     149.81\n",
              "1     149.90\n",
              "2     150.10\n",
              "3     150.50\n",
              "4     149.80\n",
              "5     149.80\n",
              "6     149.71\n",
              "7     150.21\n",
              "8     149.75\n",
              "9     150.10\n",
              "10    150.15\n",
              "11    150.10\n",
              "12    150.00\n",
              "13    150.40\n",
              "14    149.91\n",
              "15    150.10\n",
              "16    150.09\n",
              "17    150.00\n",
              "Name: L, dtype: float64"
            ]
          },
          "metadata": {
            "tags": []
          },
          "execution_count": 4
        }
      ]
    },
    {
      "cell_type": "markdown",
      "metadata": {
        "id": "uc4hLQzie-s5"
      },
      "source": [
        "### Desvio padrão populacional:"
      ]
    },
    {
      "cell_type": "code",
      "metadata": {
        "colab": {
          "base_uri": "https://localhost:8080/"
        },
        "id": "WZMqcrbve6Kb",
        "outputId": "52d8ac5a-7fc9-4a1f-81f7-05dbc7ee8d21"
      },
      "source": [
        "media_L = np.mean( array_L )\n",
        "print ( \"Média (cm) = {}\".format( media_L ) )\n",
        "\n",
        "var_L_p = np.mean( array_L ** 2 ) - np.mean( array_L ) ** 2\n",
        "print ( \"Variância populacional (cm²) = {}\".format( var_L_p ) )"
      ],
      "execution_count": 5,
      "outputs": [
        {
          "output_type": "stream",
          "text": [
            "Média (cm) = 150.02388888888888\n",
            "Variância populacional (cm²) = 0.04417932099386235\n"
          ],
          "name": "stdout"
        }
      ]
    },
    {
      "cell_type": "code",
      "metadata": {
        "colab": {
          "base_uri": "https://localhost:8080/"
        },
        "id": "mlb6pjhNfaeS",
        "outputId": "857c152f-45b5-4a18-adb9-81d4cb3eae30"
      },
      "source": [
        "sigma_L_p = np.sqrt( var_L_p )\n",
        "print ( \"Desvio padrão populacional (cm) = {}\".format( sigma_L_p ) )"
      ],
      "execution_count": 6,
      "outputs": [
        {
          "output_type": "stream",
          "text": [
            "Desvio padrão populacional (cm) = 0.21018877466187946\n"
          ],
          "name": "stdout"
        }
      ]
    },
    {
      "cell_type": "code",
      "metadata": {
        "colab": {
          "base_uri": "https://localhost:8080/"
        },
        "id": "ZaCfTl0rfzvV",
        "outputId": "dcce1b9f-a7a2-479e-cd1e-27ed403bf058"
      },
      "source": [
        "np.std( array_L, ddof=0 )"
      ],
      "execution_count": 7,
      "outputs": [
        {
          "output_type": "execute_result",
          "data": {
            "text/plain": [
              "0.21018877464711025"
            ]
          },
          "metadata": {
            "tags": []
          },
          "execution_count": 7
        }
      ]
    },
    {
      "cell_type": "markdown",
      "metadata": {
        "id": "arfDAL_Uf9eo"
      },
      "source": [
        "### Desvio padrão amostral:"
      ]
    },
    {
      "cell_type": "code",
      "metadata": {
        "colab": {
          "base_uri": "https://localhost:8080/"
        },
        "id": "WnLwblFmfwtL",
        "outputId": "a715c86c-fb7e-4f4e-a26e-33a088743a6e"
      },
      "source": [
        "N = array_L.size # tamanho da sequência L\n",
        "print ( \"N = {}\".format( N ) )\n",
        "\n",
        "sigma_L_a = np.sqrt( N / (N - 1) ) * sigma_L_p\n",
        "print ( \"Desvio padrão amostral (cm) = {}\".format( sigma_L_a ) )"
      ],
      "execution_count": 8,
      "outputs": [
        {
          "output_type": "stream",
          "text": [
            "N = 18\n",
            "Desvio padrão amostral (cm) = 0.21628246480409966\n"
          ],
          "name": "stdout"
        }
      ]
    },
    {
      "cell_type": "code",
      "metadata": {
        "colab": {
          "base_uri": "https://localhost:8080/"
        },
        "id": "5bRHqJsbgLUE",
        "outputId": "25d55527-4924-44f0-9014-f20cfce7feab"
      },
      "source": [
        "np.std( array_L, ddof=1 )"
      ],
      "execution_count": 9,
      "outputs": [
        {
          "output_type": "execute_result",
          "data": {
            "text/plain": [
              "0.21628246478890223"
            ]
          },
          "metadata": {
            "tags": []
          },
          "execution_count": 9
        }
      ]
    },
    {
      "cell_type": "markdown",
      "metadata": {
        "id": "8Dp-smky2cue"
      },
      "source": [
        "### Distribuição Gaussiana das **medidas**:"
      ]
    },
    {
      "cell_type": "code",
      "metadata": {
        "colab": {
          "base_uri": "https://localhost:8080/",
          "height": 413
        },
        "id": "b2Zo6Dvf2bJ2",
        "outputId": "75833c7b-0839-45d7-db5f-41a2d782a22a"
      },
      "source": [
        "x_min = 149.0\n",
        "x_max = 151.0\n",
        "\n",
        "sigma_ = sigma_L_a\n",
        "rv = norm( loc=media_L, scale=sigma_ )\n",
        "\n",
        "fig = plt.figure( figsize=(8,6) )\n",
        "\n",
        "counts, bins, _ = plt.hist( array_L, bins=10, range=(x_min, x_max) )\n",
        "max_ = np.max( counts )\n",
        "\n",
        "X = np.linspace( x_min, x_max, 500 )\n",
        "\n",
        "plt.plot( X, ( max_ * np.sqrt( 2 * np.pi ) * sigma_ ) * rv.pdf( X ), 'k-' )\n",
        "\n",
        "plt.xlim( x_min, x_max )\n",
        "plt.xlabel( \"L (cm)\", fontsize=18 )\n",
        "plt.ylabel( \"Frequência\", fontsize=18 )"
      ],
      "execution_count": 10,
      "outputs": [
        {
          "output_type": "execute_result",
          "data": {
            "text/plain": [
              "Text(0, 0.5, 'Frequência')"
            ]
          },
          "metadata": {
            "tags": []
          },
          "execution_count": 10
        },
        {
          "output_type": "display_data",
          "data": {
            "image/png": "[encoded data removed]",
            "text/plain": [
              "<Figure size 576x432 with 1 Axes>"
            ]
          },
          "metadata": {
            "tags": [],
            "needs_background": "light"
          }
        }
      ]
    },
    {
      "cell_type": "markdown",
      "metadata": {
        "id": "xL4GQKiUgiG0"
      },
      "source": [
        "### Erro da média:"
      ]
    },
    {
      "cell_type": "code",
      "metadata": {
        "colab": {
          "base_uri": "https://localhost:8080/"
        },
        "id": "a-tNkXm8gd4a",
        "outputId": "8d677bb2-2417-444c-9e3a-5b414830c920"
      },
      "source": [
        "erro_media_L = sigma_L_a / np.sqrt( N )\n",
        "print ( \"Erro da média (cm) = {}\".format( erro_media_L ) )"
      ],
      "execution_count": 11,
      "outputs": [
        {
          "output_type": "stream",
          "text": [
            "Erro da média (cm) = 0.05097826583823989\n"
          ],
          "name": "stdout"
        }
      ]
    },
    {
      "cell_type": "markdown",
      "metadata": {
        "id": "KNSeSUy0gxyb"
      },
      "source": [
        "Estimativa do comprimento das mesas:"
      ]
    },
    {
      "cell_type": "code",
      "metadata": {
        "colab": {
          "base_uri": "https://localhost:8080/"
        },
        "id": "H3ivsFjHgtvi",
        "outputId": "e274af1c-d4a0-4722-e19e-6e1f33c48f09"
      },
      "source": [
        "print ( \"L = {:.2f} ± {:.2f} (cm)\".format( np.round( media_L, 2 ), np.round( erro_media_L, 2 ) ) )"
      ],
      "execution_count": 12,
      "outputs": [
        {
          "output_type": "stream",
          "text": [
            "L = 150.02 ± 0.05 (cm)\n"
          ],
          "name": "stdout"
        }
      ]
    },
    {
      "cell_type": "markdown",
      "metadata": {
        "id": "J4HeQOA2hm0Z"
      },
      "source": [
        "### Distribuição Gaussiana das **médias**:\n",
        "\n"
      ]
    },
    {
      "cell_type": "code",
      "metadata": {
        "colab": {
          "base_uri": "https://localhost:8080/",
          "height": 419
        },
        "id": "_8stF4bFhe6O",
        "outputId": "5e08344d-59a9-4f9e-ac86-cd4796ec61f6"
      },
      "source": [
        "x_min = 149.0\n",
        "x_max = 151.0\n",
        "\n",
        "sigma_ = erro_media_L\n",
        "rv = norm( loc=media_L, scale=sigma_ )\n",
        "\n",
        "fig = plt.figure( figsize=(8,6) )\n",
        "\n",
        "X = np.linspace( x_min, x_max, 500 )\n",
        "\n",
        "plt.plot( X, rv.pdf( X ), 'k-' )\n",
        "plt.xlim( x_min, x_max )\n",
        "plt.ylim( bottom=0. )\n",
        "plt.xlabel( r\"$\\overline{\\rm{L}}$ (cm)\", fontsize=18 )\n",
        "plt.ylabel( \"Distribuição\", fontsize=18 )"
      ],
      "execution_count": 13,
      "outputs": [
        {
          "output_type": "execute_result",
          "data": {
            "text/plain": [
              "Text(0, 0.5, 'Distribuição')"
            ]
          },
          "metadata": {
            "tags": []
          },
          "execution_count": 13
        },
        {
          "output_type": "display_data",
          "data": {
            "image/png": "[encoded data removed]",
            "text/plain": [
              "<Figure size 576x432 with 1 Axes>"
            ]
          },
          "metadata": {
            "tags": [],
            "needs_background": "light"
          }
        }
      ]
    },
    {
      "cell_type": "code",
      "metadata": {
        "colab": {
          "base_uri": "https://localhost:8080/",
          "height": 178
        },
        "id": "8c7OWOHoiJWW",
        "outputId": "b85659f6-0c52-4205-e1d9-911e921a5f18"
      },
      "source": [
        "fig = plt.figure( figsize=(8,6) )\n",
        "\n",
        "media_menos_1sigma = media_L - erro_media_L\n",
        "media_mais_1sigma = media_L + erro_media_L\n",
        "media_menos_2sigma = media_L - 2 * erro_media_L\n",
        "media_mais_2sigma = media_L + 2 * erro_media_L\n",
        "media_menos_3sigma = media_L - 3 * erro_media_L\n",
        "media_mais_3sigma = media_L + 3 * erro_media_L\n",
        "\n",
        "ax = plt.axes([0,0,0.3,0.3]) #left,bottom,width,height\n",
        "ax.set_xticks([])\n",
        "ax.set_yticks([])\n",
        "ax.axis('off')\n",
        "\n",
        "str_ = r\"$\\overline{\\rm{L}} \\pm 1\\sigma_{\\overline{\\rm{L}}} = (%.2f,%.2f)$ (cm)\" % ( np.round( media_menos_1sigma, 2 ), np.round( media_mais_1sigma, 2 ) )\n",
        "ax.text(0., 0.75, str_, size=25)\n",
        "str_ = r\"$\\overline{\\rm{L}} \\pm 2\\sigma_{\\overline{\\rm{L}}} = (%.2f,%.2f)$ (cm)\" % ( np.round( media_menos_2sigma, 2 ), np.round( media_mais_2sigma, 2 ) )\n",
        "ax.text(0., 0.40, str_, size=25)\n",
        "str_ = r\"$\\overline{\\rm{L}} \\pm 3\\sigma_{\\overline{\\rm{L}}} = (%.2f,%.2f)$ (cm)\" % ( np.round( media_menos_3sigma, 2 ), np.round( media_mais_3sigma, 2 ) )\n",
        "ax.text(0., 0.05, str_, size=25)"
      ],
      "execution_count": 14,
      "outputs": [
        {
          "output_type": "execute_result",
          "data": {
            "text/plain": [
              "Text(0.0, 0.05, '$\\\\overline{\\\\rm{L}} \\\\pm 3\\\\sigma_{\\\\overline{\\\\rm{L}}} = (149.87,150.18)$ (cm)')"
            ]
          },
          "metadata": {
            "tags": []
          },
          "execution_count": 14
        },
        {
          "output_type": "display_data",
          "data": {
            "image/png": "[encoded data removed]",
            "text/plain": [
              "<Figure size 576x432 with 1 Axes>"
            ]
          },
          "metadata": {
            "tags": []
          }
        }
      ]
    },
    {
      "cell_type": "code",
      "metadata": {
        "colab": {
          "base_uri": "https://localhost:8080/",
          "height": 419
        },
        "id": "c_pifKg5klrU",
        "outputId": "59a81673-2267-411d-e691-5b61fd0517ea"
      },
      "source": [
        "fig = plt.figure( figsize=(8,6) )\n",
        "\n",
        "X_1sigma = X[ (X >= media_menos_1sigma) & (X <= media_mais_1sigma) ]\n",
        "X_2sigma = X[ (X >= media_menos_2sigma) & (X <= media_mais_2sigma) ]\n",
        "X_3sigma = X[ (X >= media_menos_3sigma) & (X <= media_mais_3sigma) ]\n",
        "\n",
        "plt.plot( X, rv.pdf( X ), 'k-' )\n",
        "plt.fill( np.concatenate( ( [ X_3sigma[0] ], X_3sigma, [ X_3sigma[-1] ] ) ), np.concatenate( ( [ 0. ], rv.pdf( X_3sigma ), [ 0. ] ) ), color=\"lightcoral\", alpha=0.75, label=r\"$3\\sigma$\" )\n",
        "plt.fill( np.concatenate( ( [ X_2sigma[0] ], X_2sigma, [ X_2sigma[-1] ] ) ), np.concatenate( ( [ 0. ], rv.pdf( X_2sigma ), [ 0. ] ) ), color=\"deepskyblue\", alpha=0.90, label=r\"$2\\sigma$\" )\n",
        "plt.fill( np.concatenate( ( [ X_1sigma[0] ], X_1sigma, [ X_1sigma[-1] ] ) ), np.concatenate( ( [ 0. ], rv.pdf( X_1sigma ), [ 0. ] ) ), color=\"steelblue\", alpha=0.75, label=r\"$1\\sigma$\" )\n",
        "handles, labels = plt.gca().get_legend_handles_labels()\n",
        "order_ = [ 2, 1, 0 ]\n",
        "handles_new = [ handles[idx_] for idx_ in order_ ]\n",
        "labels_new = [ labels[idx_] for idx_ in order_ ]\n",
        "#plt.legend( loc='best', fontsize=16 )\n",
        "plt.legend( handles_new, labels_new, loc='best', fontsize=16 )\n",
        "\n",
        "plt.xlim( x_min, x_max )\n",
        "plt.ylim( bottom=0. )\n",
        "#plt.yscale( 'log' )\n",
        "plt.xlabel( r\"$\\overline{\\rm{L}}$ (cm)\", fontsize=18 )\n",
        "plt.ylabel( \"Distribuição\", fontsize=18 )"
      ],
      "execution_count": 15,
      "outputs": [
        {
          "output_type": "execute_result",
          "data": {
            "text/plain": [
              "Text(0, 0.5, 'Distribuição')"
            ]
          },
          "metadata": {
            "tags": []
          },
          "execution_count": 15
        },
        {
          "output_type": "display_data",
          "data": {
            "image/png": "[encoded data removed]",
            "text/plain": [
              "<Figure size 576x432 with 1 Axes>"
            ]
          },
          "metadata": {
            "tags": [],
            "needs_background": "light"
          }
        }
      ]
    },
    {
      "cell_type": "markdown",
      "metadata": {
        "id": "UCVEDplk2f1_"
      },
      "source": [
        "Probabilidade no intervalo de $1\\sigma$:"
      ]
    },
    {
      "cell_type": "code",
      "metadata": {
        "colab": {
          "base_uri": "https://localhost:8080/"
        },
        "id": "p9-qorH_qvUc",
        "outputId": "bb8ae0d4-133f-4a5e-b95d-1e6d084c49f6"
      },
      "source": [
        "rv.cdf( media_mais_1sigma ) - rv.cdf( media_menos_1sigma )"
      ],
      "execution_count": 16,
      "outputs": [
        {
          "output_type": "execute_result",
          "data": {
            "text/plain": [
              "0.682689492137079"
            ]
          },
          "metadata": {
            "tags": []
          },
          "execution_count": 16
        }
      ]
    },
    {
      "cell_type": "markdown",
      "metadata": {
        "id": "SOhz3n8z2pxf"
      },
      "source": [
        "Probabilidade no intervalo de $2\\sigma$:"
      ]
    },
    {
      "cell_type": "code",
      "metadata": {
        "colab": {
          "base_uri": "https://localhost:8080/"
        },
        "id": "27T3Syjgz857",
        "outputId": "60c0d5f6-be20-4557-b207-b4e00d70a6ed"
      },
      "source": [
        "rv.cdf( media_mais_2sigma ) - rv.cdf( media_menos_2sigma )"
      ],
      "execution_count": 17,
      "outputs": [
        {
          "output_type": "execute_result",
          "data": {
            "text/plain": [
              "0.9544997361036385"
            ]
          },
          "metadata": {
            "tags": []
          },
          "execution_count": 17
        }
      ]
    },
    {
      "cell_type": "markdown",
      "metadata": {
        "id": "2NaYv8doEPzQ"
      },
      "source": [
        "Probabilidade no intervalo de $3\\sigma$:"
      ]
    },
    {
      "cell_type": "code",
      "metadata": {
        "id": "Cu2_mDmQ0bVK",
        "outputId": "f5c7ce2a-cc2a-4248-f315-2858431229d7",
        "colab": {
          "base_uri": "https://localhost:8080/"
        }
      },
      "source": [
        "rv.cdf( media_mais_3sigma ) - rv.cdf( media_menos_3sigma )"
      ],
      "execution_count": 18,
      "outputs": [
        {
          "output_type": "execute_result",
          "data": {
            "text/plain": [
              "0.9973002039367393"
            ]
          },
          "metadata": {
            "tags": []
          },
          "execution_count": 18
        }
      ]
    },
    {
      "cell_type": "code",
      "metadata": {
        "id": "Zv_lTegWBKqJ"
      },
      "source": [
        ""
      ],
      "execution_count": 18,
      "outputs": []
    }
  ]
}