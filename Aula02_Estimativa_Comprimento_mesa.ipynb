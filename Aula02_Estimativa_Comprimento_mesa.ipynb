{
  "nbformat": 4,
  "nbformat_minor": 0,
  "metadata": {
    "colab": {
      "name": "Aula02-Estimativa-Comprimento-mesa.ipynb",
      "provenance": [],
      "authorship_tag": "ABX9TyMqJKg+BbMJzH/jD2R67nei",
      "include_colab_link": true
    },
    "kernelspec": {
      "name": "python3",
      "display_name": "Python 3"
    }
  },
  "cells": [
    {
      "cell_type": "markdown",
      "metadata": {
        "id": "view-in-github",
        "colab_type": "text"
      },
      "source": [
        "<a href=\"https://colab.research.google.com/github/UERJ-FISICA/Fisica-Geral/blob/main/Aula02_Estimativa_Comprimento_mesa.ipynb\" target=\"_parent\"><img src=\"https://colab.research.google.com/assets/colab-badge.svg\" alt=\"Open In Colab\"/></a>"
      ]
    },
    {
      "cell_type": "code",
      "metadata": {
        "id": "QtIRWw-oem2s"
      },
      "source": [
        "import numpy as np\r\n",
        "import pandas as pd\r\n",
        "import matplotlib as mpl\r\n",
        "import matplotlib.pyplot as plt"
      ],
      "execution_count": 1,
      "outputs": []
    },
    {
      "cell_type": "code",
      "metadata": {
        "colab": {
          "base_uri": "https://localhost:8080/"
        },
        "id": "4S6ZgOZrer36",
        "outputId": "f6c12cc4-ab17-43f7-e1a0-c39dcd056681"
      },
      "source": [
        "!curl -o Atividades-Aula01-Comprimento-mesa.xlsx https://raw.githubusercontent.com/UERJ-FISICA/Fisica-Geral/main/dados/Atividades-Aula01-Comprimento-mesa.xlsx"
      ],
      "execution_count": 2,
      "outputs": [
        {
          "output_type": "stream",
          "text": [
            "  % Total    % Received % Xferd  Average Speed   Time    Time     Time  Current\n",
            "                                 Dload  Upload   Total   Spent    Left  Speed\n",
            "100 15829  100 15829    0     0  97709      0 --:--:-- --:--:-- --:--:-- 97709\n"
          ],
          "name": "stdout"
        }
      ]
    },
    {
      "cell_type": "code",
      "metadata": {
        "colab": {
          "base_uri": "https://localhost:8080/",
          "height": 580
        },
        "id": "njP2HX51eslT",
        "outputId": "787328bc-1d37-4521-e0e0-fd7e919c5512"
      },
      "source": [
        "# array_L = np.array( [ 149.81, 149.9 , 150.1 , 150.5 , 149.8 , 149.8 , 149.71, 150.21,\r\n",
        "#                       149.75, 150.1 , 150.15, 150.1 , 150.  , 150.4 , 149.91, 150.1 ,\r\n",
        "#                       150.09, 150. ] )\r\n",
        "df = pd.read_excel( \"Atividades-Aula01-Comprimento-mesa.xlsx\", sheet_name=\"Comprimento mesa\", usecols=[0], nrows=18, names=[\"L\"] )\r\n",
        "df"
      ],
      "execution_count": 3,
      "outputs": [
        {
          "output_type": "execute_result",
          "data": {
            "text/html": [
              "<div>\n",
              "<style scoped>\n",
              "    .dataframe tbody tr th:only-of-type {\n",
              "        vertical-align: middle;\n",
              "    }\n",
              "\n",
              "    .dataframe tbody tr th {\n",
              "        vertical-align: top;\n",
              "    }\n",
              "\n",
              "    .dataframe thead th {\n",
              "        text-align: right;\n",
              "    }\n",
              "</style>\n",
              "<table border=\"1\" class=\"dataframe\">\n",
              "  <thead>\n",
              "    <tr style=\"text-align: right;\">\n",
              "      <th></th>\n",
              "      <th>L</th>\n",
              "    </tr>\n",
              "  </thead>\n",
              "  <tbody>\n",
              "    <tr>\n",
              "      <th>0</th>\n",
              "      <td>149.81</td>\n",
              "    </tr>\n",
              "    <tr>\n",
              "      <th>1</th>\n",
              "      <td>149.90</td>\n",
              "    </tr>\n",
              "    <tr>\n",
              "      <th>2</th>\n",
              "      <td>150.10</td>\n",
              "    </tr>\n",
              "    <tr>\n",
              "      <th>3</th>\n",
              "      <td>150.50</td>\n",
              "    </tr>\n",
              "    <tr>\n",
              "      <th>4</th>\n",
              "      <td>149.80</td>\n",
              "    </tr>\n",
              "    <tr>\n",
              "      <th>5</th>\n",
              "      <td>149.80</td>\n",
              "    </tr>\n",
              "    <tr>\n",
              "      <th>6</th>\n",
              "      <td>149.71</td>\n",
              "    </tr>\n",
              "    <tr>\n",
              "      <th>7</th>\n",
              "      <td>150.21</td>\n",
              "    </tr>\n",
              "    <tr>\n",
              "      <th>8</th>\n",
              "      <td>149.75</td>\n",
              "    </tr>\n",
              "    <tr>\n",
              "      <th>9</th>\n",
              "      <td>150.10</td>\n",
              "    </tr>\n",
              "    <tr>\n",
              "      <th>10</th>\n",
              "      <td>150.15</td>\n",
              "    </tr>\n",
              "    <tr>\n",
              "      <th>11</th>\n",
              "      <td>150.10</td>\n",
              "    </tr>\n",
              "    <tr>\n",
              "      <th>12</th>\n",
              "      <td>150.00</td>\n",
              "    </tr>\n",
              "    <tr>\n",
              "      <th>13</th>\n",
              "      <td>150.40</td>\n",
              "    </tr>\n",
              "    <tr>\n",
              "      <th>14</th>\n",
              "      <td>149.91</td>\n",
              "    </tr>\n",
              "    <tr>\n",
              "      <th>15</th>\n",
              "      <td>150.10</td>\n",
              "    </tr>\n",
              "    <tr>\n",
              "      <th>16</th>\n",
              "      <td>150.09</td>\n",
              "    </tr>\n",
              "    <tr>\n",
              "      <th>17</th>\n",
              "      <td>150.00</td>\n",
              "    </tr>\n",
              "  </tbody>\n",
              "</table>\n",
              "</div>"
            ],
            "text/plain": [
              "         L\n",
              "0   149.81\n",
              "1   149.90\n",
              "2   150.10\n",
              "3   150.50\n",
              "4   149.80\n",
              "5   149.80\n",
              "6   149.71\n",
              "7   150.21\n",
              "8   149.75\n",
              "9   150.10\n",
              "10  150.15\n",
              "11  150.10\n",
              "12  150.00\n",
              "13  150.40\n",
              "14  149.91\n",
              "15  150.10\n",
              "16  150.09\n",
              "17  150.00"
            ]
          },
          "metadata": {
            "tags": []
          },
          "execution_count": 3
        }
      ]
    },
    {
      "cell_type": "code",
      "metadata": {
        "colab": {
          "base_uri": "https://localhost:8080/"
        },
        "id": "IVLGV5Uke04N",
        "outputId": "7f1eef12-9fa8-4626-a2ea-06abbe76d7ac"
      },
      "source": [
        "#array_L = df.iloc[:, 0]\r\n",
        "array_L = df[ \"L\" ]\r\n",
        "array_L"
      ],
      "execution_count": 4,
      "outputs": [
        {
          "output_type": "execute_result",
          "data": {
            "text/plain": [
              "0     149.81\n",
              "1     149.90\n",
              "2     150.10\n",
              "3     150.50\n",
              "4     149.80\n",
              "5     149.80\n",
              "6     149.71\n",
              "7     150.21\n",
              "8     149.75\n",
              "9     150.10\n",
              "10    150.15\n",
              "11    150.10\n",
              "12    150.00\n",
              "13    150.40\n",
              "14    149.91\n",
              "15    150.10\n",
              "16    150.09\n",
              "17    150.00\n",
              "Name: L, dtype: float64"
            ]
          },
          "metadata": {
            "tags": []
          },
          "execution_count": 4
        }
      ]
    },
    {
      "cell_type": "markdown",
      "metadata": {
        "id": "uc4hLQzie-s5"
      },
      "source": [
        "### Desvio padrão populacional:"
      ]
    },
    {
      "cell_type": "code",
      "metadata": {
        "colab": {
          "base_uri": "https://localhost:8080/"
        },
        "id": "WZMqcrbve6Kb",
        "outputId": "5b51ddee-1077-46f8-8750-ac1a4cc3b745"
      },
      "source": [
        "media_L = np.mean( array_L )\r\n",
        "print ( \"Média (cm) = {}\".format( media_L ) )\r\n",
        "\r\n",
        "var_L_p = np.mean( array_L ** 2 ) - np.mean( array_L ) ** 2\r\n",
        "print ( \"Variância populacional (cm²) = {}\".format( var_L_p ) )"
      ],
      "execution_count": 5,
      "outputs": [
        {
          "output_type": "stream",
          "text": [
            "Média (cm) = 150.02388888888888\n",
            "Variância populacional (cm²) = 0.04417932099386235\n"
          ],
          "name": "stdout"
        }
      ]
    },
    {
      "cell_type": "code",
      "metadata": {
        "colab": {
          "base_uri": "https://localhost:8080/"
        },
        "id": "mlb6pjhNfaeS",
        "outputId": "17223d2a-1667-43a2-fdda-f44fe6f54139"
      },
      "source": [
        "sigma_L_p = np.sqrt( var_L_p )\r\n",
        "print ( \"Desvio padrão populacional (cm) = {}\".format( sigma_L_p ) )"
      ],
      "execution_count": 6,
      "outputs": [
        {
          "output_type": "stream",
          "text": [
            "Desvio padrão populacional (cm) = 0.21018877466187946\n"
          ],
          "name": "stdout"
        }
      ]
    },
    {
      "cell_type": "code",
      "metadata": {
        "colab": {
          "base_uri": "https://localhost:8080/"
        },
        "id": "ZaCfTl0rfzvV",
        "outputId": "331a11b8-f769-4d6a-cfc8-2f1a837dbacd"
      },
      "source": [
        "np.std( array_L, ddof=0 )"
      ],
      "execution_count": 7,
      "outputs": [
        {
          "output_type": "execute_result",
          "data": {
            "text/plain": [
              "0.21018877464711025"
            ]
          },
          "metadata": {
            "tags": []
          },
          "execution_count": 7
        }
      ]
    },
    {
      "cell_type": "markdown",
      "metadata": {
        "id": "arfDAL_Uf9eo"
      },
      "source": [
        "### Desvio padrão amostral:"
      ]
    },
    {
      "cell_type": "code",
      "metadata": {
        "colab": {
          "base_uri": "https://localhost:8080/"
        },
        "id": "WnLwblFmfwtL",
        "outputId": "7a2ba618-17b6-4ac3-9548-edc5e53acc1c"
      },
      "source": [
        "N = array_L.size # tamanho da sequência L\r\n",
        "print ( \"N = {}\".format( N ) )\r\n",
        "\r\n",
        "sigma_L_a = np.sqrt( N / (N - 1) ) * sigma_L_p\r\n",
        "print ( \"Desvio padrão amostral (cm) = {}\".format( sigma_L_a ) )"
      ],
      "execution_count": 8,
      "outputs": [
        {
          "output_type": "stream",
          "text": [
            "N = 18\n",
            "Desvio padrão amostral (cm) = 0.21628246480409966\n"
          ],
          "name": "stdout"
        }
      ]
    },
    {
      "cell_type": "code",
      "metadata": {
        "colab": {
          "base_uri": "https://localhost:8080/"
        },
        "id": "5bRHqJsbgLUE",
        "outputId": "2e8dab8f-652d-49af-fdfb-56ddc723e604"
      },
      "source": [
        "np.std( array_L, ddof=1 )"
      ],
      "execution_count": 9,
      "outputs": [
        {
          "output_type": "execute_result",
          "data": {
            "text/plain": [
              "0.21628246478890223"
            ]
          },
          "metadata": {
            "tags": []
          },
          "execution_count": 9
        }
      ]
    },
    {
      "cell_type": "markdown",
      "metadata": {
        "id": "xL4GQKiUgiG0"
      },
      "source": [
        "### Erro da média:"
      ]
    },
    {
      "cell_type": "code",
      "metadata": {
        "colab": {
          "base_uri": "https://localhost:8080/"
        },
        "id": "a-tNkXm8gd4a",
        "outputId": "566f2fd8-cbbe-4252-c92e-737fa79e6491"
      },
      "source": [
        "erro_media_L = sigma_L_a / np.sqrt( N )\r\n",
        "print ( \"Erro da média (cm) = {}\".format( erro_media_L ) )"
      ],
      "execution_count": 10,
      "outputs": [
        {
          "output_type": "stream",
          "text": [
            "Erro da média (cm) = 0.05097826583823989\n"
          ],
          "name": "stdout"
        }
      ]
    },
    {
      "cell_type": "markdown",
      "metadata": {
        "id": "KNSeSUy0gxyb"
      },
      "source": [
        "Estimativa do comprimento das mesas:"
      ]
    },
    {
      "cell_type": "code",
      "metadata": {
        "colab": {
          "base_uri": "https://localhost:8080/"
        },
        "id": "H3ivsFjHgtvi",
        "outputId": "ee509602-6b25-4c83-b11c-fa209f2f0840"
      },
      "source": [
        "print ( \"L = {:.2f} ± {:.2f} (cm)\".format( np.round( media_L, 2 ), np.round( erro_media_L, 2 ) ) )"
      ],
      "execution_count": 11,
      "outputs": [
        {
          "output_type": "stream",
          "text": [
            "L = 150.02 ± 0.05 (cm)\n"
          ],
          "name": "stdout"
        }
      ]
    },
    {
      "cell_type": "markdown",
      "metadata": {
        "id": "J4HeQOA2hm0Z"
      },
      "source": [
        "### Distribuição Gaussiana para a estimativa:"
      ]
    },
    {
      "cell_type": "code",
      "metadata": {
        "colab": {
          "base_uri": "https://localhost:8080/",
          "height": 419
        },
        "id": "_8stF4bFhe6O",
        "outputId": "6d996336-fc20-406b-a2be-2c3600eabdb8"
      },
      "source": [
        "from scipy.stats import norm\r\n",
        "rv = norm( loc=media_L, scale=erro_media_L )\r\n",
        "\r\n",
        "fig = plt.figure( figsize=(8,6) )\r\n",
        "x_min = 149.50\r\n",
        "x_max = 150.50\r\n",
        "X = np.linspace( x_min, x_max, 500 )\r\n",
        "\r\n",
        "plt.plot( X, rv.pdf( X ), 'k-' )\r\n",
        "plt.xlim( x_min, x_max )\r\n",
        "plt.ylim( bottom=0. )\r\n",
        "plt.xlabel( r\"$\\overline{\\rm{L}}$ (cm)\", fontsize=18 )\r\n",
        "plt.ylabel( \"Distribuição\", fontsize=18 )"
      ],
      "execution_count": 12,
      "outputs": [
        {
          "output_type": "execute_result",
          "data": {
            "text/plain": [
              "Text(0, 0.5, 'Distribuição')"
            ]
          },
          "metadata": {
            "tags": []
          },
          "execution_count": 12
        },
        {
          "output_type": "display_data",
          "data": {
            "image/png": "[encoded data removed]",
            "text/plain": [
              "<Figure size 576x432 with 1 Axes>"
            ]
          },
          "metadata": {
            "tags": [],
            "needs_background": "light"
          }
        }
      ]
    },
    {
      "cell_type": "code",
      "metadata": {
        "colab": {
          "base_uri": "https://localhost:8080/",
          "height": 110
        },
        "id": "8c7OWOHoiJWW",
        "outputId": "ba4ec06b-7a08-42a2-ffc1-1f13077690b6"
      },
      "source": [
        "fig = plt.figure( figsize=(8,6) )\r\n",
        "\r\n",
        "media_menos_1sigma = media_L - erro_media_L\r\n",
        "media_mais_1sigma = media_L + erro_media_L\r\n",
        "media_menos_2sigma = media_L - 2 * erro_media_L\r\n",
        "media_mais_2sigma = media_L + 2 * erro_media_L\r\n",
        "\r\n",
        "ax = plt.axes([0,0,0.1,0.1]) #left,bottom,width,height\r\n",
        "ax.set_xticks([])\r\n",
        "ax.set_yticks([])\r\n",
        "ax.axis('off')\r\n",
        "\r\n",
        "str_ = r\"$\\overline{\\rm{L}} \\pm 1\\sigma_{\\overline{\\rm{L}}} = (%.2f,%.2f)$ (cm)\" % ( np.round( media_menos_1sigma, 2 ), np.round( media_mais_1sigma, 2 ) )\r\n",
        "ax.text(0., 0.9, str_, size=20)\r\n",
        "str_ = r\"$\\overline{\\rm{L}} \\pm 2\\sigma_{\\overline{\\rm{L}}} = (%.2f,%.2f)$ (cm)\" % ( np.round( media_menos_2sigma, 2 ), np.round( media_mais_2sigma, 2 ) )\r\n",
        "ax.text(0., 0.1, str_, size=20)"
      ],
      "execution_count": 13,
      "outputs": [
        {
          "output_type": "execute_result",
          "data": {
            "text/plain": [
              "Text(0.0, 0.1, '$\\\\overline{\\\\rm{L}} \\\\pm 2\\\\sigma_{\\\\overline{\\\\rm{L}}} = (149.92,150.13)$ (cm)')"
            ]
          },
          "metadata": {
            "tags": []
          },
          "execution_count": 13
        },
        {
          "output_type": "display_data",
          "data": {
            "image/png": "[encoded data removed]",
            "text/plain": [
              "<Figure size 576x432 with 1 Axes>"
            ]
          },
          "metadata": {
            "tags": []
          }
        }
      ]
    },
    {
      "cell_type": "code",
      "metadata": {
        "colab": {
          "base_uri": "https://localhost:8080/",
          "height": 419
        },
        "id": "c_pifKg5klrU",
        "outputId": "301f212e-afb6-424b-b692-8c3321d803a5"
      },
      "source": [
        "fig = plt.figure( figsize=(8,6) )\r\n",
        "X_1sigma = X[ (X >= media_menos_1sigma) & (X <= media_mais_1sigma) ]\r\n",
        "X_2sigma = X[ (X >= media_menos_2sigma) & (X <= media_mais_2sigma) ]\r\n",
        "\r\n",
        "plt.plot( X, rv.pdf( X ), 'k-' )\r\n",
        "plt.fill( np.concatenate( ( [ X_1sigma[0] ], X_1sigma, [ X_1sigma[-1] ] ) ), np.concatenate( ( [ 0. ], rv.pdf( X_1sigma ), [ 0. ] ) ), color=\"steelblue\", label=r\"$1\\sigma$\" )\r\n",
        "plt.fill( np.concatenate( ( [ X_2sigma[0] ], X_2sigma, [ X_2sigma[-1] ] ) ), np.concatenate( ( [ 0. ], rv.pdf( X_2sigma ), [ 0. ] ) ), color=\"deepskyblue\", alpha=0.50, label=r\"$2\\sigma$\" )\r\n",
        "plt.legend( loc='best', fontsize=16 )\r\n",
        "plt.xlim( x_min, x_max )\r\n",
        "plt.ylim( bottom=0. )\r\n",
        "plt.xlabel( r\"$\\overline{\\rm{L}}$ (cm)\", fontsize=18 )\r\n",
        "plt.ylabel( \"Distribuição\", fontsize=18 )"
      ],
      "execution_count": 14,
      "outputs": [
        {
          "output_type": "execute_result",
          "data": {
            "text/plain": [
              "Text(0, 0.5, 'Distribuição')"
            ]
          },
          "metadata": {
            "tags": []
          },
          "execution_count": 14
        },
        {
          "output_type": "display_data",
          "data": {
            "image/png": "[encoded data removed]",
            "text/plain": [
              "<Figure size 576x432 with 1 Axes>"
            ]
          },
          "metadata": {
            "tags": [],
            "needs_background": "light"
          }
        }
      ]
    },
    {
      "cell_type": "markdown",
      "metadata": {
        "id": "UCVEDplk2f1_"
      },
      "source": [
        "Probabilidade no intervalo de $1\\sigma$:"
      ]
    },
    {
      "cell_type": "code",
      "metadata": {
        "colab": {
          "base_uri": "https://localhost:8080/"
        },
        "id": "p9-qorH_qvUc",
        "outputId": "2929a6f5-8aaa-4d32-8a8e-666d31b65490"
      },
      "source": [
        "rv.cdf( media_mais_1sigma ) - rv.cdf( media_menos_1sigma )"
      ],
      "execution_count": 15,
      "outputs": [
        {
          "output_type": "execute_result",
          "data": {
            "text/plain": [
              "0.682689492137079"
            ]
          },
          "metadata": {
            "tags": []
          },
          "execution_count": 15
        }
      ]
    },
    {
      "cell_type": "markdown",
      "metadata": {
        "id": "SOhz3n8z2pxf"
      },
      "source": [
        "Probabilidade no intervalo de $2\\sigma$:"
      ]
    },
    {
      "cell_type": "code",
      "metadata": {
        "colab": {
          "base_uri": "https://localhost:8080/"
        },
        "id": "27T3Syjgz857",
        "outputId": "bcd68220-6ffa-45fc-9d15-1e1235535380"
      },
      "source": [
        "rv.cdf( media_mais_2sigma ) - rv.cdf( media_menos_2sigma )"
      ],
      "execution_count": 16,
      "outputs": [
        {
          "output_type": "execute_result",
          "data": {
            "text/plain": [
              "0.9544997361036385"
            ]
          },
          "metadata": {
            "tags": []
          },
          "execution_count": 16
        }
      ]
    },
    {
      "cell_type": "code",
      "metadata": {
        "id": "Cu2_mDmQ0bVK"
      },
      "source": [
        ""
      ],
      "execution_count": 16,
      "outputs": []
    }
  ]
}