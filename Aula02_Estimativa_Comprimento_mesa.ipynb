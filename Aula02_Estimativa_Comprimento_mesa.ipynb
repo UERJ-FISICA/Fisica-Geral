{
  "nbformat": 4,
  "nbformat_minor": 0,
  "metadata": {
    "colab": {
      "name": "Aula02-Estimativa-Comprimento-mesa.ipynb",
      "provenance": [],
      "collapsed_sections": [],
      "authorship_tag": "ABX9TyNwqrJNMXWoDV6XZnh6dDBC",
      "include_colab_link": true
    },
    "kernelspec": {
      "name": "python3",
      "display_name": "Python 3"
    }
  },
  "cells": [
    {
      "cell_type": "markdown",
      "metadata": {
        "id": "view-in-github",
        "colab_type": "text"
      },
      "source": [
        "<a href=\"https://colab.research.google.com/github/UERJ-FISICA/Fisica-Geral/blob/main/Aula02_Estimativa_Comprimento_mesa.ipynb\" target=\"_parent\"><img src=\"https://colab.research.google.com/assets/colab-badge.svg\" alt=\"Open In Colab\"/></a>"
      ]
    },
    {
      "cell_type": "code",
      "metadata": {
        "id": "QtIRWw-oem2s"
      },
      "source": [
        "import numpy as np\n",
        "import pandas as pd\n",
        "import matplotlib as mpl\n",
        "import matplotlib.pyplot as plt"
      ],
      "execution_count": 1,
      "outputs": []
    },
    {
      "cell_type": "code",
      "metadata": {
        "colab": {
          "base_uri": "https://localhost:8080/"
        },
        "id": "4S6ZgOZrer36",
        "outputId": "34a1c721-c1ac-4add-fc01-c963f9f49290"
      },
      "source": [
        "!curl -o Atividades-Aula01-Comprimento-mesa.xlsx https://raw.githubusercontent.com/UERJ-FISICA/Fisica-Geral/main/dados/Atividades-Aula01-Comprimento-mesa.xlsx"
      ],
      "execution_count": 2,
      "outputs": [
        {
          "output_type": "stream",
          "text": [
            "  % Total    % Received % Xferd  Average Speed   Time    Time     Time  Current\n",
            "                                 Dload  Upload   Total   Spent    Left  Speed\n",
            "\r  0     0    0     0    0     0      0      0 --:--:-- --:--:-- --:--:--     0\r100 15829  100 15829    0     0   281k      0 --:--:-- --:--:-- --:--:--  281k\n"
          ],
          "name": "stdout"
        }
      ]
    },
    {
      "cell_type": "code",
      "metadata": {
        "colab": {
          "base_uri": "https://localhost:8080/",
          "height": 603
        },
        "id": "njP2HX51eslT",
        "outputId": "e0e3e044-cfef-47bc-e592-92747fbd11b1"
      },
      "source": [
        "# array_L = np.array( [ 149.81, 149.9 , 150.1 , 150.5 , 149.8 , 149.8 , 149.71, 150.21,\n",
        "#                       149.75, 150.1 , 150.15, 150.1 , 150.  , 150.4 , 149.91, 150.1 ,\n",
        "#                       150.09, 150. ] )\n",
        "df = pd.read_excel( \"Atividades-Aula01-Comprimento-mesa.xlsx\", sheet_name=\"Comprimento mesa\", usecols=[0], nrows=18, names=[\"L\"] )\n",
        "df"
      ],
      "execution_count": 3,
      "outputs": [
        {
          "output_type": "execute_result",
          "data": {
            "text/html": [
              "<div>\n",
              "<style scoped>\n",
              "    .dataframe tbody tr th:only-of-type {\n",
              "        vertical-align: middle;\n",
              "    }\n",
              "\n",
              "    .dataframe tbody tr th {\n",
              "        vertical-align: top;\n",
              "    }\n",
              "\n",
              "    .dataframe thead th {\n",
              "        text-align: right;\n",
              "    }\n",
              "</style>\n",
              "<table border=\"1\" class=\"dataframe\">\n",
              "  <thead>\n",
              "    <tr style=\"text-align: right;\">\n",
              "      <th></th>\n",
              "      <th>L</th>\n",
              "    </tr>\n",
              "  </thead>\n",
              "  <tbody>\n",
              "    <tr>\n",
              "      <th>0</th>\n",
              "      <td>149.81</td>\n",
              "    </tr>\n",
              "    <tr>\n",
              "      <th>1</th>\n",
              "      <td>149.90</td>\n",
              "    </tr>\n",
              "    <tr>\n",
              "      <th>2</th>\n",
              "      <td>150.10</td>\n",
              "    </tr>\n",
              "    <tr>\n",
              "      <th>3</th>\n",
              "      <td>150.50</td>\n",
              "    </tr>\n",
              "    <tr>\n",
              "      <th>4</th>\n",
              "      <td>149.80</td>\n",
              "    </tr>\n",
              "    <tr>\n",
              "      <th>5</th>\n",
              "      <td>149.80</td>\n",
              "    </tr>\n",
              "    <tr>\n",
              "      <th>6</th>\n",
              "      <td>149.71</td>\n",
              "    </tr>\n",
              "    <tr>\n",
              "      <th>7</th>\n",
              "      <td>150.21</td>\n",
              "    </tr>\n",
              "    <tr>\n",
              "      <th>8</th>\n",
              "      <td>149.75</td>\n",
              "    </tr>\n",
              "    <tr>\n",
              "      <th>9</th>\n",
              "      <td>150.10</td>\n",
              "    </tr>\n",
              "    <tr>\n",
              "      <th>10</th>\n",
              "      <td>150.15</td>\n",
              "    </tr>\n",
              "    <tr>\n",
              "      <th>11</th>\n",
              "      <td>150.10</td>\n",
              "    </tr>\n",
              "    <tr>\n",
              "      <th>12</th>\n",
              "      <td>150.00</td>\n",
              "    </tr>\n",
              "    <tr>\n",
              "      <th>13</th>\n",
              "      <td>150.40</td>\n",
              "    </tr>\n",
              "    <tr>\n",
              "      <th>14</th>\n",
              "      <td>149.91</td>\n",
              "    </tr>\n",
              "    <tr>\n",
              "      <th>15</th>\n",
              "      <td>150.10</td>\n",
              "    </tr>\n",
              "    <tr>\n",
              "      <th>16</th>\n",
              "      <td>150.09</td>\n",
              "    </tr>\n",
              "    <tr>\n",
              "      <th>17</th>\n",
              "      <td>150.00</td>\n",
              "    </tr>\n",
              "  </tbody>\n",
              "</table>\n",
              "</div>"
            ],
            "text/plain": [
              "         L\n",
              "0   149.81\n",
              "1   149.90\n",
              "2   150.10\n",
              "3   150.50\n",
              "4   149.80\n",
              "5   149.80\n",
              "6   149.71\n",
              "7   150.21\n",
              "8   149.75\n",
              "9   150.10\n",
              "10  150.15\n",
              "11  150.10\n",
              "12  150.00\n",
              "13  150.40\n",
              "14  149.91\n",
              "15  150.10\n",
              "16  150.09\n",
              "17  150.00"
            ]
          },
          "metadata": {},
          "execution_count": 3
        }
      ]
    },
    {
      "cell_type": "code",
      "metadata": {
        "colab": {
          "base_uri": "https://localhost:8080/"
        },
        "id": "IVLGV5Uke04N",
        "outputId": "80ec306d-1e2d-49e9-8dfc-89cfa9127148"
      },
      "source": [
        "#array_L = df.iloc[:, 0]\n",
        "array_L = df[ \"L\" ]\n",
        "array_L"
      ],
      "execution_count": 4,
      "outputs": [
        {
          "output_type": "execute_result",
          "data": {
            "text/plain": [
              "0     149.81\n",
              "1     149.90\n",
              "2     150.10\n",
              "3     150.50\n",
              "4     149.80\n",
              "5     149.80\n",
              "6     149.71\n",
              "7     150.21\n",
              "8     149.75\n",
              "9     150.10\n",
              "10    150.15\n",
              "11    150.10\n",
              "12    150.00\n",
              "13    150.40\n",
              "14    149.91\n",
              "15    150.10\n",
              "16    150.09\n",
              "17    150.00\n",
              "Name: L, dtype: float64"
            ]
          },
          "metadata": {},
          "execution_count": 4
        }
      ]
    },
    {
      "cell_type": "markdown",
      "metadata": {
        "id": "uc4hLQzie-s5"
      },
      "source": [
        "Desvio padrão populacional:"
      ]
    },
    {
      "cell_type": "code",
      "metadata": {
        "colab": {
          "base_uri": "https://localhost:8080/"
        },
        "id": "WZMqcrbve6Kb",
        "outputId": "d7a64b73-e27a-49bc-f4ae-4f2bbee2377d"
      },
      "source": [
        "media_L = np.mean( array_L )\n",
        "print ( \"Média (cm) = {}\".format( media_L ) )\n",
        "\n",
        "var_L_p = np.mean( array_L ** 2 ) - np.mean( array_L ) ** 2\n",
        "print ( \"Variância populacional (cm²) = {}\".format( var_L_p ) )"
      ],
      "execution_count": 5,
      "outputs": [
        {
          "output_type": "stream",
          "text": [
            "Média (cm) = 150.02388888888888\n",
            "Variância populacional (cm²) = 0.04417932099386235\n"
          ],
          "name": "stdout"
        }
      ]
    },
    {
      "cell_type": "code",
      "metadata": {
        "colab": {
          "base_uri": "https://localhost:8080/"
        },
        "id": "mlb6pjhNfaeS",
        "outputId": "3a594855-45fd-41d9-b841-523712367010"
      },
      "source": [
        "sigma_L_p = np.sqrt( var_L_p )\n",
        "print ( \"Desvio padrão populacional (cm) = {}\".format( sigma_L_p ) )"
      ],
      "execution_count": 6,
      "outputs": [
        {
          "output_type": "stream",
          "text": [
            "Desvio padrão populacional (cm) = 0.21018877466187946\n"
          ],
          "name": "stdout"
        }
      ]
    },
    {
      "cell_type": "code",
      "metadata": {
        "colab": {
          "base_uri": "https://localhost:8080/"
        },
        "id": "ZaCfTl0rfzvV",
        "outputId": "c9359412-3281-45d8-cb10-97785282c227"
      },
      "source": [
        "np.std( array_L, ddof=0 )"
      ],
      "execution_count": 7,
      "outputs": [
        {
          "output_type": "execute_result",
          "data": {
            "text/plain": [
              "0.21018877464711025"
            ]
          },
          "metadata": {},
          "execution_count": 7
        }
      ]
    },
    {
      "cell_type": "markdown",
      "metadata": {
        "id": "arfDAL_Uf9eo"
      },
      "source": [
        "Desvio padrão amostral:"
      ]
    },
    {
      "cell_type": "code",
      "metadata": {
        "colab": {
          "base_uri": "https://localhost:8080/"
        },
        "id": "WnLwblFmfwtL",
        "outputId": "f2fd7854-f66c-415e-b6c3-a11b7a5f0949"
      },
      "source": [
        "N = array_L.size # tamanho da sequência L\n",
        "print ( \"N = {}\".format( N ) )\n",
        "\n",
        "sigma_L_a = np.sqrt( N / (N - 1) ) * sigma_L_p\n",
        "print ( \"Desvio padrão amostral (cm) = {}\".format( sigma_L_a ) )"
      ],
      "execution_count": 8,
      "outputs": [
        {
          "output_type": "stream",
          "text": [
            "N = 18\n",
            "Desvio padrão amostral (cm) = 0.21628246480409966\n"
          ],
          "name": "stdout"
        }
      ]
    },
    {
      "cell_type": "code",
      "metadata": {
        "colab": {
          "base_uri": "https://localhost:8080/"
        },
        "id": "5bRHqJsbgLUE",
        "outputId": "17493082-5c7b-43d1-a5b6-13f25206b222"
      },
      "source": [
        "np.std( array_L, ddof=1 )"
      ],
      "execution_count": 9,
      "outputs": [
        {
          "output_type": "execute_result",
          "data": {
            "text/plain": [
              "0.21628246478890223"
            ]
          },
          "metadata": {},
          "execution_count": 9
        }
      ]
    },
    {
      "cell_type": "markdown",
      "metadata": {
        "id": "xL4GQKiUgiG0"
      },
      "source": [
        "Erro da média:"
      ]
    },
    {
      "cell_type": "code",
      "metadata": {
        "colab": {
          "base_uri": "https://localhost:8080/"
        },
        "id": "a-tNkXm8gd4a",
        "outputId": "a1dd4fb6-bccd-4100-8ee2-9be8bf955194"
      },
      "source": [
        "erro_media_L = sigma_L_a / np.sqrt( N )\n",
        "print ( \"Erro da média (cm) = {}\".format( erro_media_L ) )"
      ],
      "execution_count": 10,
      "outputs": [
        {
          "output_type": "stream",
          "text": [
            "Erro da média (cm) = 0.05097826583823989\n"
          ],
          "name": "stdout"
        }
      ]
    },
    {
      "cell_type": "markdown",
      "metadata": {
        "id": "KNSeSUy0gxyb"
      },
      "source": [
        "Estimativa do comprimento das mesas:"
      ]
    },
    {
      "cell_type": "code",
      "metadata": {
        "colab": {
          "base_uri": "https://localhost:8080/"
        },
        "id": "H3ivsFjHgtvi",
        "outputId": "f6ddf3dc-6ade-478c-c06b-9c27e1b9b551"
      },
      "source": [
        "print ( \"L = {:.2f} ± {:.2f} (cm)\".format( np.round( media_L, 2 ), np.round( erro_media_L, 2 ) ) )"
      ],
      "execution_count": 11,
      "outputs": [
        {
          "output_type": "stream",
          "text": [
            "L = 150.02 ± 0.05 (cm)\n"
          ],
          "name": "stdout"
        }
      ]
    },
    {
      "cell_type": "markdown",
      "metadata": {
        "id": "J4HeQOA2hm0Z"
      },
      "source": [
        "Distribuição das médias (Gaussiana):"
      ]
    },
    {
      "cell_type": "code",
      "metadata": {
        "colab": {
          "base_uri": "https://localhost:8080/",
          "height": 419
        },
        "id": "_8stF4bFhe6O",
        "outputId": "74af678d-9e1c-4994-e3d6-a2ab53446248"
      },
      "source": [
        "from scipy.stats import norm\n",
        "rv = norm( loc=media_L, scale=erro_media_L )\n",
        "\n",
        "fig = plt.figure( figsize=(8,6) )\n",
        "x_min = 149.50\n",
        "x_max = 150.50\n",
        "X = np.linspace( x_min, x_max, 500 )\n",
        "\n",
        "plt.plot( X, rv.pdf( X ), 'k-' )\n",
        "plt.xlim( x_min, x_max )\n",
        "plt.ylim( bottom=0. )\n",
        "plt.xlabel( r\"$\\overline{\\rm{L}}$ (cm)\", fontsize=18 )\n",
        "plt.ylabel( \"Distribuição\", fontsize=18 )"
      ],
      "execution_count": 12,
      "outputs": [
        {
          "output_type": "execute_result",
          "data": {
            "text/plain": [
              "Text(0, 0.5, 'Distribuição')"
            ]
          },
          "metadata": {},
          "execution_count": 12
        },
        {
          "output_type": "display_data",
          "data": {
            "image/png": "[encoded data removed]",
            "text/plain": [
              "<Figure size 576x432 with 1 Axes>"
            ]
          },
          "metadata": {
            "needs_background": "light"
          }
        }
      ]
    },
    {
      "cell_type": "code",
      "metadata": {
        "colab": {
          "base_uri": "https://localhost:8080/",
          "height": 178
        },
        "id": "8c7OWOHoiJWW",
        "outputId": "7ad10d4b-daa1-4be5-f9a1-52457947de1b"
      },
      "source": [
        "fig = plt.figure( figsize=(8,6) )\n",
        "\n",
        "media_menos_1sigma = media_L - erro_media_L\n",
        "media_mais_1sigma = media_L + erro_media_L\n",
        "media_menos_2sigma = media_L - 2 * erro_media_L\n",
        "media_mais_2sigma = media_L + 2 * erro_media_L\n",
        "media_menos_3sigma = media_L - 3 * erro_media_L\n",
        "media_mais_3sigma = media_L + 3 * erro_media_L\n",
        "\n",
        "ax = plt.axes([0,0,0.3,0.3]) #left,bottom,width,height\n",
        "ax.set_xticks([])\n",
        "ax.set_yticks([])\n",
        "ax.axis('off')\n",
        "\n",
        "str_ = r\"$\\overline{\\rm{L}} \\pm 1\\sigma_{\\overline{\\rm{L}}} = (%.2f,%.2f)$ (cm)\" % ( np.round( media_menos_1sigma, 2 ), np.round( media_mais_1sigma, 2 ) )\n",
        "ax.text(0., 0.75, str_, size=25)\n",
        "str_ = r\"$\\overline{\\rm{L}} \\pm 2\\sigma_{\\overline{\\rm{L}}} = (%.2f,%.2f)$ (cm)\" % ( np.round( media_menos_2sigma, 2 ), np.round( media_mais_2sigma, 2 ) )\n",
        "ax.text(0., 0.40, str_, size=25)\n",
        "str_ = r\"$\\overline{\\rm{L}} \\pm 3\\sigma_{\\overline{\\rm{L}}} = (%.2f,%.2f)$ (cm)\" % ( np.round( media_menos_3sigma, 2 ), np.round( media_mais_3sigma, 2 ) )\n",
        "ax.text(0., 0.05, str_, size=25)"
      ],
      "execution_count": 13,
      "outputs": [
        {
          "output_type": "execute_result",
          "data": {
            "text/plain": [
              "Text(0.0, 0.05, '$\\\\overline{\\\\rm{L}} \\\\pm 3\\\\sigma_{\\\\overline{\\\\rm{L}}} = (149.87,150.18)$ (cm)')"
            ]
          },
          "metadata": {},
          "execution_count": 13
        },
        {
          "output_type": "display_data",
          "data": {
            "image/png": "[encoded data removed]",
            "text/plain": [
              "<Figure size 576x432 with 1 Axes>"
            ]
          },
          "metadata": {}
        }
      ]
    },
    {
      "cell_type": "code",
      "metadata": {
        "colab": {
          "base_uri": "https://localhost:8080/",
          "height": 419
        },
        "id": "c_pifKg5klrU",
        "outputId": "136dab2b-5b41-4d1a-8cbe-037b786c5c8a"
      },
      "source": [
        "fig = plt.figure( figsize=(8,6) )\n",
        "X_1sigma = X[ (X >= media_menos_1sigma) & (X <= media_mais_1sigma) ]\n",
        "X_2sigma = X[ (X >= media_menos_2sigma) & (X <= media_mais_2sigma) ]\n",
        "X_3sigma = X[ (X >= media_menos_3sigma) & (X <= media_mais_3sigma) ]\n",
        "\n",
        "plt.plot( X, rv.pdf( X ), 'k-' )\n",
        "# plt.fill( np.concatenate( ( [ X_3sigma[0] ], X_3sigma, [ X_3sigma[-1] ] ) ), np.concatenate( ( [ 0. ], rv.pdf( X_3sigma ), [ 0. ] ) ), color=\"lightcoral\", alpha=0.75, label=r\"$3\\sigma$\" )\n",
        "# plt.fill( np.concatenate( ( [ X_2sigma[0] ], X_2sigma, [ X_2sigma[-1] ] ) ), np.concatenate( ( [ 0. ], rv.pdf( X_2sigma ), [ 0. ] ) ), color=\"deepskyblue\", alpha=0.90, label=r\"$2\\sigma$\" )\n",
        "# plt.fill( np.concatenate( ( [ X_1sigma[0] ], X_1sigma, [ X_1sigma[-1] ] ) ), np.concatenate( ( [ 0. ], rv.pdf( X_1sigma ), [ 0. ] ) ), color=\"steelblue\", alpha=0.75, label=r\"$1\\sigma$\" )\n",
        "plt.fill_between( X_3sigma, 0., rv.pdf( X_3sigma ), color=\"lightcoral\", alpha=0.50, label=r\"$3\\sigma$\" )\n",
        "plt.fill_between( X_2sigma, 0., rv.pdf( X_2sigma ), color=\"deepskyblue\", alpha=0.90, label=r\"$2\\sigma$\" )\n",
        "plt.fill_between( X_1sigma, 0., rv.pdf( X_1sigma ), color=\"steelblue\", alpha=0.90, label=r\"$1\\sigma$\" )\n",
        "# plt.legend( loc='best', fontsize=16 )\n",
        "handles, labels = plt.gca().get_legend_handles_labels()\n",
        "order_ = [ 2, 1, 0 ]\n",
        "handles_new = [ handles[idx_] for idx_ in order_ ]\n",
        "labels_new = [ labels[idx_] for idx_ in order_ ]\n",
        "#plt.legend( loc='best', fontsize=16 )\n",
        "plt.legend( handles_new, labels_new, loc='best', fontsize=16 )\n",
        "\n",
        "plt.xlim( x_min, x_max )\n",
        "plt.ylim( bottom=0. )\n",
        "plt.xlabel( r\"$\\overline{\\rm{L}}$ (cm)\", fontsize=18 )\n",
        "plt.ylabel( \"Distribuição\", fontsize=18 )"
      ],
      "execution_count": 14,
      "outputs": [
        {
          "output_type": "execute_result",
          "data": {
            "text/plain": [
              "Text(0, 0.5, 'Distribuição')"
            ]
          },
          "metadata": {},
          "execution_count": 14
        },
        {
          "output_type": "display_data",
          "data": {
            "image/png": "[encoded data removed]",
            "text/plain": [
              "<Figure size 576x432 with 1 Axes>"
            ]
          },
          "metadata": {
            "needs_background": "light"
          }
        }
      ]
    },
    {
      "cell_type": "code",
      "metadata": {
        "colab": {
          "base_uri": "https://localhost:8080/"
        },
        "id": "p9-qorH_qvUc",
        "outputId": "cd040652-ba68-46e0-de15-be041b4344b9"
      },
      "source": [
        "rv.cdf( media_mais_1sigma ) - rv.cdf( media_menos_1sigma )"
      ],
      "execution_count": 15,
      "outputs": [
        {
          "output_type": "execute_result",
          "data": {
            "text/plain": [
              "0.682689492137079"
            ]
          },
          "metadata": {},
          "execution_count": 15
        }
      ]
    },
    {
      "cell_type": "code",
      "metadata": {
        "colab": {
          "base_uri": "https://localhost:8080/"
        },
        "id": "27T3Syjgz857",
        "outputId": "fe293c2a-8ed9-4f81-877a-3b7d68d538cc"
      },
      "source": [
        "rv.cdf( media_mais_2sigma ) - rv.cdf( media_menos_2sigma )"
      ],
      "execution_count": 16,
      "outputs": [
        {
          "output_type": "execute_result",
          "data": {
            "text/plain": [
              "0.9544997361036385"
            ]
          },
          "metadata": {},
          "execution_count": 16
        }
      ]
    },
    {
      "cell_type": "code",
      "metadata": {
        "id": "Cu2_mDmQ0bVK",
        "colab": {
          "base_uri": "https://localhost:8080/"
        },
        "outputId": "b72d5f7f-246b-41b2-d597-bdd273fa4ece"
      },
      "source": [
        "rv.cdf( media_mais_3sigma ) - rv.cdf( media_menos_3sigma )"
      ],
      "execution_count": 17,
      "outputs": [
        {
          "output_type": "execute_result",
          "data": {
            "text/plain": [
              "0.9973002039367393"
            ]
          },
          "metadata": {},
          "execution_count": 17
        }
      ]
    }
  ]
}